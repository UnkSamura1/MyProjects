{
 "cells": [
  {
   "cell_type": "code",
   "id": "initial_id",
   "metadata": {
    "collapsed": true,
    "ExecuteTime": {
     "end_time": "2024-11-04T19:38:21.837850Z",
     "start_time": "2024-11-04T19:38:21.827854Z"
    }
   },
   "source": [
    "import seaborn as sns\n",
    "import pandas as pd\n",
    "from sklearn.model_selection import train_test_split\n",
    "from sklearn.ensemble import RandomForestRegressor\n",
    "from sklearn.metrics import mean_squared_error,mean_absolute_error,r2_score\n",
    "import optuna\n",
    "from sklearn.model_selection import cross_val_score\n",
    "import matplotlib.pyplot as plt\n",
    "import plotly"
   ],
   "outputs": [],
   "execution_count": 2
  },
  {
   "metadata": {
    "ExecuteTime": {
     "end_time": "2024-11-04T19:38:21.910421Z",
     "start_time": "2024-11-04T19:38:21.864406Z"
    }
   },
   "cell_type": "code",
   "source": [
    "healthexp = sns.load_dataset('healthexp')\n",
    "healthexp = pd.get_dummies(healthexp)\n",
    "X = healthexp.drop(['Life_Expectancy'],axis = 1)\n",
    "y = healthexp['Life_Expectancy']\n",
    "X_train, X_test,y_train,y_test = train_test_split(X,y,test_size=0.2,random_state=10)"
   ],
   "id": "f3a274466eaa2c04",
   "outputs": [],
   "execution_count": 3
  },
  {
   "metadata": {
    "ExecuteTime": {
     "end_time": "2024-11-04T19:38:21.974476Z",
     "start_time": "2024-11-04T19:38:21.959971Z"
    }
   },
   "cell_type": "code",
   "source": "rfr = RandomForestRegressor(random_state=10)",
   "id": "ff927dd4b8e08b1f",
   "outputs": [],
   "execution_count": 4
  },
  {
   "metadata": {
    "ExecuteTime": {
     "end_time": "2024-11-04T19:38:22.359625Z",
     "start_time": "2024-11-04T19:38:22.045589Z"
    }
   },
   "cell_type": "code",
   "source": "rfr.fit(X, y)",
   "id": "562834236bd9df24",
   "outputs": [
    {
     "data": {
      "text/plain": [
       "RandomForestRegressor(random_state=10)"
      ],
      "text/html": [
       "<style>#sk-container-id-1 {\n",
       "  /* Definition of color scheme common for light and dark mode */\n",
       "  --sklearn-color-text: black;\n",
       "  --sklearn-color-line: gray;\n",
       "  /* Definition of color scheme for unfitted estimators */\n",
       "  --sklearn-color-unfitted-level-0: #fff5e6;\n",
       "  --sklearn-color-unfitted-level-1: #f6e4d2;\n",
       "  --sklearn-color-unfitted-level-2: #ffe0b3;\n",
       "  --sklearn-color-unfitted-level-3: chocolate;\n",
       "  /* Definition of color scheme for fitted estimators */\n",
       "  --sklearn-color-fitted-level-0: #f0f8ff;\n",
       "  --sklearn-color-fitted-level-1: #d4ebff;\n",
       "  --sklearn-color-fitted-level-2: #b3dbfd;\n",
       "  --sklearn-color-fitted-level-3: cornflowerblue;\n",
       "\n",
       "  /* Specific color for light theme */\n",
       "  --sklearn-color-text-on-default-background: var(--sg-text-color, var(--theme-code-foreground, var(--jp-content-font-color1, black)));\n",
       "  --sklearn-color-background: var(--sg-background-color, var(--theme-background, var(--jp-layout-color0, white)));\n",
       "  --sklearn-color-border-box: var(--sg-text-color, var(--theme-code-foreground, var(--jp-content-font-color1, black)));\n",
       "  --sklearn-color-icon: #696969;\n",
       "\n",
       "  @media (prefers-color-scheme: dark) {\n",
       "    /* Redefinition of color scheme for dark theme */\n",
       "    --sklearn-color-text-on-default-background: var(--sg-text-color, var(--theme-code-foreground, var(--jp-content-font-color1, white)));\n",
       "    --sklearn-color-background: var(--sg-background-color, var(--theme-background, var(--jp-layout-color0, #111)));\n",
       "    --sklearn-color-border-box: var(--sg-text-color, var(--theme-code-foreground, var(--jp-content-font-color1, white)));\n",
       "    --sklearn-color-icon: #878787;\n",
       "  }\n",
       "}\n",
       "\n",
       "#sk-container-id-1 {\n",
       "  color: var(--sklearn-color-text);\n",
       "}\n",
       "\n",
       "#sk-container-id-1 pre {\n",
       "  padding: 0;\n",
       "}\n",
       "\n",
       "#sk-container-id-1 input.sk-hidden--visually {\n",
       "  border: 0;\n",
       "  clip: rect(1px 1px 1px 1px);\n",
       "  clip: rect(1px, 1px, 1px, 1px);\n",
       "  height: 1px;\n",
       "  margin: -1px;\n",
       "  overflow: hidden;\n",
       "  padding: 0;\n",
       "  position: absolute;\n",
       "  width: 1px;\n",
       "}\n",
       "\n",
       "#sk-container-id-1 div.sk-dashed-wrapped {\n",
       "  border: 1px dashed var(--sklearn-color-line);\n",
       "  margin: 0 0.4em 0.5em 0.4em;\n",
       "  box-sizing: border-box;\n",
       "  padding-bottom: 0.4em;\n",
       "  background-color: var(--sklearn-color-background);\n",
       "}\n",
       "\n",
       "#sk-container-id-1 div.sk-container {\n",
       "  /* jupyter's `normalize.less` sets `[hidden] { display: none; }`\n",
       "     but bootstrap.min.css set `[hidden] { display: none !important; }`\n",
       "     so we also need the `!important` here to be able to override the\n",
       "     default hidden behavior on the sphinx rendered scikit-learn.org.\n",
       "     See: https://github.com/scikit-learn/scikit-learn/issues/21755 */\n",
       "  display: inline-block !important;\n",
       "  position: relative;\n",
       "}\n",
       "\n",
       "#sk-container-id-1 div.sk-text-repr-fallback {\n",
       "  display: none;\n",
       "}\n",
       "\n",
       "div.sk-parallel-item,\n",
       "div.sk-serial,\n",
       "div.sk-item {\n",
       "  /* draw centered vertical line to link estimators */\n",
       "  background-image: linear-gradient(var(--sklearn-color-text-on-default-background), var(--sklearn-color-text-on-default-background));\n",
       "  background-size: 2px 100%;\n",
       "  background-repeat: no-repeat;\n",
       "  background-position: center center;\n",
       "}\n",
       "\n",
       "/* Parallel-specific style estimator block */\n",
       "\n",
       "#sk-container-id-1 div.sk-parallel-item::after {\n",
       "  content: \"\";\n",
       "  width: 100%;\n",
       "  border-bottom: 2px solid var(--sklearn-color-text-on-default-background);\n",
       "  flex-grow: 1;\n",
       "}\n",
       "\n",
       "#sk-container-id-1 div.sk-parallel {\n",
       "  display: flex;\n",
       "  align-items: stretch;\n",
       "  justify-content: center;\n",
       "  background-color: var(--sklearn-color-background);\n",
       "  position: relative;\n",
       "}\n",
       "\n",
       "#sk-container-id-1 div.sk-parallel-item {\n",
       "  display: flex;\n",
       "  flex-direction: column;\n",
       "}\n",
       "\n",
       "#sk-container-id-1 div.sk-parallel-item:first-child::after {\n",
       "  align-self: flex-end;\n",
       "  width: 50%;\n",
       "}\n",
       "\n",
       "#sk-container-id-1 div.sk-parallel-item:last-child::after {\n",
       "  align-self: flex-start;\n",
       "  width: 50%;\n",
       "}\n",
       "\n",
       "#sk-container-id-1 div.sk-parallel-item:only-child::after {\n",
       "  width: 0;\n",
       "}\n",
       "\n",
       "/* Serial-specific style estimator block */\n",
       "\n",
       "#sk-container-id-1 div.sk-serial {\n",
       "  display: flex;\n",
       "  flex-direction: column;\n",
       "  align-items: center;\n",
       "  background-color: var(--sklearn-color-background);\n",
       "  padding-right: 1em;\n",
       "  padding-left: 1em;\n",
       "}\n",
       "\n",
       "\n",
       "/* Toggleable style: style used for estimator/Pipeline/ColumnTransformer box that is\n",
       "clickable and can be expanded/collapsed.\n",
       "- Pipeline and ColumnTransformer use this feature and define the default style\n",
       "- Estimators will overwrite some part of the style using the `sk-estimator` class\n",
       "*/\n",
       "\n",
       "/* Pipeline and ColumnTransformer style (default) */\n",
       "\n",
       "#sk-container-id-1 div.sk-toggleable {\n",
       "  /* Default theme specific background. It is overwritten whether we have a\n",
       "  specific estimator or a Pipeline/ColumnTransformer */\n",
       "  background-color: var(--sklearn-color-background);\n",
       "}\n",
       "\n",
       "/* Toggleable label */\n",
       "#sk-container-id-1 label.sk-toggleable__label {\n",
       "  cursor: pointer;\n",
       "  display: block;\n",
       "  width: 100%;\n",
       "  margin-bottom: 0;\n",
       "  padding: 0.5em;\n",
       "  box-sizing: border-box;\n",
       "  text-align: center;\n",
       "}\n",
       "\n",
       "#sk-container-id-1 label.sk-toggleable__label-arrow:before {\n",
       "  /* Arrow on the left of the label */\n",
       "  content: \"▸\";\n",
       "  float: left;\n",
       "  margin-right: 0.25em;\n",
       "  color: var(--sklearn-color-icon);\n",
       "}\n",
       "\n",
       "#sk-container-id-1 label.sk-toggleable__label-arrow:hover:before {\n",
       "  color: var(--sklearn-color-text);\n",
       "}\n",
       "\n",
       "/* Toggleable content - dropdown */\n",
       "\n",
       "#sk-container-id-1 div.sk-toggleable__content {\n",
       "  max-height: 0;\n",
       "  max-width: 0;\n",
       "  overflow: hidden;\n",
       "  text-align: left;\n",
       "  /* unfitted */\n",
       "  background-color: var(--sklearn-color-unfitted-level-0);\n",
       "}\n",
       "\n",
       "#sk-container-id-1 div.sk-toggleable__content.fitted {\n",
       "  /* fitted */\n",
       "  background-color: var(--sklearn-color-fitted-level-0);\n",
       "}\n",
       "\n",
       "#sk-container-id-1 div.sk-toggleable__content pre {\n",
       "  margin: 0.2em;\n",
       "  border-radius: 0.25em;\n",
       "  color: var(--sklearn-color-text);\n",
       "  /* unfitted */\n",
       "  background-color: var(--sklearn-color-unfitted-level-0);\n",
       "}\n",
       "\n",
       "#sk-container-id-1 div.sk-toggleable__content.fitted pre {\n",
       "  /* unfitted */\n",
       "  background-color: var(--sklearn-color-fitted-level-0);\n",
       "}\n",
       "\n",
       "#sk-container-id-1 input.sk-toggleable__control:checked~div.sk-toggleable__content {\n",
       "  /* Expand drop-down */\n",
       "  max-height: 200px;\n",
       "  max-width: 100%;\n",
       "  overflow: auto;\n",
       "}\n",
       "\n",
       "#sk-container-id-1 input.sk-toggleable__control:checked~label.sk-toggleable__label-arrow:before {\n",
       "  content: \"▾\";\n",
       "}\n",
       "\n",
       "/* Pipeline/ColumnTransformer-specific style */\n",
       "\n",
       "#sk-container-id-1 div.sk-label input.sk-toggleable__control:checked~label.sk-toggleable__label {\n",
       "  color: var(--sklearn-color-text);\n",
       "  background-color: var(--sklearn-color-unfitted-level-2);\n",
       "}\n",
       "\n",
       "#sk-container-id-1 div.sk-label.fitted input.sk-toggleable__control:checked~label.sk-toggleable__label {\n",
       "  background-color: var(--sklearn-color-fitted-level-2);\n",
       "}\n",
       "\n",
       "/* Estimator-specific style */\n",
       "\n",
       "/* Colorize estimator box */\n",
       "#sk-container-id-1 div.sk-estimator input.sk-toggleable__control:checked~label.sk-toggleable__label {\n",
       "  /* unfitted */\n",
       "  background-color: var(--sklearn-color-unfitted-level-2);\n",
       "}\n",
       "\n",
       "#sk-container-id-1 div.sk-estimator.fitted input.sk-toggleable__control:checked~label.sk-toggleable__label {\n",
       "  /* fitted */\n",
       "  background-color: var(--sklearn-color-fitted-level-2);\n",
       "}\n",
       "\n",
       "#sk-container-id-1 div.sk-label label.sk-toggleable__label,\n",
       "#sk-container-id-1 div.sk-label label {\n",
       "  /* The background is the default theme color */\n",
       "  color: var(--sklearn-color-text-on-default-background);\n",
       "}\n",
       "\n",
       "/* On hover, darken the color of the background */\n",
       "#sk-container-id-1 div.sk-label:hover label.sk-toggleable__label {\n",
       "  color: var(--sklearn-color-text);\n",
       "  background-color: var(--sklearn-color-unfitted-level-2);\n",
       "}\n",
       "\n",
       "/* Label box, darken color on hover, fitted */\n",
       "#sk-container-id-1 div.sk-label.fitted:hover label.sk-toggleable__label.fitted {\n",
       "  color: var(--sklearn-color-text);\n",
       "  background-color: var(--sklearn-color-fitted-level-2);\n",
       "}\n",
       "\n",
       "/* Estimator label */\n",
       "\n",
       "#sk-container-id-1 div.sk-label label {\n",
       "  font-family: monospace;\n",
       "  font-weight: bold;\n",
       "  display: inline-block;\n",
       "  line-height: 1.2em;\n",
       "}\n",
       "\n",
       "#sk-container-id-1 div.sk-label-container {\n",
       "  text-align: center;\n",
       "}\n",
       "\n",
       "/* Estimator-specific */\n",
       "#sk-container-id-1 div.sk-estimator {\n",
       "  font-family: monospace;\n",
       "  border: 1px dotted var(--sklearn-color-border-box);\n",
       "  border-radius: 0.25em;\n",
       "  box-sizing: border-box;\n",
       "  margin-bottom: 0.5em;\n",
       "  /* unfitted */\n",
       "  background-color: var(--sklearn-color-unfitted-level-0);\n",
       "}\n",
       "\n",
       "#sk-container-id-1 div.sk-estimator.fitted {\n",
       "  /* fitted */\n",
       "  background-color: var(--sklearn-color-fitted-level-0);\n",
       "}\n",
       "\n",
       "/* on hover */\n",
       "#sk-container-id-1 div.sk-estimator:hover {\n",
       "  /* unfitted */\n",
       "  background-color: var(--sklearn-color-unfitted-level-2);\n",
       "}\n",
       "\n",
       "#sk-container-id-1 div.sk-estimator.fitted:hover {\n",
       "  /* fitted */\n",
       "  background-color: var(--sklearn-color-fitted-level-2);\n",
       "}\n",
       "\n",
       "/* Specification for estimator info (e.g. \"i\" and \"?\") */\n",
       "\n",
       "/* Common style for \"i\" and \"?\" */\n",
       "\n",
       ".sk-estimator-doc-link,\n",
       "a:link.sk-estimator-doc-link,\n",
       "a:visited.sk-estimator-doc-link {\n",
       "  float: right;\n",
       "  font-size: smaller;\n",
       "  line-height: 1em;\n",
       "  font-family: monospace;\n",
       "  background-color: var(--sklearn-color-background);\n",
       "  border-radius: 1em;\n",
       "  height: 1em;\n",
       "  width: 1em;\n",
       "  text-decoration: none !important;\n",
       "  margin-left: 1ex;\n",
       "  /* unfitted */\n",
       "  border: var(--sklearn-color-unfitted-level-1) 1pt solid;\n",
       "  color: var(--sklearn-color-unfitted-level-1);\n",
       "}\n",
       "\n",
       ".sk-estimator-doc-link.fitted,\n",
       "a:link.sk-estimator-doc-link.fitted,\n",
       "a:visited.sk-estimator-doc-link.fitted {\n",
       "  /* fitted */\n",
       "  border: var(--sklearn-color-fitted-level-1) 1pt solid;\n",
       "  color: var(--sklearn-color-fitted-level-1);\n",
       "}\n",
       "\n",
       "/* On hover */\n",
       "div.sk-estimator:hover .sk-estimator-doc-link:hover,\n",
       ".sk-estimator-doc-link:hover,\n",
       "div.sk-label-container:hover .sk-estimator-doc-link:hover,\n",
       ".sk-estimator-doc-link:hover {\n",
       "  /* unfitted */\n",
       "  background-color: var(--sklearn-color-unfitted-level-3);\n",
       "  color: var(--sklearn-color-background);\n",
       "  text-decoration: none;\n",
       "}\n",
       "\n",
       "div.sk-estimator.fitted:hover .sk-estimator-doc-link.fitted:hover,\n",
       ".sk-estimator-doc-link.fitted:hover,\n",
       "div.sk-label-container:hover .sk-estimator-doc-link.fitted:hover,\n",
       ".sk-estimator-doc-link.fitted:hover {\n",
       "  /* fitted */\n",
       "  background-color: var(--sklearn-color-fitted-level-3);\n",
       "  color: var(--sklearn-color-background);\n",
       "  text-decoration: none;\n",
       "}\n",
       "\n",
       "/* Span, style for the box shown on hovering the info icon */\n",
       ".sk-estimator-doc-link span {\n",
       "  display: none;\n",
       "  z-index: 9999;\n",
       "  position: relative;\n",
       "  font-weight: normal;\n",
       "  right: .2ex;\n",
       "  padding: .5ex;\n",
       "  margin: .5ex;\n",
       "  width: min-content;\n",
       "  min-width: 20ex;\n",
       "  max-width: 50ex;\n",
       "  color: var(--sklearn-color-text);\n",
       "  box-shadow: 2pt 2pt 4pt #999;\n",
       "  /* unfitted */\n",
       "  background: var(--sklearn-color-unfitted-level-0);\n",
       "  border: .5pt solid var(--sklearn-color-unfitted-level-3);\n",
       "}\n",
       "\n",
       ".sk-estimator-doc-link.fitted span {\n",
       "  /* fitted */\n",
       "  background: var(--sklearn-color-fitted-level-0);\n",
       "  border: var(--sklearn-color-fitted-level-3);\n",
       "}\n",
       "\n",
       ".sk-estimator-doc-link:hover span {\n",
       "  display: block;\n",
       "}\n",
       "\n",
       "/* \"?\"-specific style due to the `<a>` HTML tag */\n",
       "\n",
       "#sk-container-id-1 a.estimator_doc_link {\n",
       "  float: right;\n",
       "  font-size: 1rem;\n",
       "  line-height: 1em;\n",
       "  font-family: monospace;\n",
       "  background-color: var(--sklearn-color-background);\n",
       "  border-radius: 1rem;\n",
       "  height: 1rem;\n",
       "  width: 1rem;\n",
       "  text-decoration: none;\n",
       "  /* unfitted */\n",
       "  color: var(--sklearn-color-unfitted-level-1);\n",
       "  border: var(--sklearn-color-unfitted-level-1) 1pt solid;\n",
       "}\n",
       "\n",
       "#sk-container-id-1 a.estimator_doc_link.fitted {\n",
       "  /* fitted */\n",
       "  border: var(--sklearn-color-fitted-level-1) 1pt solid;\n",
       "  color: var(--sklearn-color-fitted-level-1);\n",
       "}\n",
       "\n",
       "/* On hover */\n",
       "#sk-container-id-1 a.estimator_doc_link:hover {\n",
       "  /* unfitted */\n",
       "  background-color: var(--sklearn-color-unfitted-level-3);\n",
       "  color: var(--sklearn-color-background);\n",
       "  text-decoration: none;\n",
       "}\n",
       "\n",
       "#sk-container-id-1 a.estimator_doc_link.fitted:hover {\n",
       "  /* fitted */\n",
       "  background-color: var(--sklearn-color-fitted-level-3);\n",
       "}\n",
       "</style><div id=\"sk-container-id-1\" class=\"sk-top-container\"><div class=\"sk-text-repr-fallback\"><pre>RandomForestRegressor(random_state=10)</pre><b>In a Jupyter environment, please rerun this cell to show the HTML representation or trust the notebook. <br />On GitHub, the HTML representation is unable to render, please try loading this page with nbviewer.org.</b></div><div class=\"sk-container\" hidden><div class=\"sk-item\"><div class=\"sk-estimator fitted sk-toggleable\"><input class=\"sk-toggleable__control sk-hidden--visually\" id=\"sk-estimator-id-1\" type=\"checkbox\" checked><label for=\"sk-estimator-id-1\" class=\"sk-toggleable__label fitted sk-toggleable__label-arrow fitted\">&nbsp;&nbsp;RandomForestRegressor<a class=\"sk-estimator-doc-link fitted\" rel=\"noreferrer\" target=\"_blank\" href=\"https://scikit-learn.org/1.5/modules/generated/sklearn.ensemble.RandomForestRegressor.html\">?<span>Documentation for RandomForestRegressor</span></a><span class=\"sk-estimator-doc-link fitted\">i<span>Fitted</span></span></label><div class=\"sk-toggleable__content fitted\"><pre>RandomForestRegressor(random_state=10)</pre></div> </div></div></div></div>"
      ]
     },
     "execution_count": 5,
     "metadata": {},
     "output_type": "execute_result"
    }
   ],
   "execution_count": 5
  },
  {
   "metadata": {
    "ExecuteTime": {
     "end_time": "2024-11-04T19:38:22.456539Z",
     "start_time": "2024-11-04T19:38:22.434919Z"
    }
   },
   "cell_type": "code",
   "source": "y_pred = rfr.predict(X_test)",
   "id": "f4f5c66bdf41e514",
   "outputs": [],
   "execution_count": 6
  },
  {
   "metadata": {
    "ExecuteTime": {
     "end_time": "2024-11-04T19:38:22.526500Z",
     "start_time": "2024-11-04T19:38:22.513280Z"
    }
   },
   "cell_type": "code",
   "source": "mean_squared_error(y_test,y_pred)",
   "id": "80a923eda471e9ba",
   "outputs": [
    {
     "data": {
      "text/plain": [
       "np.float64(0.020587381818181764)"
      ]
     },
     "execution_count": 7,
     "metadata": {},
     "output_type": "execute_result"
    }
   ],
   "execution_count": 7
  },
  {
   "metadata": {
    "ExecuteTime": {
     "end_time": "2024-11-04T19:38:22.593781Z",
     "start_time": "2024-11-04T19:38:22.581444Z"
    }
   },
   "cell_type": "code",
   "source": "mean_absolute_error(y_test,y_pred)",
   "id": "9cf53bdf4cc3e2b3",
   "outputs": [
    {
     "data": {
      "text/plain": [
       "np.float64(0.10316363636364011)"
      ]
     },
     "execution_count": 8,
     "metadata": {},
     "output_type": "execute_result"
    }
   ],
   "execution_count": 8
  },
  {
   "metadata": {
    "ExecuteTime": {
     "end_time": "2024-11-04T19:38:22.691894Z",
     "start_time": "2024-11-04T19:38:22.671572Z"
    }
   },
   "cell_type": "code",
   "source": "r2_score(y_test,y_pred)",
   "id": "d14ef2470c248a2d",
   "outputs": [
    {
     "data": {
      "text/plain": [
       "0.9979479667097655"
      ]
     },
     "execution_count": 9,
     "metadata": {},
     "output_type": "execute_result"
    }
   ],
   "execution_count": 9
  },
  {
   "metadata": {
    "ExecuteTime": {
     "end_time": "2024-11-04T19:38:22.756841Z",
     "start_time": "2024-11-04T19:38:22.746849Z"
    }
   },
   "cell_type": "code",
   "source": [
    "def objective(trial):\n",
    "    n_estimators = trial.suggest_int('n_estimators', 100, 1000)\n",
    "    max_depth = trial.suggest_int('max_depth',10,15)\n",
    "    min_samples_split = trial.suggest_int('min_samples_split', 2, 32)\n",
    "    min_samples_leaf = trial.suggest_int('min_samples_leaf', 1, 32)\n",
    "    \n",
    "    model = RandomForestRegressor(n_estimators=n_estimators,\n",
    "                                  max_depth=max_depth,\n",
    "                                  min_samples_split= min_samples_split,\n",
    "                                  min_samples_leaf= min_samples_leaf)\n",
    "    \n",
    "    score = cross_val_score(model, X_train, y_train, cv= 5, scoring= 'neg_mean_squared_error').mean()\n",
    "    \n",
    "    return score"
   ],
   "id": "47cd61a8b8cb20dd",
   "outputs": [],
   "execution_count": 10
  },
  {
   "metadata": {
    "ExecuteTime": {
     "end_time": "2024-11-04T19:38:22.816001Z",
     "start_time": "2024-11-04T19:38:22.802636Z"
    }
   },
   "cell_type": "code",
   "source": "study = optuna.create_study(direction = 'maximize', sampler = optuna.samplers.RandomSampler(seed = 10))",
   "id": "6b70e14088225977",
   "outputs": [
    {
     "name": "stderr",
     "output_type": "stream",
     "text": [
      "[I 2024-11-04 23:38:22,810] A new study created in memory with name: no-name-4d1935a8-0620-4694-b9fb-57d58fbd52ed\n"
     ]
    }
   ],
   "execution_count": 11
  },
  {
   "metadata": {
    "ExecuteTime": {
     "end_time": "2024-11-04T19:55:18.642613Z",
     "start_time": "2024-11-04T19:39:00.117018Z"
    }
   },
   "cell_type": "code",
   "source": "study.optimize(objective,n_trials = 200)",
   "id": "5aa19cab194dc220",
   "outputs": [
    {
     "name": "stderr",
     "output_type": "stream",
     "text": [
      "[I 2024-11-04 23:39:03,432] Trial 2 finished with value: -3.284343275829557 and parameters: {'n_estimators': 252, 'max_depth': 10, 'min_samples_split': 23, 'min_samples_leaf': 31}. Best is trial 0 with value: -2.4106863909222307.\n",
      "[I 2024-11-04 23:39:04,924] Trial 3 finished with value: -2.1989724944807163 and parameters: {'n_estimators': 103, 'max_depth': 13, 'min_samples_split': 27, 'min_samples_leaf': 20}. Best is trial 3 with value: -2.1989724944807163.\n",
      "[I 2024-11-04 23:39:15,701] Trial 4 finished with value: -2.3226829137249885 and parameters: {'n_estimators': 750, 'max_depth': 11, 'min_samples_split': 30, 'min_samples_leaf': 23}. Best is trial 3 with value: -2.1989724944807163.\n",
      "[I 2024-11-04 23:39:21,193] Trial 5 finished with value: -2.2759861646693196 and parameters: {'n_estimators': 588, 'max_depth': 10, 'min_samples_split': 13, 'min_samples_leaf': 22}. Best is trial 3 with value: -2.1989724944807163.\n",
      "[I 2024-11-04 23:39:26,051] Trial 6 finished with value: -2.1026134822151126 and parameters: {'n_estimators': 498, 'max_depth': 12, 'min_samples_split': 21, 'min_samples_leaf': 17}. Best is trial 6 with value: -2.1026134822151126.\n",
      "[I 2024-11-04 23:39:32,280] Trial 7 finished with value: -2.1023286551326565 and parameters: {'n_estimators': 686, 'max_depth': 13, 'min_samples_split': 26, 'min_samples_leaf': 17}. Best is trial 7 with value: -2.1023286551326565.\n",
      "[I 2024-11-04 23:39:40,874] Trial 8 finished with value: -1.5447407862361637 and parameters: {'n_estimators': 918, 'max_depth': 11, 'min_samples_split': 4, 'min_samples_leaf': 10}. Best is trial 8 with value: -1.5447407862361637.\n",
      "[I 2024-11-04 23:39:42,999] Trial 9 finished with value: -2.2227363297123652 and parameters: {'n_estimators': 202, 'max_depth': 14, 'min_samples_split': 3, 'min_samples_leaf': 21}. Best is trial 8 with value: -1.5447407862361637.\n",
      "[I 2024-11-04 23:39:48,015] Trial 10 finished with value: -2.9249221530653506 and parameters: {'n_estimators': 593, 'max_depth': 14, 'min_samples_split': 8, 'min_samples_leaf': 28}. Best is trial 8 with value: -1.5447407862361637.\n",
      "[I 2024-11-04 23:39:51,499] Trial 11 finished with value: -3.0047030373409243 and parameters: {'n_estimators': 416, 'max_depth': 14, 'min_samples_split': 11, 'min_samples_leaf': 29}. Best is trial 8 with value: -1.5447407862361637.\n",
      "[I 2024-11-04 23:39:55,109] Trial 12 finished with value: -0.5989714070341489 and parameters: {'n_estimators': 393, 'max_depth': 10, 'min_samples_split': 14, 'min_samples_leaf': 3}. Best is trial 12 with value: -0.5989714070341489.\n",
      "[I 2024-11-04 23:40:02,054] Trial 13 finished with value: -3.2950556465486818 and parameters: {'n_estimators': 839, 'max_depth': 10, 'min_samples_split': 13, 'min_samples_leaf': 31}. Best is trial 12 with value: -0.5989714070341489.\n",
      "[I 2024-11-04 23:40:10,618] Trial 14 finished with value: -1.5703755468415594 and parameters: {'n_estimators': 989, 'max_depth': 12, 'min_samples_split': 27, 'min_samples_leaf': 9}. Best is trial 12 with value: -0.5989714070341489.\n",
      "[I 2024-11-04 23:40:16,198] Trial 15 finished with value: -2.1528563798092457 and parameters: {'n_estimators': 638, 'max_depth': 15, 'min_samples_split': 18, 'min_samples_leaf': 19}. Best is trial 12 with value: -0.5989714070341489.\n",
      "[I 2024-11-04 23:40:17,446] Trial 16 finished with value: -1.5430989544029612 and parameters: {'n_estimators': 135, 'max_depth': 12, 'min_samples_split': 4, 'min_samples_leaf': 10}. Best is trial 12 with value: -0.5989714070341489.\n",
      "[I 2024-11-04 23:40:20,907] Trial 17 finished with value: -1.9349474071387576 and parameters: {'n_estimators': 397, 'max_depth': 14, 'min_samples_split': 3, 'min_samples_leaf': 14}. Best is trial 12 with value: -0.5989714070341489.\n",
      "[I 2024-11-04 23:40:24,519] Trial 18 finished with value: -0.49309126905191525 and parameters: {'n_estimators': 383, 'max_depth': 13, 'min_samples_split': 12, 'min_samples_leaf': 2}. Best is trial 18 with value: -0.49309126905191525.\n",
      "[I 2024-11-04 23:40:32,161] Trial 19 finished with value: -1.9378370778735114 and parameters: {'n_estimators': 892, 'max_depth': 14, 'min_samples_split': 29, 'min_samples_leaf': 14}. Best is trial 18 with value: -0.49309126905191525.\n",
      "[I 2024-11-04 23:40:37,881] Trial 20 finished with value: -1.447626605369622 and parameters: {'n_estimators': 645, 'max_depth': 13, 'min_samples_split': 20, 'min_samples_leaf': 9}. Best is trial 18 with value: -0.49309126905191525.\n",
      "[I 2024-11-04 23:40:41,239] Trial 21 finished with value: -1.277845313534931 and parameters: {'n_estimators': 371, 'max_depth': 10, 'min_samples_split': 11, 'min_samples_leaf': 8}. Best is trial 18 with value: -0.49309126905191525.\n",
      "[I 2024-11-04 23:40:47,838] Trial 22 finished with value: -1.5415914117373133 and parameters: {'n_estimators': 602, 'max_depth': 13, 'min_samples_split': 16, 'min_samples_leaf': 10}. Best is trial 18 with value: -0.49309126905191525.\n",
      "[I 2024-11-04 23:40:49,638] Trial 23 finished with value: -2.0677919837123824 and parameters: {'n_estimators': 157, 'max_depth': 15, 'min_samples_split': 12, 'min_samples_leaf': 16}. Best is trial 18 with value: -0.49309126905191525.\n",
      "[I 2024-11-04 23:40:58,578] Trial 24 finished with value: -2.100660057491238 and parameters: {'n_estimators': 980, 'max_depth': 12, 'min_samples_split': 11, 'min_samples_leaf': 17}. Best is trial 18 with value: -0.49309126905191525.\n",
      "[I 2024-11-04 23:41:04,006] Trial 25 finished with value: -1.9989595897643908 and parameters: {'n_estimators': 620, 'max_depth': 15, 'min_samples_split': 4, 'min_samples_leaf': 15}. Best is trial 18 with value: -0.49309126905191525.\n",
      "[I 2024-11-04 23:41:11,240] Trial 26 finished with value: -0.7757669119254942 and parameters: {'n_estimators': 804, 'max_depth': 14, 'min_samples_split': 20, 'min_samples_leaf': 2}. Best is trial 18 with value: -0.49309126905191525.\n",
      "[I 2024-11-04 23:41:15,040] Trial 27 finished with value: -2.1005915643569386 and parameters: {'n_estimators': 415, 'max_depth': 13, 'min_samples_split': 11, 'min_samples_leaf': 17}. Best is trial 18 with value: -0.49309126905191525.\n",
      "[I 2024-11-04 23:41:21,229] Trial 28 finished with value: -1.6509802073668147 and parameters: {'n_estimators': 706, 'max_depth': 10, 'min_samples_split': 3, 'min_samples_leaf': 11}. Best is trial 18 with value: -0.49309126905191525.\n",
      "[I 2024-11-04 23:41:22,995] Trial 29 finished with value: -1.8304970754985224 and parameters: {'n_estimators': 197, 'max_depth': 11, 'min_samples_split': 29, 'min_samples_leaf': 12}. Best is trial 18 with value: -0.49309126905191525.\n",
      "[I 2024-11-04 23:41:25,526] Trial 30 finished with value: -2.4177692444712475 and parameters: {'n_estimators': 297, 'max_depth': 14, 'min_samples_split': 5, 'min_samples_leaf': 24}. Best is trial 18 with value: -0.49309126905191525.\n",
      "[I 2024-11-04 23:41:30,263] Trial 31 finished with value: -0.9200764232169153 and parameters: {'n_estimators': 523, 'max_depth': 13, 'min_samples_split': 6, 'min_samples_leaf': 6}. Best is trial 18 with value: -0.49309126905191525.\n",
      "[I 2024-11-04 23:41:36,064] Trial 32 finished with value: -2.1283297161047026 and parameters: {'n_estimators': 681, 'max_depth': 10, 'min_samples_split': 9, 'min_samples_leaf': 18}. Best is trial 18 with value: -0.49309126905191525.\n",
      "[I 2024-11-04 23:41:38,648] Trial 33 finished with value: -3.1931192177740657 and parameters: {'n_estimators': 304, 'max_depth': 12, 'min_samples_split': 30, 'min_samples_leaf': 30}. Best is trial 18 with value: -0.49309126905191525.\n",
      "[I 2024-11-04 23:41:43,855] Trial 34 finished with value: -3.4344068514268877 and parameters: {'n_estimators': 610, 'max_depth': 13, 'min_samples_split': 2, 'min_samples_leaf': 32}. Best is trial 18 with value: -0.49309126905191525.\n",
      "[I 2024-11-04 23:41:49,059] Trial 35 finished with value: -3.0465618295992742 and parameters: {'n_estimators': 616, 'max_depth': 14, 'min_samples_split': 19, 'min_samples_leaf': 29}. Best is trial 18 with value: -0.49309126905191525.\n",
      "[I 2024-11-04 23:41:54,510] Trial 36 finished with value: -1.9357636422566231 and parameters: {'n_estimators': 626, 'max_depth': 14, 'min_samples_split': 6, 'min_samples_leaf': 14}. Best is trial 18 with value: -0.49309126905191525.\n",
      "[I 2024-11-04 23:42:00,933] Trial 37 finished with value: -0.9344677012942256 and parameters: {'n_estimators': 725, 'max_depth': 10, 'min_samples_split': 15, 'min_samples_leaf': 6}. Best is trial 18 with value: -0.49309126905191525.\n",
      "[I 2024-11-04 23:42:05,601] Trial 38 finished with value: -2.648886859849614 and parameters: {'n_estimators': 556, 'max_depth': 14, 'min_samples_split': 4, 'min_samples_leaf': 26}. Best is trial 18 with value: -0.49309126905191525.\n",
      "[I 2024-11-04 23:42:10,853] Trial 39 finished with value: -1.9310625873701088 and parameters: {'n_estimators': 609, 'max_depth': 13, 'min_samples_split': 8, 'min_samples_leaf': 14}. Best is trial 18 with value: -0.49309126905191525.\n",
      "[I 2024-11-04 23:42:14,135] Trial 40 finished with value: -2.0028704571799194 and parameters: {'n_estimators': 366, 'max_depth': 10, 'min_samples_split': 2, 'min_samples_leaf': 15}. Best is trial 18 with value: -0.49309126905191525.\n",
      "[I 2024-11-04 23:42:21,013] Trial 41 finished with value: -0.9270178902811104 and parameters: {'n_estimators': 771, 'max_depth': 13, 'min_samples_split': 13, 'min_samples_leaf': 6}. Best is trial 18 with value: -0.49309126905191525.\n",
      "[I 2024-11-04 23:42:28,100] Trial 42 finished with value: -2.9269648422619876 and parameters: {'n_estimators': 855, 'max_depth': 13, 'min_samples_split': 26, 'min_samples_leaf': 28}. Best is trial 18 with value: -0.49309126905191525.\n",
      "[I 2024-11-04 23:42:33,853] Trial 43 finished with value: -0.8174499137927207 and parameters: {'n_estimators': 643, 'max_depth': 14, 'min_samples_split': 21, 'min_samples_leaf': 1}. Best is trial 18 with value: -0.49309126905191525.\n",
      "[I 2024-11-04 23:42:40,498] Trial 44 finished with value: -2.100582700509782 and parameters: {'n_estimators': 776, 'max_depth': 11, 'min_samples_split': 16, 'min_samples_leaf': 17}. Best is trial 18 with value: -0.49309126905191525.\n",
      "[I 2024-11-04 23:42:45,818] Trial 45 finished with value: -0.3189918350232037 and parameters: {'n_estimators': 536, 'max_depth': 15, 'min_samples_split': 7, 'min_samples_leaf': 1}. Best is trial 45 with value: -0.3189918350232037.\n",
      "[I 2024-11-04 23:42:53,209] Trial 46 finished with value: -1.9329047435585427 and parameters: {'n_estimators': 864, 'max_depth': 14, 'min_samples_split': 16, 'min_samples_leaf': 14}. Best is trial 45 with value: -0.3189918350232037.\n",
      "[I 2024-11-04 23:42:54,976] Trial 47 finished with value: -2.3176992384241673 and parameters: {'n_estimators': 205, 'max_depth': 12, 'min_samples_split': 4, 'min_samples_leaf': 23}. Best is trial 45 with value: -0.3189918350232037.\n",
      "[I 2024-11-04 23:42:56,498] Trial 48 finished with value: -1.5609559126365269 and parameters: {'n_estimators': 169, 'max_depth': 11, 'min_samples_split': 19, 'min_samples_leaf': 10}. Best is trial 45 with value: -0.3189918350232037.\n",
      "[I 2024-11-04 23:43:02,907] Trial 49 finished with value: -0.5409192779828154 and parameters: {'n_estimators': 690, 'max_depth': 14, 'min_samples_split': 12, 'min_samples_leaf': 3}. Best is trial 45 with value: -0.3189918350232037.\n",
      "[I 2024-11-04 23:43:09,829] Trial 50 finished with value: -2.9269027316478837 and parameters: {'n_estimators': 832, 'max_depth': 14, 'min_samples_split': 14, 'min_samples_leaf': 28}. Best is trial 45 with value: -0.3189918350232037.\n",
      "[I 2024-11-04 23:43:13,751] Trial 51 finished with value: -2.3997764422298657 and parameters: {'n_estimators': 446, 'max_depth': 11, 'min_samples_split': 27, 'min_samples_leaf': 24}. Best is trial 45 with value: -0.3189918350232037.\n",
      "[I 2024-11-04 23:43:18,475] Trial 52 finished with value: -3.0377701668462542 and parameters: {'n_estimators': 557, 'max_depth': 13, 'min_samples_split': 8, 'min_samples_leaf': 29}. Best is trial 45 with value: -0.3189918350232037.\n",
      "[I 2024-11-04 23:43:26,870] Trial 53 finished with value: -1.678505528475257 and parameters: {'n_estimators': 970, 'max_depth': 11, 'min_samples_split': 28, 'min_samples_leaf': 10}. Best is trial 45 with value: -0.3189918350232037.\n",
      "[I 2024-11-04 23:43:28,073] Trial 54 finished with value: -0.4514125756813536 and parameters: {'n_estimators': 122, 'max_depth': 10, 'min_samples_split': 7, 'min_samples_leaf': 3}. Best is trial 45 with value: -0.3189918350232037.\n",
      "[I 2024-11-04 23:43:31,063] Trial 55 finished with value: -0.8139169194148861 and parameters: {'n_estimators': 331, 'max_depth': 15, 'min_samples_split': 16, 'min_samples_leaf': 5}. Best is trial 45 with value: -0.3189918350232037.\n",
      "[I 2024-11-04 23:43:38,019] Trial 56 finished with value: -2.9238423710414096 and parameters: {'n_estimators': 829, 'max_depth': 12, 'min_samples_split': 2, 'min_samples_leaf': 28}. Best is trial 45 with value: -0.3189918350232037.\n",
      "[I 2024-11-04 23:43:40,941] Trial 57 finished with value: -2.686442941714101 and parameters: {'n_estimators': 347, 'max_depth': 14, 'min_samples_split': 13, 'min_samples_leaf': 26}. Best is trial 45 with value: -0.3189918350232037.\n",
      "[I 2024-11-04 23:43:49,492] Trial 58 finished with value: -0.7889232839434953 and parameters: {'n_estimators': 861, 'max_depth': 13, 'min_samples_split': 19, 'min_samples_leaf': 4}. Best is trial 45 with value: -0.3189918350232037.\n",
      "[I 2024-11-04 23:43:53,421] Trial 59 finished with value: -3.052164350009369 and parameters: {'n_estimators': 440, 'max_depth': 12, 'min_samples_split': 17, 'min_samples_leaf': 29}. Best is trial 45 with value: -0.3189918350232037.\n",
      "[I 2024-11-04 23:43:56,643] Trial 60 finished with value: -1.905963978326422 and parameters: {'n_estimators': 370, 'max_depth': 12, 'min_samples_split': 26, 'min_samples_leaf': 14}. Best is trial 45 with value: -0.3189918350232037.\n",
      "[I 2024-11-04 23:43:59,068] Trial 61 finished with value: -0.7474605655125964 and parameters: {'n_estimators': 266, 'max_depth': 15, 'min_samples_split': 19, 'min_samples_leaf': 2}. Best is trial 45 with value: -0.3189918350232037.\n",
      "[I 2024-11-04 23:44:07,638] Trial 62 finished with value: -1.7539616536430405 and parameters: {'n_estimators': 991, 'max_depth': 11, 'min_samples_split': 21, 'min_samples_leaf': 12}. Best is trial 45 with value: -0.3189918350232037.\n",
      "[I 2024-11-04 23:44:14,896] Trial 63 finished with value: -1.6603833684438207 and parameters: {'n_estimators': 823, 'max_depth': 13, 'min_samples_split': 27, 'min_samples_leaf': 10}. Best is trial 45 with value: -0.3189918350232037.\n",
      "[I 2024-11-04 23:44:17,901] Trial 64 finished with value: -2.3310252314377182 and parameters: {'n_estimators': 347, 'max_depth': 13, 'min_samples_split': 31, 'min_samples_leaf': 23}. Best is trial 45 with value: -0.3189918350232037.\n",
      "[I 2024-11-04 23:44:20,761] Trial 65 finished with value: -3.40019046039741 and parameters: {'n_estimators': 337, 'max_depth': 10, 'min_samples_split': 16, 'min_samples_leaf': 32}. Best is trial 45 with value: -0.3189918350232037.\n",
      "[I 2024-11-04 23:44:26,716] Trial 66 finished with value: -3.2965808029020662 and parameters: {'n_estimators': 713, 'max_depth': 11, 'min_samples_split': 3, 'min_samples_leaf': 31}. Best is trial 45 with value: -0.3189918350232037.\n",
      "[I 2024-11-04 23:44:34,062] Trial 67 finished with value: -2.196934784523615 and parameters: {'n_estimators': 873, 'max_depth': 14, 'min_samples_split': 31, 'min_samples_leaf': 20}. Best is trial 45 with value: -0.3189918350232037.\n",
      "[I 2024-11-04 23:44:43,127] Trial 68 finished with value: -1.757610894076733 and parameters: {'n_estimators': 938, 'max_depth': 10, 'min_samples_split': 5, 'min_samples_leaf': 12}. Best is trial 45 with value: -0.3189918350232037.\n",
      "[I 2024-11-04 23:44:51,720] Trial 69 finished with value: -0.8178541415924769 and parameters: {'n_estimators': 790, 'max_depth': 11, 'min_samples_split': 21, 'min_samples_leaf': 1}. Best is trial 45 with value: -0.3189918350232037.\n",
      "[I 2024-11-04 23:44:56,691] Trial 70 finished with value: -3.3190573398121783 and parameters: {'n_estimators': 589, 'max_depth': 12, 'min_samples_split': 29, 'min_samples_leaf': 31}. Best is trial 45 with value: -0.3189918350232037.\n",
      "[I 2024-11-04 23:45:00,649] Trial 71 finished with value: -1.1603152252015103 and parameters: {'n_estimators': 446, 'max_depth': 12, 'min_samples_split': 29, 'min_samples_leaf': 2}. Best is trial 45 with value: -0.3189918350232037.\n",
      "[I 2024-11-04 23:45:04,548] Trial 72 finished with value: -2.626952465123625 and parameters: {'n_estimators': 465, 'max_depth': 10, 'min_samples_split': 4, 'min_samples_leaf': 26}. Best is trial 45 with value: -0.3189918350232037.\n",
      "[I 2024-11-04 23:45:07,709] Trial 73 finished with value: -3.0360532606044943 and parameters: {'n_estimators': 374, 'max_depth': 13, 'min_samples_split': 29, 'min_samples_leaf': 29}. Best is trial 45 with value: -0.3189918350232037.\n",
      "[I 2024-11-04 23:45:13,509] Trial 74 finished with value: -1.5387019901585268 and parameters: {'n_estimators': 641, 'max_depth': 13, 'min_samples_split': 3, 'min_samples_leaf': 10}. Best is trial 45 with value: -0.3189918350232037.\n",
      "[I 2024-11-04 23:45:19,776] Trial 75 finished with value: -2.094920981263411 and parameters: {'n_estimators': 723, 'max_depth': 11, 'min_samples_split': 26, 'min_samples_leaf': 17}. Best is trial 45 with value: -0.3189918350232037.\n",
      "[I 2024-11-04 23:45:26,618] Trial 76 finished with value: -2.054773333024976 and parameters: {'n_estimators': 782, 'max_depth': 11, 'min_samples_split': 4, 'min_samples_leaf': 16}. Best is trial 45 with value: -0.3189918350232037.\n",
      "[I 2024-11-04 23:45:31,546] Trial 77 finished with value: -2.267074998713319 and parameters: {'n_estimators': 576, 'max_depth': 14, 'min_samples_split': 8, 'min_samples_leaf': 22}. Best is trial 45 with value: -0.3189918350232037.\n",
      "[I 2024-11-04 23:45:38,277] Trial 78 finished with value: -3.4448274005432267 and parameters: {'n_estimators': 814, 'max_depth': 10, 'min_samples_split': 31, 'min_samples_leaf': 32}. Best is trial 45 with value: -0.3189918350232037.\n",
      "[I 2024-11-04 23:45:43,997] Trial 79 finished with value: -0.47685443373070946 and parameters: {'n_estimators': 596, 'max_depth': 10, 'min_samples_split': 12, 'min_samples_leaf': 1}. Best is trial 45 with value: -0.3189918350232037.\n",
      "[I 2024-11-04 23:45:52,545] Trial 80 finished with value: -2.3290758585383182 and parameters: {'n_estimators': 821, 'max_depth': 11, 'min_samples_split': 6, 'min_samples_leaf': 23}. Best is trial 45 with value: -0.3189918350232037.\n",
      "[I 2024-11-04 23:45:53,877] Trial 81 finished with value: -3.440546185140582 and parameters: {'n_estimators': 152, 'max_depth': 11, 'min_samples_split': 17, 'min_samples_leaf': 32}. Best is trial 45 with value: -0.3189918350232037.\n",
      "[I 2024-11-04 23:45:56,018] Trial 82 finished with value: -0.8275887619257715 and parameters: {'n_estimators': 232, 'max_depth': 12, 'min_samples_split': 20, 'min_samples_leaf': 4}. Best is trial 45 with value: -0.3189918350232037.\n",
      "[I 2024-11-04 23:45:59,102] Trial 83 finished with value: -2.7670673232418626 and parameters: {'n_estimators': 360, 'max_depth': 14, 'min_samples_split': 19, 'min_samples_leaf': 27}. Best is trial 45 with value: -0.3189918350232037.\n",
      "[I 2024-11-04 23:46:04,371] Trial 84 finished with value: -3.0401375971891724 and parameters: {'n_estimators': 622, 'max_depth': 11, 'min_samples_split': 21, 'min_samples_leaf': 29}. Best is trial 45 with value: -0.3189918350232037.\n",
      "[I 2024-11-04 23:46:09,141] Trial 85 finished with value: -3.146297220372183 and parameters: {'n_estimators': 565, 'max_depth': 13, 'min_samples_split': 17, 'min_samples_leaf': 30}. Best is trial 45 with value: -0.3189918350232037.\n",
      "[I 2024-11-04 23:46:13,547] Trial 86 finished with value: -0.7709228469741752 and parameters: {'n_estimators': 472, 'max_depth': 13, 'min_samples_split': 12, 'min_samples_leaf': 5}. Best is trial 45 with value: -0.3189918350232037.\n",
      "[I 2024-11-04 23:46:19,457] Trial 87 finished with value: -2.7920081926244715 and parameters: {'n_estimators': 697, 'max_depth': 15, 'min_samples_split': 20, 'min_samples_leaf': 27}. Best is trial 45 with value: -0.3189918350232037.\n",
      "[I 2024-11-04 23:46:22,164] Trial 88 finished with value: -1.270637807527762 and parameters: {'n_estimators': 296, 'max_depth': 15, 'min_samples_split': 2, 'min_samples_leaf': 8}. Best is trial 45 with value: -0.3189918350232037.\n",
      "[I 2024-11-04 23:46:24,072] Trial 89 finished with value: -2.1555400636449873 and parameters: {'n_estimators': 218, 'max_depth': 15, 'min_samples_split': 30, 'min_samples_leaf': 19}. Best is trial 45 with value: -0.3189918350232037.\n",
      "[I 2024-11-04 23:46:25,621] Trial 90 finished with value: -2.4092148588340967 and parameters: {'n_estimators': 178, 'max_depth': 10, 'min_samples_split': 25, 'min_samples_leaf': 24}. Best is trial 45 with value: -0.3189918350232037.\n",
      "[I 2024-11-04 23:46:27,233] Trial 91 finished with value: -1.074605115464937 and parameters: {'n_estimators': 178, 'max_depth': 12, 'min_samples_split': 25, 'min_samples_leaf': 5}. Best is trial 45 with value: -0.3189918350232037.\n",
      "[I 2024-11-04 23:46:32,171] Trial 92 finished with value: -2.1736060088488323 and parameters: {'n_estimators': 584, 'max_depth': 14, 'min_samples_split': 10, 'min_samples_leaf': 19}. Best is trial 45 with value: -0.3189918350232037.\n",
      "[I 2024-11-04 23:46:36,704] Trial 93 finished with value: -2.3202582410778585 and parameters: {'n_estimators': 529, 'max_depth': 13, 'min_samples_split': 15, 'min_samples_leaf': 23}. Best is trial 45 with value: -0.3189918350232037.\n",
      "[I 2024-11-04 23:46:43,115] Trial 94 finished with value: -2.260756283780414 and parameters: {'n_estimators': 747, 'max_depth': 14, 'min_samples_split': 3, 'min_samples_leaf': 22}. Best is trial 45 with value: -0.3189918350232037.\n",
      "[I 2024-11-04 23:46:47,570] Trial 95 finished with value: -2.762935514516264 and parameters: {'n_estimators': 529, 'max_depth': 10, 'min_samples_split': 21, 'min_samples_leaf': 27}. Best is trial 45 with value: -0.3189918350232037.\n",
      "[I 2024-11-04 23:46:56,643] Trial 96 finished with value: -0.29919169063655865 and parameters: {'n_estimators': 761, 'max_depth': 11, 'min_samples_split': 4, 'min_samples_leaf': 2}. Best is trial 96 with value: -0.29919169063655865.\n",
      "[I 2024-11-04 23:47:02,098] Trial 97 finished with value: -1.270036203600582 and parameters: {'n_estimators': 603, 'max_depth': 10, 'min_samples_split': 10, 'min_samples_leaf': 8}. Best is trial 96 with value: -0.29919169063655865.\n",
      "[I 2024-11-04 23:47:03,148] Trial 98 finished with value: -3.4422339159242186 and parameters: {'n_estimators': 117, 'max_depth': 10, 'min_samples_split': 3, 'min_samples_leaf': 32}. Best is trial 96 with value: -0.29919169063655865.\n",
      "[I 2024-11-04 23:47:06,999] Trial 99 finished with value: -1.427535860047049 and parameters: {'n_estimators': 424, 'max_depth': 14, 'min_samples_split': 14, 'min_samples_leaf': 9}. Best is trial 96 with value: -0.29919169063655865.\n",
      "[I 2024-11-04 23:47:09,660] Trial 100 finished with value: -2.3114707095658096 and parameters: {'n_estimators': 313, 'max_depth': 14, 'min_samples_split': 22, 'min_samples_leaf': 23}. Best is trial 96 with value: -0.29919169063655865.\n",
      "[I 2024-11-04 23:47:17,180] Trial 101 finished with value: -2.1511071719514594 and parameters: {'n_estimators': 868, 'max_depth': 13, 'min_samples_split': 15, 'min_samples_leaf': 18}. Best is trial 96 with value: -0.29919169063655865.\n",
      "[I 2024-11-04 23:47:23,198] Trial 102 finished with value: -1.6758041341927843 and parameters: {'n_estimators': 687, 'max_depth': 14, 'min_samples_split': 29, 'min_samples_leaf': 10}. Best is trial 96 with value: -0.29919169063655865.\n",
      "[I 2024-11-04 23:47:25,141] Trial 103 finished with value: -2.6394067230682756 and parameters: {'n_estimators': 222, 'max_depth': 14, 'min_samples_split': 18, 'min_samples_leaf': 26}. Best is trial 96 with value: -0.29919169063655865.\n",
      "[I 2024-11-04 23:47:29,504] Trial 104 finished with value: -1.433296766318653 and parameters: {'n_estimators': 487, 'max_depth': 15, 'min_samples_split': 18, 'min_samples_leaf': 9}. Best is trial 96 with value: -0.29919169063655865.\n",
      "[I 2024-11-04 23:47:30,870] Trial 105 finished with value: -1.9923148992584903 and parameters: {'n_estimators': 153, 'max_depth': 10, 'min_samples_split': 7, 'min_samples_leaf': 15}. Best is trial 96 with value: -0.29919169063655865.\n",
      "[I 2024-11-04 23:47:38,120] Trial 106 finished with value: -1.5469547022413415 and parameters: {'n_estimators': 830, 'max_depth': 15, 'min_samples_split': 19, 'min_samples_leaf': 10}. Best is trial 96 with value: -0.29919169063655865.\n",
      "[I 2024-11-04 23:47:43,949] Trial 107 finished with value: -3.3005642119111807 and parameters: {'n_estimators': 687, 'max_depth': 13, 'min_samples_split': 17, 'min_samples_leaf': 31}. Best is trial 96 with value: -0.29919169063655865.\n",
      "[I 2024-11-04 23:47:50,809] Trial 108 finished with value: -3.3915220593636293 and parameters: {'n_estimators': 826, 'max_depth': 15, 'min_samples_split': 21, 'min_samples_leaf': 32}. Best is trial 96 with value: -0.29919169063655865.\n",
      "[I 2024-11-04 23:47:57,014] Trial 109 finished with value: -2.791637149605172 and parameters: {'n_estimators': 744, 'max_depth': 10, 'min_samples_split': 10, 'min_samples_leaf': 27}. Best is trial 96 with value: -0.29919169063655865.\n",
      "[I 2024-11-04 23:48:01,456] Trial 110 finished with value: -2.6434463006432374 and parameters: {'n_estimators': 499, 'max_depth': 11, 'min_samples_split': 5, 'min_samples_leaf': 26}. Best is trial 96 with value: -0.29919169063655865.\n",
      "[I 2024-11-04 23:48:07,208] Trial 111 finished with value: -2.231454546976331 and parameters: {'n_estimators': 684, 'max_depth': 13, 'min_samples_split': 10, 'min_samples_leaf': 21}. Best is trial 96 with value: -0.29919169063655865.\n",
      "[I 2024-11-04 23:48:10,866] Trial 112 finished with value: -2.8026861466320545 and parameters: {'n_estimators': 431, 'max_depth': 13, 'min_samples_split': 25, 'min_samples_leaf': 27}. Best is trial 96 with value: -0.29919169063655865.\n",
      "[I 2024-11-04 23:48:12,776] Trial 113 finished with value: -0.9416787237856266 and parameters: {'n_estimators': 194, 'max_depth': 13, 'min_samples_split': 22, 'min_samples_leaf': 5}. Best is trial 96 with value: -0.29919169063655865.\n",
      "[I 2024-11-04 23:48:13,722] Trial 114 finished with value: -1.5758734985130085 and parameters: {'n_estimators': 101, 'max_depth': 15, 'min_samples_split': 27, 'min_samples_leaf': 9}. Best is trial 96 with value: -0.29919169063655865.\n",
      "[I 2024-11-04 23:48:16,707] Trial 115 finished with value: -3.1434623146115115 and parameters: {'n_estimators': 351, 'max_depth': 10, 'min_samples_split': 16, 'min_samples_leaf': 30}. Best is trial 96 with value: -0.29919169063655865.\n",
      "[I 2024-11-04 23:48:24,368] Trial 116 finished with value: -3.423350445487677 and parameters: {'n_estimators': 924, 'max_depth': 11, 'min_samples_split': 14, 'min_samples_leaf': 32}. Best is trial 96 with value: -0.29919169063655865.\n",
      "[I 2024-11-04 23:48:27,339] Trial 117 finished with value: -3.030506041531152 and parameters: {'n_estimators': 348, 'max_depth': 15, 'min_samples_split': 25, 'min_samples_leaf': 29}. Best is trial 96 with value: -0.29919169063655865.\n",
      "[I 2024-11-04 23:48:34,641] Trial 118 finished with value: -3.191070031389646 and parameters: {'n_estimators': 884, 'max_depth': 10, 'min_samples_split': 26, 'min_samples_leaf': 30}. Best is trial 96 with value: -0.29919169063655865.\n",
      "[I 2024-11-04 23:48:42,177] Trial 119 finished with value: -1.7512398675947014 and parameters: {'n_estimators': 855, 'max_depth': 14, 'min_samples_split': 11, 'min_samples_leaf': 12}. Best is trial 96 with value: -0.29919169063655865.\n",
      "[I 2024-11-04 23:48:44,853] Trial 120 finished with value: -2.198379521172387 and parameters: {'n_estimators': 312, 'max_depth': 10, 'min_samples_split': 8, 'min_samples_leaf': 20}. Best is trial 96 with value: -0.29919169063655865.\n",
      "[I 2024-11-04 23:48:53,124] Trial 121 finished with value: -1.4419998969725578 and parameters: {'n_estimators': 939, 'max_depth': 14, 'min_samples_split': 19, 'min_samples_leaf': 9}. Best is trial 96 with value: -0.29919169063655865.\n",
      "[I 2024-11-04 23:48:58,314] Trial 122 finished with value: -0.9232403306433946 and parameters: {'n_estimators': 574, 'max_depth': 14, 'min_samples_split': 11, 'min_samples_leaf': 6}. Best is trial 96 with value: -0.29919169063655865.\n",
      "[I 2024-11-04 23:48:59,369] Trial 123 finished with value: -1.9156080952032148 and parameters: {'n_estimators': 117, 'max_depth': 14, 'min_samples_split': 3, 'min_samples_leaf': 14}. Best is trial 96 with value: -0.29919169063655865.\n",
      "[I 2024-11-04 23:49:06,651] Trial 124 finished with value: -2.0495732354368403 and parameters: {'n_estimators': 849, 'max_depth': 10, 'min_samples_split': 17, 'min_samples_leaf': 16}. Best is trial 96 with value: -0.29919169063655865.\n",
      "[I 2024-11-04 23:49:07,859] Trial 125 finished with value: -0.49951147011782837 and parameters: {'n_estimators': 126, 'max_depth': 10, 'min_samples_split': 12, 'min_samples_leaf': 2}. Best is trial 96 with value: -0.29919169063655865.\n",
      "[I 2024-11-04 23:49:13,846] Trial 126 finished with value: -0.5607659827198106 and parameters: {'n_estimators': 638, 'max_depth': 15, 'min_samples_split': 14, 'min_samples_leaf': 2}. Best is trial 96 with value: -0.29919169063655865.\n",
      "[I 2024-11-04 23:49:15,349] Trial 127 finished with value: -2.6116465877933193 and parameters: {'n_estimators': 172, 'max_depth': 10, 'min_samples_split': 27, 'min_samples_leaf': 26}. Best is trial 96 with value: -0.29919169063655865.\n",
      "[I 2024-11-04 23:49:16,413] Trial 128 finished with value: -1.8871598254970874 and parameters: {'n_estimators': 115, 'max_depth': 15, 'min_samples_split': 30, 'min_samples_leaf': 13}. Best is trial 96 with value: -0.29919169063655865.\n",
      "[I 2024-11-04 23:49:19,619] Trial 129 finished with value: -0.9395294823838549 and parameters: {'n_estimators': 358, 'max_depth': 15, 'min_samples_split': 21, 'min_samples_leaf': 5}. Best is trial 96 with value: -0.29919169063655865.\n",
      "[I 2024-11-04 23:49:22,323] Trial 130 finished with value: -1.47316040527198 and parameters: {'n_estimators': 306, 'max_depth': 15, 'min_samples_split': 28, 'min_samples_leaf': 8}. Best is trial 96 with value: -0.29919169063655865.\n",
      "[I 2024-11-04 23:49:29,435] Trial 131 finished with value: -2.089059348166976 and parameters: {'n_estimators': 830, 'max_depth': 13, 'min_samples_split': 20, 'min_samples_leaf': 17}. Best is trial 96 with value: -0.29919169063655865.\n",
      "[I 2024-11-04 23:49:35,352] Trial 132 finished with value: -2.333937673417438 and parameters: {'n_estimators': 676, 'max_depth': 10, 'min_samples_split': 2, 'min_samples_leaf': 23}. Best is trial 96 with value: -0.29919169063655865.\n",
      "[I 2024-11-04 23:49:38,765] Trial 133 finished with value: -0.4293373851706946 and parameters: {'n_estimators': 254, 'max_depth': 14, 'min_samples_split': 10, 'min_samples_leaf': 2}. Best is trial 96 with value: -0.29919169063655865.\n",
      "[I 2024-11-04 23:49:44,566] Trial 134 finished with value: -3.3203950122780155 and parameters: {'n_estimators': 624, 'max_depth': 11, 'min_samples_split': 12, 'min_samples_leaf': 31}. Best is trial 96 with value: -0.29919169063655865.\n",
      "[I 2024-11-04 23:49:47,003] Trial 135 finished with value: -1.8518035810303304 and parameters: {'n_estimators': 275, 'max_depth': 12, 'min_samples_split': 5, 'min_samples_leaf': 13}. Best is trial 96 with value: -0.29919169063655865.\n",
      "[I 2024-11-04 23:49:48,678] Trial 136 finished with value: -0.9852306103240629 and parameters: {'n_estimators': 183, 'max_depth': 13, 'min_samples_split': 25, 'min_samples_leaf': 1}. Best is trial 96 with value: -0.29919169063655865.\n",
      "[I 2024-11-04 23:49:50,305] Trial 137 finished with value: -3.3750636438012007 and parameters: {'n_estimators': 181, 'max_depth': 10, 'min_samples_split': 29, 'min_samples_leaf': 32}. Best is trial 96 with value: -0.29919169063655865.\n",
      "[I 2024-11-04 23:49:55,525] Trial 138 finished with value: -2.2250902550979412 and parameters: {'n_estimators': 568, 'max_depth': 11, 'min_samples_split': 30, 'min_samples_leaf': 21}. Best is trial 96 with value: -0.29919169063655865.\n",
      "[I 2024-11-04 23:50:06,126] Trial 139 finished with value: -1.7230491626233995 and parameters: {'n_estimators': 813, 'max_depth': 13, 'min_samples_split': 26, 'min_samples_leaf': 11}. Best is trial 96 with value: -0.29919169063655865.\n",
      "[I 2024-11-04 23:50:08,175] Trial 140 finished with value: -0.4282767524266718 and parameters: {'n_estimators': 202, 'max_depth': 15, 'min_samples_split': 2, 'min_samples_leaf': 3}. Best is trial 96 with value: -0.29919169063655865.\n",
      "[I 2024-11-04 23:50:10,301] Trial 141 finished with value: -1.1030393808380612 and parameters: {'n_estimators': 219, 'max_depth': 15, 'min_samples_split': 11, 'min_samples_leaf': 7}. Best is trial 96 with value: -0.29919169063655865.\n",
      "[I 2024-11-04 23:50:13,396] Trial 142 finished with value: -2.401627525229926 and parameters: {'n_estimators': 330, 'max_depth': 10, 'min_samples_split': 14, 'min_samples_leaf': 24}. Best is trial 96 with value: -0.29919169063655865.\n",
      "[I 2024-11-04 23:50:19,558] Trial 143 finished with value: -2.0523442903414697 and parameters: {'n_estimators': 684, 'max_depth': 11, 'min_samples_split': 9, 'min_samples_leaf': 16}. Best is trial 96 with value: -0.29919169063655865.\n",
      "[I 2024-11-04 23:50:30,511] Trial 144 finished with value: -1.937898855577648 and parameters: {'n_estimators': 879, 'max_depth': 13, 'min_samples_split': 25, 'min_samples_leaf': 14}. Best is trial 96 with value: -0.29919169063655865.\n",
      "[I 2024-11-04 23:50:35,841] Trial 145 finished with value: -2.1437739379706384 and parameters: {'n_estimators': 460, 'max_depth': 14, 'min_samples_split': 13, 'min_samples_leaf': 18}. Best is trial 96 with value: -0.29919169063655865.\n",
      "[I 2024-11-04 23:50:37,860] Trial 146 finished with value: -2.4082209587737693 and parameters: {'n_estimators': 172, 'max_depth': 13, 'min_samples_split': 10, 'min_samples_leaf': 24}. Best is trial 96 with value: -0.29919169063655865.\n",
      "[I 2024-11-04 23:50:42,376] Trial 147 finished with value: -0.3813825341437618 and parameters: {'n_estimators': 369, 'max_depth': 14, 'min_samples_split': 9, 'min_samples_leaf': 1}. Best is trial 96 with value: -0.29919169063655865.\n",
      "[I 2024-11-04 23:50:45,240] Trial 148 finished with value: -2.1452406026077147 and parameters: {'n_estimators': 225, 'max_depth': 11, 'min_samples_split': 8, 'min_samples_leaf': 18}. Best is trial 96 with value: -0.29919169063655865.\n",
      "[I 2024-11-04 23:50:48,097] Trial 149 finished with value: -2.234698262835625 and parameters: {'n_estimators': 289, 'max_depth': 14, 'min_samples_split': 17, 'min_samples_leaf': 21}. Best is trial 96 with value: -0.29919169063655865.\n",
      "[I 2024-11-04 23:50:50,663] Trial 150 finished with value: -1.0209994922412493 and parameters: {'n_estimators': 251, 'max_depth': 15, 'min_samples_split': 24, 'min_samples_leaf': 5}. Best is trial 96 with value: -0.29919169063655865.\n",
      "[I 2024-11-04 23:50:57,228] Trial 151 finished with value: -1.323096328801864 and parameters: {'n_estimators': 751, 'max_depth': 11, 'min_samples_split': 27, 'min_samples_leaf': 7}. Best is trial 96 with value: -0.29919169063655865.\n",
      "[I 2024-11-04 23:51:06,496] Trial 152 finished with value: -1.0932291386855595 and parameters: {'n_estimators': 966, 'max_depth': 13, 'min_samples_split': 8, 'min_samples_leaf': 7}. Best is trial 96 with value: -0.29919169063655865.\n",
      "[I 2024-11-04 23:51:12,906] Trial 153 finished with value: -2.7874320470377496 and parameters: {'n_estimators': 665, 'max_depth': 13, 'min_samples_split': 11, 'min_samples_leaf': 27}. Best is trial 96 with value: -0.29919169063655865.\n",
      "[I 2024-11-04 23:51:16,942] Trial 154 finished with value: -3.392360101813176 and parameters: {'n_estimators': 477, 'max_depth': 14, 'min_samples_split': 10, 'min_samples_leaf': 32}. Best is trial 96 with value: -0.29919169063655865.\n",
      "[I 2024-11-04 23:51:25,006] Trial 155 finished with value: -0.48031874239799793 and parameters: {'n_estimators': 885, 'max_depth': 12, 'min_samples_split': 12, 'min_samples_leaf': 1}. Best is trial 96 with value: -0.29919169063655865.\n",
      "[I 2024-11-04 23:51:34,278] Trial 156 finished with value: -0.35134803919444363 and parameters: {'n_estimators': 992, 'max_depth': 14, 'min_samples_split': 7, 'min_samples_leaf': 2}. Best is trial 96 with value: -0.29919169063655865.\n",
      "[I 2024-11-04 23:51:35,313] Trial 157 finished with value: -1.5260837799009432 and parameters: {'n_estimators': 111, 'max_depth': 13, 'min_samples_split': 5, 'min_samples_leaf': 10}. Best is trial 96 with value: -0.29919169063655865.\n",
      "[I 2024-11-04 23:51:38,425] Trial 158 finished with value: -3.412610779172686 and parameters: {'n_estimators': 377, 'max_depth': 10, 'min_samples_split': 31, 'min_samples_leaf': 32}. Best is trial 96 with value: -0.29919169063655865.\n",
      "[I 2024-11-04 23:51:46,131] Trial 159 finished with value: -2.3159689318310326 and parameters: {'n_estimators': 914, 'max_depth': 14, 'min_samples_split': 4, 'min_samples_leaf': 23}. Best is trial 96 with value: -0.29919169063655865.\n",
      "[I 2024-11-04 23:51:51,167] Trial 160 finished with value: -0.8663114360244656 and parameters: {'n_estimators': 510, 'max_depth': 10, 'min_samples_split': 22, 'min_samples_leaf': 1}. Best is trial 96 with value: -0.29919169063655865.\n",
      "[I 2024-11-04 23:51:57,976] Trial 161 finished with value: -1.656581326389435 and parameters: {'n_estimators': 778, 'max_depth': 15, 'min_samples_split': 2, 'min_samples_leaf': 11}. Best is trial 96 with value: -0.29919169063655865.\n",
      "[I 2024-11-04 23:52:05,045] Trial 162 finished with value: -2.788482297495373 and parameters: {'n_estimators': 846, 'max_depth': 10, 'min_samples_split': 2, 'min_samples_leaf': 27}. Best is trial 96 with value: -0.29919169063655865.\n",
      "[I 2024-11-04 23:52:07,911] Trial 163 finished with value: -1.4252897357785868 and parameters: {'n_estimators': 324, 'max_depth': 11, 'min_samples_split': 6, 'min_samples_leaf': 9}. Best is trial 96 with value: -0.29919169063655865.\n",
      "[I 2024-11-04 23:52:12,539] Trial 164 finished with value: -1.7441545600860224 and parameters: {'n_estimators': 486, 'max_depth': 11, 'min_samples_split': 13, 'min_samples_leaf': 12}. Best is trial 96 with value: -0.29919169063655865.\n",
      "[I 2024-11-04 23:52:17,227] Trial 165 finished with value: -1.4234894447861701 and parameters: {'n_estimators': 400, 'max_depth': 11, 'min_samples_split': 11, 'min_samples_leaf': 9}. Best is trial 96 with value: -0.29919169063655865.\n",
      "[I 2024-11-04 23:52:25,288] Trial 166 finished with value: -1.826458600031361 and parameters: {'n_estimators': 911, 'max_depth': 15, 'min_samples_split': 29, 'min_samples_leaf': 12}. Best is trial 96 with value: -0.29919169063655865.\n",
      "[I 2024-11-04 23:52:31,620] Trial 167 finished with value: -2.664035915238473 and parameters: {'n_estimators': 684, 'max_depth': 11, 'min_samples_split': 27, 'min_samples_leaf': 26}. Best is trial 96 with value: -0.29919169063655865.\n",
      "[I 2024-11-04 23:52:38,951] Trial 168 finished with value: -2.514592713444773 and parameters: {'n_estimators': 815, 'max_depth': 10, 'min_samples_split': 27, 'min_samples_leaf': 25}. Best is trial 96 with value: -0.29919169063655865.\n",
      "[I 2024-11-04 23:52:47,859] Trial 169 finished with value: -0.9212118671092696 and parameters: {'n_estimators': 897, 'max_depth': 11, 'min_samples_split': 5, 'min_samples_leaf': 6}. Best is trial 96 with value: -0.29919169063655865.\n",
      "[I 2024-11-04 23:52:53,914] Trial 170 finished with value: -2.646847959520359 and parameters: {'n_estimators': 706, 'max_depth': 14, 'min_samples_split': 9, 'min_samples_leaf': 26}. Best is trial 96 with value: -0.29919169063655865.\n",
      "[I 2024-11-04 23:53:01,870] Trial 171 finished with value: -2.1093635183586628 and parameters: {'n_estimators': 927, 'max_depth': 15, 'min_samples_split': 32, 'min_samples_leaf': 17}. Best is trial 96 with value: -0.29919169063655865.\n",
      "[I 2024-11-04 23:53:08,032] Trial 172 finished with value: -2.7840628831377163 and parameters: {'n_estimators': 730, 'max_depth': 10, 'min_samples_split': 29, 'min_samples_leaf': 27}. Best is trial 96 with value: -0.29919169063655865.\n",
      "[I 2024-11-04 23:53:12,119] Trial 173 finished with value: -0.5214426338486382 and parameters: {'n_estimators': 423, 'max_depth': 15, 'min_samples_split': 13, 'min_samples_leaf': 1}. Best is trial 96 with value: -0.29919169063655865.\n",
      "[I 2024-11-04 23:53:13,263] Trial 174 finished with value: -0.5906629566150294 and parameters: {'n_estimators': 116, 'max_depth': 13, 'min_samples_split': 15, 'min_samples_leaf': 1}. Best is trial 96 with value: -0.29919169063655865.\n",
      "[I 2024-11-04 23:53:16,904] Trial 175 finished with value: -3.385628145882497 and parameters: {'n_estimators': 431, 'max_depth': 12, 'min_samples_split': 14, 'min_samples_leaf': 32}. Best is trial 96 with value: -0.29919169063655865.\n",
      "[I 2024-11-04 23:53:18,966] Trial 176 finished with value: -3.460043983526296 and parameters: {'n_estimators': 241, 'max_depth': 12, 'min_samples_split': 10, 'min_samples_leaf': 32}. Best is trial 96 with value: -0.29919169063655865.\n",
      "[I 2024-11-04 23:53:24,285] Trial 177 finished with value: -2.5163221659505672 and parameters: {'n_estimators': 631, 'max_depth': 14, 'min_samples_split': 22, 'min_samples_leaf': 25}. Best is trial 96 with value: -0.29919169063655865.\n",
      "[I 2024-11-04 23:53:31,792] Trial 178 finished with value: -2.196287392895061 and parameters: {'n_estimators': 897, 'max_depth': 11, 'min_samples_split': 9, 'min_samples_leaf': 20}. Best is trial 96 with value: -0.29919169063655865.\n",
      "[I 2024-11-04 23:53:34,593] Trial 179 finished with value: -1.3640812302325607 and parameters: {'n_estimators': 312, 'max_depth': 14, 'min_samples_split': 22, 'min_samples_leaf': 8}. Best is trial 96 with value: -0.29919169063655865.\n",
      "[I 2024-11-04 23:53:36,908] Trial 180 finished with value: -2.1717850568142336 and parameters: {'n_estimators': 267, 'max_depth': 11, 'min_samples_split': 13, 'min_samples_leaf': 19}. Best is trial 96 with value: -0.29919169063655865.\n",
      "[I 2024-11-04 23:53:43,737] Trial 181 finished with value: -2.1700246415409348 and parameters: {'n_estimators': 784, 'max_depth': 11, 'min_samples_split': 17, 'min_samples_leaf': 19}. Best is trial 96 with value: -0.29919169063655865.\n",
      "[I 2024-11-04 23:53:46,691] Trial 182 finished with value: -2.2188377050772314 and parameters: {'n_estimators': 340, 'max_depth': 14, 'min_samples_split': 16, 'min_samples_leaf': 21}. Best is trial 96 with value: -0.29919169063655865.\n",
      "[I 2024-11-04 23:53:51,601] Trial 183 finished with value: -0.9392158431937592 and parameters: {'n_estimators': 552, 'max_depth': 12, 'min_samples_split': 24, 'min_samples_leaf': 1}. Best is trial 96 with value: -0.29919169063655865.\n",
      "[I 2024-11-04 23:53:53,132] Trial 184 finished with value: -2.134590093959692 and parameters: {'n_estimators': 172, 'max_depth': 13, 'min_samples_split': 27, 'min_samples_leaf': 18}. Best is trial 96 with value: -0.29919169063655865.\n",
      "[I 2024-11-04 23:53:58,696] Trial 185 finished with value: -1.4034463595931579 and parameters: {'n_estimators': 643, 'max_depth': 11, 'min_samples_split': 30, 'min_samples_leaf': 7}. Best is trial 96 with value: -0.29919169063655865.\n",
      "[I 2024-11-04 23:54:04,731] Trial 186 finished with value: -2.785022701959218 and parameters: {'n_estimators': 720, 'max_depth': 12, 'min_samples_split': 8, 'min_samples_leaf': 27}. Best is trial 96 with value: -0.29919169063655865.\n",
      "[I 2024-11-04 23:54:06,500] Trial 187 finished with value: -3.219718473341551 and parameters: {'n_estimators': 203, 'max_depth': 14, 'min_samples_split': 16, 'min_samples_leaf': 31}. Best is trial 96 with value: -0.29919169063655865.\n",
      "[I 2024-11-04 23:54:11,690] Trial 188 finished with value: -2.233010457183697 and parameters: {'n_estimators': 595, 'max_depth': 13, 'min_samples_split': 29, 'min_samples_leaf': 21}. Best is trial 96 with value: -0.29919169063655865.\n",
      "[I 2024-11-04 23:54:16,161] Trial 189 finished with value: -2.5552910341982136 and parameters: {'n_estimators': 396, 'max_depth': 10, 'min_samples_split': 6, 'min_samples_leaf': 25}. Best is trial 96 with value: -0.29919169063655865.\n",
      "[I 2024-11-04 23:54:23,632] Trial 190 finished with value: -3.1492908012437937 and parameters: {'n_estimators': 850, 'max_depth': 13, 'min_samples_split': 19, 'min_samples_leaf': 30}. Best is trial 96 with value: -0.29919169063655865.\n",
      "[I 2024-11-04 23:54:29,998] Trial 191 finished with value: -2.2213626787663245 and parameters: {'n_estimators': 743, 'max_depth': 12, 'min_samples_split': 23, 'min_samples_leaf': 21}. Best is trial 96 with value: -0.29919169063655865.\n",
      "[I 2024-11-04 23:54:31,101] Trial 192 finished with value: -1.833597045290352 and parameters: {'n_estimators': 122, 'max_depth': 14, 'min_samples_split': 25, 'min_samples_leaf': 13}. Best is trial 96 with value: -0.29919169063655865.\n",
      "[I 2024-11-04 23:54:36,517] Trial 193 finished with value: -2.1635500394749756 and parameters: {'n_estimators': 628, 'max_depth': 11, 'min_samples_split': 32, 'min_samples_leaf': 19}. Best is trial 96 with value: -0.29919169063655865.\n",
      "[I 2024-11-04 23:54:38,970] Trial 194 finished with value: -1.8260057566364765 and parameters: {'n_estimators': 279, 'max_depth': 15, 'min_samples_split': 28, 'min_samples_leaf': 12}. Best is trial 96 with value: -0.29919169063655865.\n",
      "[I 2024-11-04 23:54:44,945] Trial 195 finished with value: -2.194308179236031 and parameters: {'n_estimators': 691, 'max_depth': 15, 'min_samples_split': 19, 'min_samples_leaf': 20}. Best is trial 96 with value: -0.29919169063655865.\n",
      "[I 2024-11-04 23:54:49,588] Trial 196 finished with value: -1.1990026404193093 and parameters: {'n_estimators': 522, 'max_depth': 15, 'min_samples_split': 30, 'min_samples_leaf': 1}. Best is trial 96 with value: -0.29919169063655865.\n",
      "[I 2024-11-04 23:54:54,010] Trial 197 finished with value: -1.5595606875422725 and parameters: {'n_estimators': 504, 'max_depth': 12, 'min_samples_split': 6, 'min_samples_leaf': 10}. Best is trial 96 with value: -0.29919169063655865.\n",
      "[I 2024-11-04 23:55:00,246] Trial 198 finished with value: -3.168699631866126 and parameters: {'n_estimators': 746, 'max_depth': 12, 'min_samples_split': 11, 'min_samples_leaf': 30}. Best is trial 96 with value: -0.29919169063655865.\n",
      "[I 2024-11-04 23:55:06,279] Trial 199 finished with value: -3.4238329104222904 and parameters: {'n_estimators': 726, 'max_depth': 11, 'min_samples_split': 26, 'min_samples_leaf': 32}. Best is trial 96 with value: -0.29919169063655865.\n",
      "[I 2024-11-04 23:55:12,623] Trial 200 finished with value: -2.1424618868252545 and parameters: {'n_estimators': 734, 'max_depth': 12, 'min_samples_split': 26, 'min_samples_leaf': 18}. Best is trial 96 with value: -0.29919169063655865.\n",
      "[I 2024-11-04 23:55:18,638] Trial 201 finished with value: -2.1661008482272703 and parameters: {'n_estimators': 617, 'max_depth': 15, 'min_samples_split': 31, 'min_samples_leaf': 19}. Best is trial 96 with value: -0.29919169063655865.\n"
     ]
    }
   ],
   "execution_count": 15
  },
  {
   "metadata": {
    "ExecuteTime": {
     "end_time": "2024-11-04T19:55:18.675085Z",
     "start_time": "2024-11-04T19:55:18.658243Z"
    }
   },
   "cell_type": "code",
   "source": "best_params = study.best_params",
   "id": "72753bc0773e65ce",
   "outputs": [],
   "execution_count": 16
  },
  {
   "metadata": {
    "ExecuteTime": {
     "end_time": "2024-11-04T19:55:18.877825Z",
     "start_time": "2024-11-04T19:55:18.749567Z"
    }
   },
   "cell_type": "code",
   "source": "optuna.visualization.plot_optimization_history(study)",
   "id": "e74dc4c666c25420",
   "outputs": [
    {
     "data": {
      "application/vnd.plotly.v1+json": {
       "data": [
        {
         "mode": "markers",
         "name": "Objective Value",
         "x": [
          0,
          1,
          2,
          3,
          4,
          5,
          6,
          7,
          8,
          9,
          10,
          11,
          12,
          13,
          14,
          15,
          16,
          17,
          18,
          19,
          20,
          21,
          22,
          23,
          24,
          25,
          26,
          27,
          28,
          29,
          30,
          31,
          32,
          33,
          34,
          35,
          36,
          37,
          38,
          39,
          40,
          41,
          42,
          43,
          44,
          45,
          46,
          47,
          48,
          49,
          50,
          51,
          52,
          53,
          54,
          55,
          56,
          57,
          58,
          59,
          60,
          61,
          62,
          63,
          64,
          65,
          66,
          67,
          68,
          69,
          70,
          71,
          72,
          73,
          74,
          75,
          76,
          77,
          78,
          79,
          80,
          81,
          82,
          83,
          84,
          85,
          86,
          87,
          88,
          89,
          90,
          91,
          92,
          93,
          94,
          95,
          96,
          97,
          98,
          99,
          100,
          101,
          102,
          103,
          104,
          105,
          106,
          107,
          108,
          109,
          110,
          111,
          112,
          113,
          114,
          115,
          116,
          117,
          118,
          119,
          120,
          121,
          122,
          123,
          124,
          125,
          126,
          127,
          128,
          129,
          130,
          131,
          132,
          133,
          134,
          135,
          136,
          137,
          138,
          139,
          140,
          141,
          142,
          143,
          144,
          145,
          146,
          147,
          148,
          149,
          150,
          151,
          152,
          153,
          154,
          155,
          156,
          157,
          158,
          159,
          160,
          161,
          162,
          163,
          164,
          165,
          166,
          167,
          168,
          169,
          170,
          171,
          172,
          173,
          174,
          175,
          176,
          177,
          178,
          179,
          180,
          181,
          182,
          183,
          184,
          185,
          186,
          187,
          188,
          189,
          190,
          191,
          192,
          193,
          194,
          195,
          196,
          197,
          198,
          199,
          200,
          201
         ],
         "y": [
          -2.4106863909222307,
          -2.519650748277333,
          -3.284343275829557,
          -2.1989724944807163,
          -2.3226829137249885,
          -2.2759861646693196,
          -2.1026134822151126,
          -2.1023286551326565,
          -1.5447407862361637,
          -2.2227363297123652,
          -2.9249221530653506,
          -3.0047030373409243,
          -0.5989714070341489,
          -3.2950556465486818,
          -1.5703755468415594,
          -2.1528563798092457,
          -1.5430989544029612,
          -1.9349474071387576,
          -0.49309126905191525,
          -1.9378370778735114,
          -1.447626605369622,
          -1.277845313534931,
          -1.5415914117373133,
          -2.0677919837123824,
          -2.100660057491238,
          -1.9989595897643908,
          -0.7757669119254942,
          -2.1005915643569386,
          -1.6509802073668147,
          -1.8304970754985224,
          -2.4177692444712475,
          -0.9200764232169153,
          -2.1283297161047026,
          -3.1931192177740657,
          -3.4344068514268877,
          -3.0465618295992742,
          -1.9357636422566231,
          -0.9344677012942256,
          -2.648886859849614,
          -1.9310625873701088,
          -2.0028704571799194,
          -0.9270178902811104,
          -2.9269648422619876,
          -0.8174499137927207,
          -2.100582700509782,
          -0.3189918350232037,
          -1.9329047435585427,
          -2.3176992384241673,
          -1.5609559126365269,
          -0.5409192779828154,
          -2.9269027316478837,
          -2.3997764422298657,
          -3.0377701668462542,
          -1.678505528475257,
          -0.4514125756813536,
          -0.8139169194148861,
          -2.9238423710414096,
          -2.686442941714101,
          -0.7889232839434953,
          -3.052164350009369,
          -1.905963978326422,
          -0.7474605655125964,
          -1.7539616536430405,
          -1.6603833684438207,
          -2.3310252314377182,
          -3.40019046039741,
          -3.2965808029020662,
          -2.196934784523615,
          -1.757610894076733,
          -0.8178541415924769,
          -3.3190573398121783,
          -1.1603152252015103,
          -2.626952465123625,
          -3.0360532606044943,
          -1.5387019901585268,
          -2.094920981263411,
          -2.054773333024976,
          -2.267074998713319,
          -3.4448274005432267,
          -0.47685443373070946,
          -2.3290758585383182,
          -3.440546185140582,
          -0.8275887619257715,
          -2.7670673232418626,
          -3.0401375971891724,
          -3.146297220372183,
          -0.7709228469741752,
          -2.7920081926244715,
          -1.270637807527762,
          -2.1555400636449873,
          -2.4092148588340967,
          -1.074605115464937,
          -2.1736060088488323,
          -2.3202582410778585,
          -2.260756283780414,
          -2.762935514516264,
          -0.29919169063655865,
          -1.270036203600582,
          -3.4422339159242186,
          -1.427535860047049,
          -2.3114707095658096,
          -2.1511071719514594,
          -1.6758041341927843,
          -2.6394067230682756,
          -1.433296766318653,
          -1.9923148992584903,
          -1.5469547022413415,
          -3.3005642119111807,
          -3.3915220593636293,
          -2.791637149605172,
          -2.6434463006432374,
          -2.231454546976331,
          -2.8026861466320545,
          -0.9416787237856266,
          -1.5758734985130085,
          -3.1434623146115115,
          -3.423350445487677,
          -3.030506041531152,
          -3.191070031389646,
          -1.7512398675947014,
          -2.198379521172387,
          -1.4419998969725578,
          -0.9232403306433946,
          -1.9156080952032148,
          -2.0495732354368403,
          -0.49951147011782837,
          -0.5607659827198106,
          -2.6116465877933193,
          -1.8871598254970874,
          -0.9395294823838549,
          -1.47316040527198,
          -2.089059348166976,
          -2.333937673417438,
          -0.4293373851706946,
          -3.3203950122780155,
          -1.8518035810303304,
          -0.9852306103240629,
          -3.3750636438012007,
          -2.2250902550979412,
          -1.7230491626233995,
          -0.4282767524266718,
          -1.1030393808380612,
          -2.401627525229926,
          -2.0523442903414697,
          -1.937898855577648,
          -2.1437739379706384,
          -2.4082209587737693,
          -0.3813825341437618,
          -2.1452406026077147,
          -2.234698262835625,
          -1.0209994922412493,
          -1.323096328801864,
          -1.0932291386855595,
          -2.7874320470377496,
          -3.392360101813176,
          -0.48031874239799793,
          -0.35134803919444363,
          -1.5260837799009432,
          -3.412610779172686,
          -2.3159689318310326,
          -0.8663114360244656,
          -1.656581326389435,
          -2.788482297495373,
          -1.4252897357785868,
          -1.7441545600860224,
          -1.4234894447861701,
          -1.826458600031361,
          -2.664035915238473,
          -2.514592713444773,
          -0.9212118671092696,
          -2.646847959520359,
          -2.1093635183586628,
          -2.7840628831377163,
          -0.5214426338486382,
          -0.5906629566150294,
          -3.385628145882497,
          -3.460043983526296,
          -2.5163221659505672,
          -2.196287392895061,
          -1.3640812302325607,
          -2.1717850568142336,
          -2.1700246415409348,
          -2.2188377050772314,
          -0.9392158431937592,
          -2.134590093959692,
          -1.4034463595931579,
          -2.785022701959218,
          -3.219718473341551,
          -2.233010457183697,
          -2.5552910341982136,
          -3.1492908012437937,
          -2.2213626787663245,
          -1.833597045290352,
          -2.1635500394749756,
          -1.8260057566364765,
          -2.194308179236031,
          -1.1990026404193093,
          -1.5595606875422725,
          -3.168699631866126,
          -3.4238329104222904,
          -2.1424618868252545,
          -2.1661008482272703
         ],
         "type": "scatter"
        },
        {
         "mode": "lines",
         "name": "Best Value",
         "x": [
          0,
          1,
          2,
          3,
          4,
          5,
          6,
          7,
          8,
          9,
          10,
          11,
          12,
          13,
          14,
          15,
          16,
          17,
          18,
          19,
          20,
          21,
          22,
          23,
          24,
          25,
          26,
          27,
          28,
          29,
          30,
          31,
          32,
          33,
          34,
          35,
          36,
          37,
          38,
          39,
          40,
          41,
          42,
          43,
          44,
          45,
          46,
          47,
          48,
          49,
          50,
          51,
          52,
          53,
          54,
          55,
          56,
          57,
          58,
          59,
          60,
          61,
          62,
          63,
          64,
          65,
          66,
          67,
          68,
          69,
          70,
          71,
          72,
          73,
          74,
          75,
          76,
          77,
          78,
          79,
          80,
          81,
          82,
          83,
          84,
          85,
          86,
          87,
          88,
          89,
          90,
          91,
          92,
          93,
          94,
          95,
          96,
          97,
          98,
          99,
          100,
          101,
          102,
          103,
          104,
          105,
          106,
          107,
          108,
          109,
          110,
          111,
          112,
          113,
          114,
          115,
          116,
          117,
          118,
          119,
          120,
          121,
          122,
          123,
          124,
          125,
          126,
          127,
          128,
          129,
          130,
          131,
          132,
          133,
          134,
          135,
          136,
          137,
          138,
          139,
          140,
          141,
          142,
          143,
          144,
          145,
          146,
          147,
          148,
          149,
          150,
          151,
          152,
          153,
          154,
          155,
          156,
          157,
          158,
          159,
          160,
          161,
          162,
          163,
          164,
          165,
          166,
          167,
          168,
          169,
          170,
          171,
          172,
          173,
          174,
          175,
          176,
          177,
          178,
          179,
          180,
          181,
          182,
          183,
          184,
          185,
          186,
          187,
          188,
          189,
          190,
          191,
          192,
          193,
          194,
          195,
          196,
          197,
          198,
          199,
          200,
          201
         ],
         "y": [
          -2.4106863909222307,
          -2.4106863909222307,
          -2.4106863909222307,
          -2.1989724944807163,
          -2.1989724944807163,
          -2.1989724944807163,
          -2.1026134822151126,
          -2.1023286551326565,
          -1.5447407862361637,
          -1.5447407862361637,
          -1.5447407862361637,
          -1.5447407862361637,
          -0.5989714070341489,
          -0.5989714070341489,
          -0.5989714070341489,
          -0.5989714070341489,
          -0.5989714070341489,
          -0.5989714070341489,
          -0.49309126905191525,
          -0.49309126905191525,
          -0.49309126905191525,
          -0.49309126905191525,
          -0.49309126905191525,
          -0.49309126905191525,
          -0.49309126905191525,
          -0.49309126905191525,
          -0.49309126905191525,
          -0.49309126905191525,
          -0.49309126905191525,
          -0.49309126905191525,
          -0.49309126905191525,
          -0.49309126905191525,
          -0.49309126905191525,
          -0.49309126905191525,
          -0.49309126905191525,
          -0.49309126905191525,
          -0.49309126905191525,
          -0.49309126905191525,
          -0.49309126905191525,
          -0.49309126905191525,
          -0.49309126905191525,
          -0.49309126905191525,
          -0.49309126905191525,
          -0.49309126905191525,
          -0.49309126905191525,
          -0.3189918350232037,
          -0.3189918350232037,
          -0.3189918350232037,
          -0.3189918350232037,
          -0.3189918350232037,
          -0.3189918350232037,
          -0.3189918350232037,
          -0.3189918350232037,
          -0.3189918350232037,
          -0.3189918350232037,
          -0.3189918350232037,
          -0.3189918350232037,
          -0.3189918350232037,
          -0.3189918350232037,
          -0.3189918350232037,
          -0.3189918350232037,
          -0.3189918350232037,
          -0.3189918350232037,
          -0.3189918350232037,
          -0.3189918350232037,
          -0.3189918350232037,
          -0.3189918350232037,
          -0.3189918350232037,
          -0.3189918350232037,
          -0.3189918350232037,
          -0.3189918350232037,
          -0.3189918350232037,
          -0.3189918350232037,
          -0.3189918350232037,
          -0.3189918350232037,
          -0.3189918350232037,
          -0.3189918350232037,
          -0.3189918350232037,
          -0.3189918350232037,
          -0.3189918350232037,
          -0.3189918350232037,
          -0.3189918350232037,
          -0.3189918350232037,
          -0.3189918350232037,
          -0.3189918350232037,
          -0.3189918350232037,
          -0.3189918350232037,
          -0.3189918350232037,
          -0.3189918350232037,
          -0.3189918350232037,
          -0.3189918350232037,
          -0.3189918350232037,
          -0.3189918350232037,
          -0.3189918350232037,
          -0.3189918350232037,
          -0.3189918350232037,
          -0.29919169063655865,
          -0.29919169063655865,
          -0.29919169063655865,
          -0.29919169063655865,
          -0.29919169063655865,
          -0.29919169063655865,
          -0.29919169063655865,
          -0.29919169063655865,
          -0.29919169063655865,
          -0.29919169063655865,
          -0.29919169063655865,
          -0.29919169063655865,
          -0.29919169063655865,
          -0.29919169063655865,
          -0.29919169063655865,
          -0.29919169063655865,
          -0.29919169063655865,
          -0.29919169063655865,
          -0.29919169063655865,
          -0.29919169063655865,
          -0.29919169063655865,
          -0.29919169063655865,
          -0.29919169063655865,
          -0.29919169063655865,
          -0.29919169063655865,
          -0.29919169063655865,
          -0.29919169063655865,
          -0.29919169063655865,
          -0.29919169063655865,
          -0.29919169063655865,
          -0.29919169063655865,
          -0.29919169063655865,
          -0.29919169063655865,
          -0.29919169063655865,
          -0.29919169063655865,
          -0.29919169063655865,
          -0.29919169063655865,
          -0.29919169063655865,
          -0.29919169063655865,
          -0.29919169063655865,
          -0.29919169063655865,
          -0.29919169063655865,
          -0.29919169063655865,
          -0.29919169063655865,
          -0.29919169063655865,
          -0.29919169063655865,
          -0.29919169063655865,
          -0.29919169063655865,
          -0.29919169063655865,
          -0.29919169063655865,
          -0.29919169063655865,
          -0.29919169063655865,
          -0.29919169063655865,
          -0.29919169063655865,
          -0.29919169063655865,
          -0.29919169063655865,
          -0.29919169063655865,
          -0.29919169063655865,
          -0.29919169063655865,
          -0.29919169063655865,
          -0.29919169063655865,
          -0.29919169063655865,
          -0.29919169063655865,
          -0.29919169063655865,
          -0.29919169063655865,
          -0.29919169063655865,
          -0.29919169063655865,
          -0.29919169063655865,
          -0.29919169063655865,
          -0.29919169063655865,
          -0.29919169063655865,
          -0.29919169063655865,
          -0.29919169063655865,
          -0.29919169063655865,
          -0.29919169063655865,
          -0.29919169063655865,
          -0.29919169063655865,
          -0.29919169063655865,
          -0.29919169063655865,
          -0.29919169063655865,
          -0.29919169063655865,
          -0.29919169063655865,
          -0.29919169063655865,
          -0.29919169063655865,
          -0.29919169063655865,
          -0.29919169063655865,
          -0.29919169063655865,
          -0.29919169063655865,
          -0.29919169063655865,
          -0.29919169063655865,
          -0.29919169063655865,
          -0.29919169063655865,
          -0.29919169063655865,
          -0.29919169063655865,
          -0.29919169063655865,
          -0.29919169063655865,
          -0.29919169063655865,
          -0.29919169063655865,
          -0.29919169063655865,
          -0.29919169063655865,
          -0.29919169063655865,
          -0.29919169063655865,
          -0.29919169063655865,
          -0.29919169063655865,
          -0.29919169063655865,
          -0.29919169063655865
         ],
         "type": "scatter"
        },
        {
         "marker": {
          "color": "#cccccc"
         },
         "mode": "markers",
         "name": "Infeasible Trial",
         "showlegend": false,
         "x": [],
         "y": [],
         "type": "scatter"
        }
       ],
       "layout": {
        "title": {
         "text": "Optimization History Plot"
        },
        "xaxis": {
         "title": {
          "text": "Trial"
         }
        },
        "yaxis": {
         "title": {
          "text": "Objective Value"
         }
        },
        "template": {
         "data": {
          "histogram2dcontour": [
           {
            "type": "histogram2dcontour",
            "colorbar": {
             "outlinewidth": 0,
             "ticks": ""
            },
            "colorscale": [
             [
              0.0,
              "#0d0887"
             ],
             [
              0.1111111111111111,
              "#46039f"
             ],
             [
              0.2222222222222222,
              "#7201a8"
             ],
             [
              0.3333333333333333,
              "#9c179e"
             ],
             [
              0.4444444444444444,
              "#bd3786"
             ],
             [
              0.5555555555555556,
              "#d8576b"
             ],
             [
              0.6666666666666666,
              "#ed7953"
             ],
             [
              0.7777777777777778,
              "#fb9f3a"
             ],
             [
              0.8888888888888888,
              "#fdca26"
             ],
             [
              1.0,
              "#f0f921"
             ]
            ]
           }
          ],
          "choropleth": [
           {
            "type": "choropleth",
            "colorbar": {
             "outlinewidth": 0,
             "ticks": ""
            }
           }
          ],
          "histogram2d": [
           {
            "type": "histogram2d",
            "colorbar": {
             "outlinewidth": 0,
             "ticks": ""
            },
            "colorscale": [
             [
              0.0,
              "#0d0887"
             ],
             [
              0.1111111111111111,
              "#46039f"
             ],
             [
              0.2222222222222222,
              "#7201a8"
             ],
             [
              0.3333333333333333,
              "#9c179e"
             ],
             [
              0.4444444444444444,
              "#bd3786"
             ],
             [
              0.5555555555555556,
              "#d8576b"
             ],
             [
              0.6666666666666666,
              "#ed7953"
             ],
             [
              0.7777777777777778,
              "#fb9f3a"
             ],
             [
              0.8888888888888888,
              "#fdca26"
             ],
             [
              1.0,
              "#f0f921"
             ]
            ]
           }
          ],
          "heatmap": [
           {
            "type": "heatmap",
            "colorbar": {
             "outlinewidth": 0,
             "ticks": ""
            },
            "colorscale": [
             [
              0.0,
              "#0d0887"
             ],
             [
              0.1111111111111111,
              "#46039f"
             ],
             [
              0.2222222222222222,
              "#7201a8"
             ],
             [
              0.3333333333333333,
              "#9c179e"
             ],
             [
              0.4444444444444444,
              "#bd3786"
             ],
             [
              0.5555555555555556,
              "#d8576b"
             ],
             [
              0.6666666666666666,
              "#ed7953"
             ],
             [
              0.7777777777777778,
              "#fb9f3a"
             ],
             [
              0.8888888888888888,
              "#fdca26"
             ],
             [
              1.0,
              "#f0f921"
             ]
            ]
           }
          ],
          "heatmapgl": [
           {
            "type": "heatmapgl",
            "colorbar": {
             "outlinewidth": 0,
             "ticks": ""
            },
            "colorscale": [
             [
              0.0,
              "#0d0887"
             ],
             [
              0.1111111111111111,
              "#46039f"
             ],
             [
              0.2222222222222222,
              "#7201a8"
             ],
             [
              0.3333333333333333,
              "#9c179e"
             ],
             [
              0.4444444444444444,
              "#bd3786"
             ],
             [
              0.5555555555555556,
              "#d8576b"
             ],
             [
              0.6666666666666666,
              "#ed7953"
             ],
             [
              0.7777777777777778,
              "#fb9f3a"
             ],
             [
              0.8888888888888888,
              "#fdca26"
             ],
             [
              1.0,
              "#f0f921"
             ]
            ]
           }
          ],
          "contourcarpet": [
           {
            "type": "contourcarpet",
            "colorbar": {
             "outlinewidth": 0,
             "ticks": ""
            }
           }
          ],
          "contour": [
           {
            "type": "contour",
            "colorbar": {
             "outlinewidth": 0,
             "ticks": ""
            },
            "colorscale": [
             [
              0.0,
              "#0d0887"
             ],
             [
              0.1111111111111111,
              "#46039f"
             ],
             [
              0.2222222222222222,
              "#7201a8"
             ],
             [
              0.3333333333333333,
              "#9c179e"
             ],
             [
              0.4444444444444444,
              "#bd3786"
             ],
             [
              0.5555555555555556,
              "#d8576b"
             ],
             [
              0.6666666666666666,
              "#ed7953"
             ],
             [
              0.7777777777777778,
              "#fb9f3a"
             ],
             [
              0.8888888888888888,
              "#fdca26"
             ],
             [
              1.0,
              "#f0f921"
             ]
            ]
           }
          ],
          "surface": [
           {
            "type": "surface",
            "colorbar": {
             "outlinewidth": 0,
             "ticks": ""
            },
            "colorscale": [
             [
              0.0,
              "#0d0887"
             ],
             [
              0.1111111111111111,
              "#46039f"
             ],
             [
              0.2222222222222222,
              "#7201a8"
             ],
             [
              0.3333333333333333,
              "#9c179e"
             ],
             [
              0.4444444444444444,
              "#bd3786"
             ],
             [
              0.5555555555555556,
              "#d8576b"
             ],
             [
              0.6666666666666666,
              "#ed7953"
             ],
             [
              0.7777777777777778,
              "#fb9f3a"
             ],
             [
              0.8888888888888888,
              "#fdca26"
             ],
             [
              1.0,
              "#f0f921"
             ]
            ]
           }
          ],
          "mesh3d": [
           {
            "type": "mesh3d",
            "colorbar": {
             "outlinewidth": 0,
             "ticks": ""
            }
           }
          ],
          "scatter": [
           {
            "marker": {
             "line": {
              "color": "#283442"
             }
            },
            "type": "scatter"
           }
          ],
          "parcoords": [
           {
            "type": "parcoords",
            "line": {
             "colorbar": {
              "outlinewidth": 0,
              "ticks": ""
             }
            }
           }
          ],
          "scatterpolargl": [
           {
            "type": "scatterpolargl",
            "marker": {
             "colorbar": {
              "outlinewidth": 0,
              "ticks": ""
             }
            }
           }
          ],
          "bar": [
           {
            "error_x": {
             "color": "#f2f5fa"
            },
            "error_y": {
             "color": "#f2f5fa"
            },
            "marker": {
             "line": {
              "color": "rgb(17,17,17)",
              "width": 0.5
             },
             "pattern": {
              "fillmode": "overlay",
              "size": 10,
              "solidity": 0.2
             }
            },
            "type": "bar"
           }
          ],
          "scattergeo": [
           {
            "type": "scattergeo",
            "marker": {
             "colorbar": {
              "outlinewidth": 0,
              "ticks": ""
             }
            }
           }
          ],
          "scatterpolar": [
           {
            "type": "scatterpolar",
            "marker": {
             "colorbar": {
              "outlinewidth": 0,
              "ticks": ""
             }
            }
           }
          ],
          "histogram": [
           {
            "marker": {
             "pattern": {
              "fillmode": "overlay",
              "size": 10,
              "solidity": 0.2
             }
            },
            "type": "histogram"
           }
          ],
          "scattergl": [
           {
            "marker": {
             "line": {
              "color": "#283442"
             }
            },
            "type": "scattergl"
           }
          ],
          "scatter3d": [
           {
            "type": "scatter3d",
            "line": {
             "colorbar": {
              "outlinewidth": 0,
              "ticks": ""
             }
            },
            "marker": {
             "colorbar": {
              "outlinewidth": 0,
              "ticks": ""
             }
            }
           }
          ],
          "scattermapbox": [
           {
            "type": "scattermapbox",
            "marker": {
             "colorbar": {
              "outlinewidth": 0,
              "ticks": ""
             }
            }
           }
          ],
          "scatterternary": [
           {
            "type": "scatterternary",
            "marker": {
             "colorbar": {
              "outlinewidth": 0,
              "ticks": ""
             }
            }
           }
          ],
          "scattercarpet": [
           {
            "type": "scattercarpet",
            "marker": {
             "colorbar": {
              "outlinewidth": 0,
              "ticks": ""
             }
            }
           }
          ],
          "carpet": [
           {
            "aaxis": {
             "endlinecolor": "#A2B1C6",
             "gridcolor": "#506784",
             "linecolor": "#506784",
             "minorgridcolor": "#506784",
             "startlinecolor": "#A2B1C6"
            },
            "baxis": {
             "endlinecolor": "#A2B1C6",
             "gridcolor": "#506784",
             "linecolor": "#506784",
             "minorgridcolor": "#506784",
             "startlinecolor": "#A2B1C6"
            },
            "type": "carpet"
           }
          ],
          "table": [
           {
            "cells": {
             "fill": {
              "color": "#506784"
             },
             "line": {
              "color": "rgb(17,17,17)"
             }
            },
            "header": {
             "fill": {
              "color": "#2a3f5f"
             },
             "line": {
              "color": "rgb(17,17,17)"
             }
            },
            "type": "table"
           }
          ],
          "barpolar": [
           {
            "marker": {
             "line": {
              "color": "rgb(17,17,17)",
              "width": 0.5
             },
             "pattern": {
              "fillmode": "overlay",
              "size": 10,
              "solidity": 0.2
             }
            },
            "type": "barpolar"
           }
          ],
          "pie": [
           {
            "automargin": true,
            "type": "pie"
           }
          ]
         },
         "layout": {
          "autotypenumbers": "strict",
          "colorway": [
           "#636efa",
           "#EF553B",
           "#00cc96",
           "#ab63fa",
           "#FFA15A",
           "#19d3f3",
           "#FF6692",
           "#B6E880",
           "#FF97FF",
           "#FECB52"
          ],
          "font": {
           "color": "#f2f5fa"
          },
          "hovermode": "closest",
          "hoverlabel": {
           "align": "left"
          },
          "paper_bgcolor": "rgb(17,17,17)",
          "plot_bgcolor": "rgb(17,17,17)",
          "polar": {
           "bgcolor": "rgb(17,17,17)",
           "angularaxis": {
            "gridcolor": "#506784",
            "linecolor": "#506784",
            "ticks": ""
           },
           "radialaxis": {
            "gridcolor": "#506784",
            "linecolor": "#506784",
            "ticks": ""
           }
          },
          "ternary": {
           "bgcolor": "rgb(17,17,17)",
           "aaxis": {
            "gridcolor": "#506784",
            "linecolor": "#506784",
            "ticks": ""
           },
           "baxis": {
            "gridcolor": "#506784",
            "linecolor": "#506784",
            "ticks": ""
           },
           "caxis": {
            "gridcolor": "#506784",
            "linecolor": "#506784",
            "ticks": ""
           }
          },
          "coloraxis": {
           "colorbar": {
            "outlinewidth": 0,
            "ticks": ""
           }
          },
          "colorscale": {
           "sequential": [
            [
             0.0,
             "#0d0887"
            ],
            [
             0.1111111111111111,
             "#46039f"
            ],
            [
             0.2222222222222222,
             "#7201a8"
            ],
            [
             0.3333333333333333,
             "#9c179e"
            ],
            [
             0.4444444444444444,
             "#bd3786"
            ],
            [
             0.5555555555555556,
             "#d8576b"
            ],
            [
             0.6666666666666666,
             "#ed7953"
            ],
            [
             0.7777777777777778,
             "#fb9f3a"
            ],
            [
             0.8888888888888888,
             "#fdca26"
            ],
            [
             1.0,
             "#f0f921"
            ]
           ],
           "sequentialminus": [
            [
             0.0,
             "#0d0887"
            ],
            [
             0.1111111111111111,
             "#46039f"
            ],
            [
             0.2222222222222222,
             "#7201a8"
            ],
            [
             0.3333333333333333,
             "#9c179e"
            ],
            [
             0.4444444444444444,
             "#bd3786"
            ],
            [
             0.5555555555555556,
             "#d8576b"
            ],
            [
             0.6666666666666666,
             "#ed7953"
            ],
            [
             0.7777777777777778,
             "#fb9f3a"
            ],
            [
             0.8888888888888888,
             "#fdca26"
            ],
            [
             1.0,
             "#f0f921"
            ]
           ],
           "diverging": [
            [
             0,
             "#8e0152"
            ],
            [
             0.1,
             "#c51b7d"
            ],
            [
             0.2,
             "#de77ae"
            ],
            [
             0.3,
             "#f1b6da"
            ],
            [
             0.4,
             "#fde0ef"
            ],
            [
             0.5,
             "#f7f7f7"
            ],
            [
             0.6,
             "#e6f5d0"
            ],
            [
             0.7,
             "#b8e186"
            ],
            [
             0.8,
             "#7fbc41"
            ],
            [
             0.9,
             "#4d9221"
            ],
            [
             1,
             "#276419"
            ]
           ]
          },
          "xaxis": {
           "gridcolor": "#283442",
           "linecolor": "#506784",
           "ticks": "",
           "title": {
            "standoff": 15
           },
           "zerolinecolor": "#283442",
           "automargin": true,
           "zerolinewidth": 2
          },
          "yaxis": {
           "gridcolor": "#283442",
           "linecolor": "#506784",
           "ticks": "",
           "title": {
            "standoff": 15
           },
           "zerolinecolor": "#283442",
           "automargin": true,
           "zerolinewidth": 2
          },
          "scene": {
           "xaxis": {
            "backgroundcolor": "rgb(17,17,17)",
            "gridcolor": "#506784",
            "linecolor": "#506784",
            "showbackground": true,
            "ticks": "",
            "zerolinecolor": "#C8D4E3",
            "gridwidth": 2
           },
           "yaxis": {
            "backgroundcolor": "rgb(17,17,17)",
            "gridcolor": "#506784",
            "linecolor": "#506784",
            "showbackground": true,
            "ticks": "",
            "zerolinecolor": "#C8D4E3",
            "gridwidth": 2
           },
           "zaxis": {
            "backgroundcolor": "rgb(17,17,17)",
            "gridcolor": "#506784",
            "linecolor": "#506784",
            "showbackground": true,
            "ticks": "",
            "zerolinecolor": "#C8D4E3",
            "gridwidth": 2
           }
          },
          "shapedefaults": {
           "line": {
            "color": "#f2f5fa"
           }
          },
          "annotationdefaults": {
           "arrowcolor": "#f2f5fa",
           "arrowhead": 0,
           "arrowwidth": 1
          },
          "geo": {
           "bgcolor": "rgb(17,17,17)",
           "landcolor": "rgb(17,17,17)",
           "subunitcolor": "#506784",
           "showland": true,
           "showlakes": true,
           "lakecolor": "rgb(17,17,17)"
          },
          "title": {
           "x": 0.05
          },
          "updatemenudefaults": {
           "bgcolor": "#506784",
           "borderwidth": 0
          },
          "sliderdefaults": {
           "bgcolor": "#C8D4E3",
           "borderwidth": 1,
           "bordercolor": "rgb(17,17,17)",
           "tickwidth": 0
          },
          "mapbox": {
           "style": "dark"
          }
         }
        }
       },
       "config": {
        "plotlyServerURL": "https://plot.ly"
       }
      },
      "text/html": [
       "<div>                            <div id=\"c4a9cfbe-1564-4e5f-90d1-414a50da7bb9\" class=\"plotly-graph-div\" style=\"height:525px; width:100%;\"></div>            <script type=\"text/javascript\">                require([\"plotly\"], function(Plotly) {                    window.PLOTLYENV=window.PLOTLYENV || {};                                    if (document.getElementById(\"c4a9cfbe-1564-4e5f-90d1-414a50da7bb9\")) {                    Plotly.newPlot(                        \"c4a9cfbe-1564-4e5f-90d1-414a50da7bb9\",                        [{\"mode\":\"markers\",\"name\":\"Objective Value\",\"x\":[0,1,2,3,4,5,6,7,8,9,10,11,12,13,14,15,16,17,18,19,20,21,22,23,24,25,26,27,28,29,30,31,32,33,34,35,36,37,38,39,40,41,42,43,44,45,46,47,48,49,50,51,52,53,54,55,56,57,58,59,60,61,62,63,64,65,66,67,68,69,70,71,72,73,74,75,76,77,78,79,80,81,82,83,84,85,86,87,88,89,90,91,92,93,94,95,96,97,98,99,100,101,102,103,104,105,106,107,108,109,110,111,112,113,114,115,116,117,118,119,120,121,122,123,124,125,126,127,128,129,130,131,132,133,134,135,136,137,138,139,140,141,142,143,144,145,146,147,148,149,150,151,152,153,154,155,156,157,158,159,160,161,162,163,164,165,166,167,168,169,170,171,172,173,174,175,176,177,178,179,180,181,182,183,184,185,186,187,188,189,190,191,192,193,194,195,196,197,198,199,200,201],\"y\":[-2.4106863909222307,-2.519650748277333,-3.284343275829557,-2.1989724944807163,-2.3226829137249885,-2.2759861646693196,-2.1026134822151126,-2.1023286551326565,-1.5447407862361637,-2.2227363297123652,-2.9249221530653506,-3.0047030373409243,-0.5989714070341489,-3.2950556465486818,-1.5703755468415594,-2.1528563798092457,-1.5430989544029612,-1.9349474071387576,-0.49309126905191525,-1.9378370778735114,-1.447626605369622,-1.277845313534931,-1.5415914117373133,-2.0677919837123824,-2.100660057491238,-1.9989595897643908,-0.7757669119254942,-2.1005915643569386,-1.6509802073668147,-1.8304970754985224,-2.4177692444712475,-0.9200764232169153,-2.1283297161047026,-3.1931192177740657,-3.4344068514268877,-3.0465618295992742,-1.9357636422566231,-0.9344677012942256,-2.648886859849614,-1.9310625873701088,-2.0028704571799194,-0.9270178902811104,-2.9269648422619876,-0.8174499137927207,-2.100582700509782,-0.3189918350232037,-1.9329047435585427,-2.3176992384241673,-1.5609559126365269,-0.5409192779828154,-2.9269027316478837,-2.3997764422298657,-3.0377701668462542,-1.678505528475257,-0.4514125756813536,-0.8139169194148861,-2.9238423710414096,-2.686442941714101,-0.7889232839434953,-3.052164350009369,-1.905963978326422,-0.7474605655125964,-1.7539616536430405,-1.6603833684438207,-2.3310252314377182,-3.40019046039741,-3.2965808029020662,-2.196934784523615,-1.757610894076733,-0.8178541415924769,-3.3190573398121783,-1.1603152252015103,-2.626952465123625,-3.0360532606044943,-1.5387019901585268,-2.094920981263411,-2.054773333024976,-2.267074998713319,-3.4448274005432267,-0.47685443373070946,-2.3290758585383182,-3.440546185140582,-0.8275887619257715,-2.7670673232418626,-3.0401375971891724,-3.146297220372183,-0.7709228469741752,-2.7920081926244715,-1.270637807527762,-2.1555400636449873,-2.4092148588340967,-1.074605115464937,-2.1736060088488323,-2.3202582410778585,-2.260756283780414,-2.762935514516264,-0.29919169063655865,-1.270036203600582,-3.4422339159242186,-1.427535860047049,-2.3114707095658096,-2.1511071719514594,-1.6758041341927843,-2.6394067230682756,-1.433296766318653,-1.9923148992584903,-1.5469547022413415,-3.3005642119111807,-3.3915220593636293,-2.791637149605172,-2.6434463006432374,-2.231454546976331,-2.8026861466320545,-0.9416787237856266,-1.5758734985130085,-3.1434623146115115,-3.423350445487677,-3.030506041531152,-3.191070031389646,-1.7512398675947014,-2.198379521172387,-1.4419998969725578,-0.9232403306433946,-1.9156080952032148,-2.0495732354368403,-0.49951147011782837,-0.5607659827198106,-2.6116465877933193,-1.8871598254970874,-0.9395294823838549,-1.47316040527198,-2.089059348166976,-2.333937673417438,-0.4293373851706946,-3.3203950122780155,-1.8518035810303304,-0.9852306103240629,-3.3750636438012007,-2.2250902550979412,-1.7230491626233995,-0.4282767524266718,-1.1030393808380612,-2.401627525229926,-2.0523442903414697,-1.937898855577648,-2.1437739379706384,-2.4082209587737693,-0.3813825341437618,-2.1452406026077147,-2.234698262835625,-1.0209994922412493,-1.323096328801864,-1.0932291386855595,-2.7874320470377496,-3.392360101813176,-0.48031874239799793,-0.35134803919444363,-1.5260837799009432,-3.412610779172686,-2.3159689318310326,-0.8663114360244656,-1.656581326389435,-2.788482297495373,-1.4252897357785868,-1.7441545600860224,-1.4234894447861701,-1.826458600031361,-2.664035915238473,-2.514592713444773,-0.9212118671092696,-2.646847959520359,-2.1093635183586628,-2.7840628831377163,-0.5214426338486382,-0.5906629566150294,-3.385628145882497,-3.460043983526296,-2.5163221659505672,-2.196287392895061,-1.3640812302325607,-2.1717850568142336,-2.1700246415409348,-2.2188377050772314,-0.9392158431937592,-2.134590093959692,-1.4034463595931579,-2.785022701959218,-3.219718473341551,-2.233010457183697,-2.5552910341982136,-3.1492908012437937,-2.2213626787663245,-1.833597045290352,-2.1635500394749756,-1.8260057566364765,-2.194308179236031,-1.1990026404193093,-1.5595606875422725,-3.168699631866126,-3.4238329104222904,-2.1424618868252545,-2.1661008482272703],\"type\":\"scatter\"},{\"mode\":\"lines\",\"name\":\"Best Value\",\"x\":[0,1,2,3,4,5,6,7,8,9,10,11,12,13,14,15,16,17,18,19,20,21,22,23,24,25,26,27,28,29,30,31,32,33,34,35,36,37,38,39,40,41,42,43,44,45,46,47,48,49,50,51,52,53,54,55,56,57,58,59,60,61,62,63,64,65,66,67,68,69,70,71,72,73,74,75,76,77,78,79,80,81,82,83,84,85,86,87,88,89,90,91,92,93,94,95,96,97,98,99,100,101,102,103,104,105,106,107,108,109,110,111,112,113,114,115,116,117,118,119,120,121,122,123,124,125,126,127,128,129,130,131,132,133,134,135,136,137,138,139,140,141,142,143,144,145,146,147,148,149,150,151,152,153,154,155,156,157,158,159,160,161,162,163,164,165,166,167,168,169,170,171,172,173,174,175,176,177,178,179,180,181,182,183,184,185,186,187,188,189,190,191,192,193,194,195,196,197,198,199,200,201],\"y\":[-2.4106863909222307,-2.4106863909222307,-2.4106863909222307,-2.1989724944807163,-2.1989724944807163,-2.1989724944807163,-2.1026134822151126,-2.1023286551326565,-1.5447407862361637,-1.5447407862361637,-1.5447407862361637,-1.5447407862361637,-0.5989714070341489,-0.5989714070341489,-0.5989714070341489,-0.5989714070341489,-0.5989714070341489,-0.5989714070341489,-0.49309126905191525,-0.49309126905191525,-0.49309126905191525,-0.49309126905191525,-0.49309126905191525,-0.49309126905191525,-0.49309126905191525,-0.49309126905191525,-0.49309126905191525,-0.49309126905191525,-0.49309126905191525,-0.49309126905191525,-0.49309126905191525,-0.49309126905191525,-0.49309126905191525,-0.49309126905191525,-0.49309126905191525,-0.49309126905191525,-0.49309126905191525,-0.49309126905191525,-0.49309126905191525,-0.49309126905191525,-0.49309126905191525,-0.49309126905191525,-0.49309126905191525,-0.49309126905191525,-0.49309126905191525,-0.3189918350232037,-0.3189918350232037,-0.3189918350232037,-0.3189918350232037,-0.3189918350232037,-0.3189918350232037,-0.3189918350232037,-0.3189918350232037,-0.3189918350232037,-0.3189918350232037,-0.3189918350232037,-0.3189918350232037,-0.3189918350232037,-0.3189918350232037,-0.3189918350232037,-0.3189918350232037,-0.3189918350232037,-0.3189918350232037,-0.3189918350232037,-0.3189918350232037,-0.3189918350232037,-0.3189918350232037,-0.3189918350232037,-0.3189918350232037,-0.3189918350232037,-0.3189918350232037,-0.3189918350232037,-0.3189918350232037,-0.3189918350232037,-0.3189918350232037,-0.3189918350232037,-0.3189918350232037,-0.3189918350232037,-0.3189918350232037,-0.3189918350232037,-0.3189918350232037,-0.3189918350232037,-0.3189918350232037,-0.3189918350232037,-0.3189918350232037,-0.3189918350232037,-0.3189918350232037,-0.3189918350232037,-0.3189918350232037,-0.3189918350232037,-0.3189918350232037,-0.3189918350232037,-0.3189918350232037,-0.3189918350232037,-0.3189918350232037,-0.3189918350232037,-0.29919169063655865,-0.29919169063655865,-0.29919169063655865,-0.29919169063655865,-0.29919169063655865,-0.29919169063655865,-0.29919169063655865,-0.29919169063655865,-0.29919169063655865,-0.29919169063655865,-0.29919169063655865,-0.29919169063655865,-0.29919169063655865,-0.29919169063655865,-0.29919169063655865,-0.29919169063655865,-0.29919169063655865,-0.29919169063655865,-0.29919169063655865,-0.29919169063655865,-0.29919169063655865,-0.29919169063655865,-0.29919169063655865,-0.29919169063655865,-0.29919169063655865,-0.29919169063655865,-0.29919169063655865,-0.29919169063655865,-0.29919169063655865,-0.29919169063655865,-0.29919169063655865,-0.29919169063655865,-0.29919169063655865,-0.29919169063655865,-0.29919169063655865,-0.29919169063655865,-0.29919169063655865,-0.29919169063655865,-0.29919169063655865,-0.29919169063655865,-0.29919169063655865,-0.29919169063655865,-0.29919169063655865,-0.29919169063655865,-0.29919169063655865,-0.29919169063655865,-0.29919169063655865,-0.29919169063655865,-0.29919169063655865,-0.29919169063655865,-0.29919169063655865,-0.29919169063655865,-0.29919169063655865,-0.29919169063655865,-0.29919169063655865,-0.29919169063655865,-0.29919169063655865,-0.29919169063655865,-0.29919169063655865,-0.29919169063655865,-0.29919169063655865,-0.29919169063655865,-0.29919169063655865,-0.29919169063655865,-0.29919169063655865,-0.29919169063655865,-0.29919169063655865,-0.29919169063655865,-0.29919169063655865,-0.29919169063655865,-0.29919169063655865,-0.29919169063655865,-0.29919169063655865,-0.29919169063655865,-0.29919169063655865,-0.29919169063655865,-0.29919169063655865,-0.29919169063655865,-0.29919169063655865,-0.29919169063655865,-0.29919169063655865,-0.29919169063655865,-0.29919169063655865,-0.29919169063655865,-0.29919169063655865,-0.29919169063655865,-0.29919169063655865,-0.29919169063655865,-0.29919169063655865,-0.29919169063655865,-0.29919169063655865,-0.29919169063655865,-0.29919169063655865,-0.29919169063655865,-0.29919169063655865,-0.29919169063655865,-0.29919169063655865,-0.29919169063655865,-0.29919169063655865,-0.29919169063655865,-0.29919169063655865,-0.29919169063655865,-0.29919169063655865,-0.29919169063655865,-0.29919169063655865,-0.29919169063655865],\"type\":\"scatter\"},{\"marker\":{\"color\":\"#cccccc\"},\"mode\":\"markers\",\"name\":\"Infeasible Trial\",\"showlegend\":false,\"x\":[],\"y\":[],\"type\":\"scatter\"}],                        {\"title\":{\"text\":\"Optimization History Plot\"},\"xaxis\":{\"title\":{\"text\":\"Trial\"}},\"yaxis\":{\"title\":{\"text\":\"Objective Value\"}},\"template\":{\"data\":{\"histogram2dcontour\":[{\"type\":\"histogram2dcontour\",\"colorbar\":{\"outlinewidth\":0,\"ticks\":\"\"},\"colorscale\":[[0.0,\"#0d0887\"],[0.1111111111111111,\"#46039f\"],[0.2222222222222222,\"#7201a8\"],[0.3333333333333333,\"#9c179e\"],[0.4444444444444444,\"#bd3786\"],[0.5555555555555556,\"#d8576b\"],[0.6666666666666666,\"#ed7953\"],[0.7777777777777778,\"#fb9f3a\"],[0.8888888888888888,\"#fdca26\"],[1.0,\"#f0f921\"]]}],\"choropleth\":[{\"type\":\"choropleth\",\"colorbar\":{\"outlinewidth\":0,\"ticks\":\"\"}}],\"histogram2d\":[{\"type\":\"histogram2d\",\"colorbar\":{\"outlinewidth\":0,\"ticks\":\"\"},\"colorscale\":[[0.0,\"#0d0887\"],[0.1111111111111111,\"#46039f\"],[0.2222222222222222,\"#7201a8\"],[0.3333333333333333,\"#9c179e\"],[0.4444444444444444,\"#bd3786\"],[0.5555555555555556,\"#d8576b\"],[0.6666666666666666,\"#ed7953\"],[0.7777777777777778,\"#fb9f3a\"],[0.8888888888888888,\"#fdca26\"],[1.0,\"#f0f921\"]]}],\"heatmap\":[{\"type\":\"heatmap\",\"colorbar\":{\"outlinewidth\":0,\"ticks\":\"\"},\"colorscale\":[[0.0,\"#0d0887\"],[0.1111111111111111,\"#46039f\"],[0.2222222222222222,\"#7201a8\"],[0.3333333333333333,\"#9c179e\"],[0.4444444444444444,\"#bd3786\"],[0.5555555555555556,\"#d8576b\"],[0.6666666666666666,\"#ed7953\"],[0.7777777777777778,\"#fb9f3a\"],[0.8888888888888888,\"#fdca26\"],[1.0,\"#f0f921\"]]}],\"heatmapgl\":[{\"type\":\"heatmapgl\",\"colorbar\":{\"outlinewidth\":0,\"ticks\":\"\"},\"colorscale\":[[0.0,\"#0d0887\"],[0.1111111111111111,\"#46039f\"],[0.2222222222222222,\"#7201a8\"],[0.3333333333333333,\"#9c179e\"],[0.4444444444444444,\"#bd3786\"],[0.5555555555555556,\"#d8576b\"],[0.6666666666666666,\"#ed7953\"],[0.7777777777777778,\"#fb9f3a\"],[0.8888888888888888,\"#fdca26\"],[1.0,\"#f0f921\"]]}],\"contourcarpet\":[{\"type\":\"contourcarpet\",\"colorbar\":{\"outlinewidth\":0,\"ticks\":\"\"}}],\"contour\":[{\"type\":\"contour\",\"colorbar\":{\"outlinewidth\":0,\"ticks\":\"\"},\"colorscale\":[[0.0,\"#0d0887\"],[0.1111111111111111,\"#46039f\"],[0.2222222222222222,\"#7201a8\"],[0.3333333333333333,\"#9c179e\"],[0.4444444444444444,\"#bd3786\"],[0.5555555555555556,\"#d8576b\"],[0.6666666666666666,\"#ed7953\"],[0.7777777777777778,\"#fb9f3a\"],[0.8888888888888888,\"#fdca26\"],[1.0,\"#f0f921\"]]}],\"surface\":[{\"type\":\"surface\",\"colorbar\":{\"outlinewidth\":0,\"ticks\":\"\"},\"colorscale\":[[0.0,\"#0d0887\"],[0.1111111111111111,\"#46039f\"],[0.2222222222222222,\"#7201a8\"],[0.3333333333333333,\"#9c179e\"],[0.4444444444444444,\"#bd3786\"],[0.5555555555555556,\"#d8576b\"],[0.6666666666666666,\"#ed7953\"],[0.7777777777777778,\"#fb9f3a\"],[0.8888888888888888,\"#fdca26\"],[1.0,\"#f0f921\"]]}],\"mesh3d\":[{\"type\":\"mesh3d\",\"colorbar\":{\"outlinewidth\":0,\"ticks\":\"\"}}],\"scatter\":[{\"marker\":{\"line\":{\"color\":\"#283442\"}},\"type\":\"scatter\"}],\"parcoords\":[{\"type\":\"parcoords\",\"line\":{\"colorbar\":{\"outlinewidth\":0,\"ticks\":\"\"}}}],\"scatterpolargl\":[{\"type\":\"scatterpolargl\",\"marker\":{\"colorbar\":{\"outlinewidth\":0,\"ticks\":\"\"}}}],\"bar\":[{\"error_x\":{\"color\":\"#f2f5fa\"},\"error_y\":{\"color\":\"#f2f5fa\"},\"marker\":{\"line\":{\"color\":\"rgb(17,17,17)\",\"width\":0.5},\"pattern\":{\"fillmode\":\"overlay\",\"size\":10,\"solidity\":0.2}},\"type\":\"bar\"}],\"scattergeo\":[{\"type\":\"scattergeo\",\"marker\":{\"colorbar\":{\"outlinewidth\":0,\"ticks\":\"\"}}}],\"scatterpolar\":[{\"type\":\"scatterpolar\",\"marker\":{\"colorbar\":{\"outlinewidth\":0,\"ticks\":\"\"}}}],\"histogram\":[{\"marker\":{\"pattern\":{\"fillmode\":\"overlay\",\"size\":10,\"solidity\":0.2}},\"type\":\"histogram\"}],\"scattergl\":[{\"marker\":{\"line\":{\"color\":\"#283442\"}},\"type\":\"scattergl\"}],\"scatter3d\":[{\"type\":\"scatter3d\",\"line\":{\"colorbar\":{\"outlinewidth\":0,\"ticks\":\"\"}},\"marker\":{\"colorbar\":{\"outlinewidth\":0,\"ticks\":\"\"}}}],\"scattermapbox\":[{\"type\":\"scattermapbox\",\"marker\":{\"colorbar\":{\"outlinewidth\":0,\"ticks\":\"\"}}}],\"scatterternary\":[{\"type\":\"scatterternary\",\"marker\":{\"colorbar\":{\"outlinewidth\":0,\"ticks\":\"\"}}}],\"scattercarpet\":[{\"type\":\"scattercarpet\",\"marker\":{\"colorbar\":{\"outlinewidth\":0,\"ticks\":\"\"}}}],\"carpet\":[{\"aaxis\":{\"endlinecolor\":\"#A2B1C6\",\"gridcolor\":\"#506784\",\"linecolor\":\"#506784\",\"minorgridcolor\":\"#506784\",\"startlinecolor\":\"#A2B1C6\"},\"baxis\":{\"endlinecolor\":\"#A2B1C6\",\"gridcolor\":\"#506784\",\"linecolor\":\"#506784\",\"minorgridcolor\":\"#506784\",\"startlinecolor\":\"#A2B1C6\"},\"type\":\"carpet\"}],\"table\":[{\"cells\":{\"fill\":{\"color\":\"#506784\"},\"line\":{\"color\":\"rgb(17,17,17)\"}},\"header\":{\"fill\":{\"color\":\"#2a3f5f\"},\"line\":{\"color\":\"rgb(17,17,17)\"}},\"type\":\"table\"}],\"barpolar\":[{\"marker\":{\"line\":{\"color\":\"rgb(17,17,17)\",\"width\":0.5},\"pattern\":{\"fillmode\":\"overlay\",\"size\":10,\"solidity\":0.2}},\"type\":\"barpolar\"}],\"pie\":[{\"automargin\":true,\"type\":\"pie\"}]},\"layout\":{\"autotypenumbers\":\"strict\",\"colorway\":[\"#636efa\",\"#EF553B\",\"#00cc96\",\"#ab63fa\",\"#FFA15A\",\"#19d3f3\",\"#FF6692\",\"#B6E880\",\"#FF97FF\",\"#FECB52\"],\"font\":{\"color\":\"#f2f5fa\"},\"hovermode\":\"closest\",\"hoverlabel\":{\"align\":\"left\"},\"paper_bgcolor\":\"rgb(17,17,17)\",\"plot_bgcolor\":\"rgb(17,17,17)\",\"polar\":{\"bgcolor\":\"rgb(17,17,17)\",\"angularaxis\":{\"gridcolor\":\"#506784\",\"linecolor\":\"#506784\",\"ticks\":\"\"},\"radialaxis\":{\"gridcolor\":\"#506784\",\"linecolor\":\"#506784\",\"ticks\":\"\"}},\"ternary\":{\"bgcolor\":\"rgb(17,17,17)\",\"aaxis\":{\"gridcolor\":\"#506784\",\"linecolor\":\"#506784\",\"ticks\":\"\"},\"baxis\":{\"gridcolor\":\"#506784\",\"linecolor\":\"#506784\",\"ticks\":\"\"},\"caxis\":{\"gridcolor\":\"#506784\",\"linecolor\":\"#506784\",\"ticks\":\"\"}},\"coloraxis\":{\"colorbar\":{\"outlinewidth\":0,\"ticks\":\"\"}},\"colorscale\":{\"sequential\":[[0.0,\"#0d0887\"],[0.1111111111111111,\"#46039f\"],[0.2222222222222222,\"#7201a8\"],[0.3333333333333333,\"#9c179e\"],[0.4444444444444444,\"#bd3786\"],[0.5555555555555556,\"#d8576b\"],[0.6666666666666666,\"#ed7953\"],[0.7777777777777778,\"#fb9f3a\"],[0.8888888888888888,\"#fdca26\"],[1.0,\"#f0f921\"]],\"sequentialminus\":[[0.0,\"#0d0887\"],[0.1111111111111111,\"#46039f\"],[0.2222222222222222,\"#7201a8\"],[0.3333333333333333,\"#9c179e\"],[0.4444444444444444,\"#bd3786\"],[0.5555555555555556,\"#d8576b\"],[0.6666666666666666,\"#ed7953\"],[0.7777777777777778,\"#fb9f3a\"],[0.8888888888888888,\"#fdca26\"],[1.0,\"#f0f921\"]],\"diverging\":[[0,\"#8e0152\"],[0.1,\"#c51b7d\"],[0.2,\"#de77ae\"],[0.3,\"#f1b6da\"],[0.4,\"#fde0ef\"],[0.5,\"#f7f7f7\"],[0.6,\"#e6f5d0\"],[0.7,\"#b8e186\"],[0.8,\"#7fbc41\"],[0.9,\"#4d9221\"],[1,\"#276419\"]]},\"xaxis\":{\"gridcolor\":\"#283442\",\"linecolor\":\"#506784\",\"ticks\":\"\",\"title\":{\"standoff\":15},\"zerolinecolor\":\"#283442\",\"automargin\":true,\"zerolinewidth\":2},\"yaxis\":{\"gridcolor\":\"#283442\",\"linecolor\":\"#506784\",\"ticks\":\"\",\"title\":{\"standoff\":15},\"zerolinecolor\":\"#283442\",\"automargin\":true,\"zerolinewidth\":2},\"scene\":{\"xaxis\":{\"backgroundcolor\":\"rgb(17,17,17)\",\"gridcolor\":\"#506784\",\"linecolor\":\"#506784\",\"showbackground\":true,\"ticks\":\"\",\"zerolinecolor\":\"#C8D4E3\",\"gridwidth\":2},\"yaxis\":{\"backgroundcolor\":\"rgb(17,17,17)\",\"gridcolor\":\"#506784\",\"linecolor\":\"#506784\",\"showbackground\":true,\"ticks\":\"\",\"zerolinecolor\":\"#C8D4E3\",\"gridwidth\":2},\"zaxis\":{\"backgroundcolor\":\"rgb(17,17,17)\",\"gridcolor\":\"#506784\",\"linecolor\":\"#506784\",\"showbackground\":true,\"ticks\":\"\",\"zerolinecolor\":\"#C8D4E3\",\"gridwidth\":2}},\"shapedefaults\":{\"line\":{\"color\":\"#f2f5fa\"}},\"annotationdefaults\":{\"arrowcolor\":\"#f2f5fa\",\"arrowhead\":0,\"arrowwidth\":1},\"geo\":{\"bgcolor\":\"rgb(17,17,17)\",\"landcolor\":\"rgb(17,17,17)\",\"subunitcolor\":\"#506784\",\"showland\":true,\"showlakes\":true,\"lakecolor\":\"rgb(17,17,17)\"},\"title\":{\"x\":0.05},\"updatemenudefaults\":{\"bgcolor\":\"#506784\",\"borderwidth\":0},\"sliderdefaults\":{\"bgcolor\":\"#C8D4E3\",\"borderwidth\":1,\"bordercolor\":\"rgb(17,17,17)\",\"tickwidth\":0},\"mapbox\":{\"style\":\"dark\"}}}},                        {\"responsive\": true}                    ).then(function(){\n",
       "                            \n",
       "var gd = document.getElementById('c4a9cfbe-1564-4e5f-90d1-414a50da7bb9');\n",
       "var x = new MutationObserver(function (mutations, observer) {{\n",
       "        var display = window.getComputedStyle(gd).display;\n",
       "        if (!display || display === 'none') {{\n",
       "            console.log([gd, 'removed!']);\n",
       "            Plotly.purge(gd);\n",
       "            observer.disconnect();\n",
       "        }}\n",
       "}});\n",
       "\n",
       "// Listen for the removal of the full notebook cells\n",
       "var notebookContainer = gd.closest('#notebook-container');\n",
       "if (notebookContainer) {{\n",
       "    x.observe(notebookContainer, {childList: true});\n",
       "}}\n",
       "\n",
       "// Listen for the clearing of the current output cell\n",
       "var outputEl = gd.closest('.output');\n",
       "if (outputEl) {{\n",
       "    x.observe(outputEl, {childList: true});\n",
       "}}\n",
       "\n",
       "                        })                };                });            </script>        </div>"
      ]
     },
     "metadata": {},
     "output_type": "display_data"
    }
   ],
   "execution_count": 17
  },
  {
   "metadata": {
    "ExecuteTime": {
     "end_time": "2024-11-04T19:57:09.203257Z",
     "start_time": "2024-11-04T19:57:09.098732Z"
    }
   },
   "cell_type": "code",
   "source": "optuna.visualization.plot_parallel_coordinate(study)",
   "id": "3ff68c0c8ab2b144",
   "outputs": [
    {
     "data": {
      "application/vnd.plotly.v1+json": {
       "data": [
        {
         "dimensions": [
          {
           "label": "Objective Value",
           "range": [
            -3.460043983526296,
            -0.29919169063655865
           ],
           "values": [
            -2.4106863909222307,
            -2.519650748277333,
            -3.284343275829557,
            -2.1989724944807163,
            -2.3226829137249885,
            -2.2759861646693196,
            -2.1026134822151126,
            -2.1023286551326565,
            -1.5447407862361637,
            -2.2227363297123652,
            -2.9249221530653506,
            -3.0047030373409243,
            -0.5989714070341489,
            -3.2950556465486818,
            -1.5703755468415594,
            -2.1528563798092457,
            -1.5430989544029612,
            -1.9349474071387576,
            -0.49309126905191525,
            -1.9378370778735114,
            -1.447626605369622,
            -1.277845313534931,
            -1.5415914117373133,
            -2.0677919837123824,
            -2.100660057491238,
            -1.9989595897643908,
            -0.7757669119254942,
            -2.1005915643569386,
            -1.6509802073668147,
            -1.8304970754985224,
            -2.4177692444712475,
            -0.9200764232169153,
            -2.1283297161047026,
            -3.1931192177740657,
            -3.4344068514268877,
            -3.0465618295992742,
            -1.9357636422566231,
            -0.9344677012942256,
            -2.648886859849614,
            -1.9310625873701088,
            -2.0028704571799194,
            -0.9270178902811104,
            -2.9269648422619876,
            -0.8174499137927207,
            -2.100582700509782,
            -0.3189918350232037,
            -1.9329047435585427,
            -2.3176992384241673,
            -1.5609559126365269,
            -0.5409192779828154,
            -2.9269027316478837,
            -2.3997764422298657,
            -3.0377701668462542,
            -1.678505528475257,
            -0.4514125756813536,
            -0.8139169194148861,
            -2.9238423710414096,
            -2.686442941714101,
            -0.7889232839434953,
            -3.052164350009369,
            -1.905963978326422,
            -0.7474605655125964,
            -1.7539616536430405,
            -1.6603833684438207,
            -2.3310252314377182,
            -3.40019046039741,
            -3.2965808029020662,
            -2.196934784523615,
            -1.757610894076733,
            -0.8178541415924769,
            -3.3190573398121783,
            -1.1603152252015103,
            -2.626952465123625,
            -3.0360532606044943,
            -1.5387019901585268,
            -2.094920981263411,
            -2.054773333024976,
            -2.267074998713319,
            -3.4448274005432267,
            -0.47685443373070946,
            -2.3290758585383182,
            -3.440546185140582,
            -0.8275887619257715,
            -2.7670673232418626,
            -3.0401375971891724,
            -3.146297220372183,
            -0.7709228469741752,
            -2.7920081926244715,
            -1.270637807527762,
            -2.1555400636449873,
            -2.4092148588340967,
            -1.074605115464937,
            -2.1736060088488323,
            -2.3202582410778585,
            -2.260756283780414,
            -2.762935514516264,
            -0.29919169063655865,
            -1.270036203600582,
            -3.4422339159242186,
            -1.427535860047049,
            -2.3114707095658096,
            -2.1511071719514594,
            -1.6758041341927843,
            -2.6394067230682756,
            -1.433296766318653,
            -1.9923148992584903,
            -1.5469547022413415,
            -3.3005642119111807,
            -3.3915220593636293,
            -2.791637149605172,
            -2.6434463006432374,
            -2.231454546976331,
            -2.8026861466320545,
            -0.9416787237856266,
            -1.5758734985130085,
            -3.1434623146115115,
            -3.423350445487677,
            -3.030506041531152,
            -3.191070031389646,
            -1.7512398675947014,
            -2.198379521172387,
            -1.4419998969725578,
            -0.9232403306433946,
            -1.9156080952032148,
            -2.0495732354368403,
            -0.49951147011782837,
            -0.5607659827198106,
            -2.6116465877933193,
            -1.8871598254970874,
            -0.9395294823838549,
            -1.47316040527198,
            -2.089059348166976,
            -2.333937673417438,
            -0.4293373851706946,
            -3.3203950122780155,
            -1.8518035810303304,
            -0.9852306103240629,
            -3.3750636438012007,
            -2.2250902550979412,
            -1.7230491626233995,
            -0.4282767524266718,
            -1.1030393808380612,
            -2.401627525229926,
            -2.0523442903414697,
            -1.937898855577648,
            -2.1437739379706384,
            -2.4082209587737693,
            -0.3813825341437618,
            -2.1452406026077147,
            -2.234698262835625,
            -1.0209994922412493,
            -1.323096328801864,
            -1.0932291386855595,
            -2.7874320470377496,
            -3.392360101813176,
            -0.48031874239799793,
            -0.35134803919444363,
            -1.5260837799009432,
            -3.412610779172686,
            -2.3159689318310326,
            -0.8663114360244656,
            -1.656581326389435,
            -2.788482297495373,
            -1.4252897357785868,
            -1.7441545600860224,
            -1.4234894447861701,
            -1.826458600031361,
            -2.664035915238473,
            -2.514592713444773,
            -0.9212118671092696,
            -2.646847959520359,
            -2.1093635183586628,
            -2.7840628831377163,
            -0.5214426338486382,
            -0.5906629566150294,
            -3.385628145882497,
            -3.460043983526296,
            -2.5163221659505672,
            -2.196287392895061,
            -1.3640812302325607,
            -2.1717850568142336,
            -2.1700246415409348,
            -2.2188377050772314,
            -0.9392158431937592,
            -2.134590093959692,
            -1.4034463595931579,
            -2.785022701959218,
            -3.219718473341551,
            -2.233010457183697,
            -2.5552910341982136,
            -3.1492908012437937,
            -2.2213626787663245,
            -1.833597045290352,
            -2.1635500394749756,
            -1.8260057566364765,
            -2.194308179236031,
            -1.1990026404193093,
            -1.5595606875422725,
            -3.168699631866126,
            -3.4238329104222904,
            -2.1424618868252545,
            -2.1661008482272703
           ]
          },
          {
           "label": "max_depth",
           "range": [
            10,
            15
           ],
           "values": [
            10,
            11,
            10,
            13,
            11,
            10,
            12,
            13,
            11,
            14,
            14,
            14,
            10,
            10,
            12,
            15,
            12,
            14,
            13,
            14,
            13,
            10,
            13,
            15,
            12,
            15,
            14,
            13,
            10,
            11,
            14,
            13,
            10,
            12,
            13,
            14,
            14,
            10,
            14,
            13,
            10,
            13,
            13,
            14,
            11,
            15,
            14,
            12,
            11,
            14,
            14,
            11,
            13,
            11,
            10,
            15,
            12,
            14,
            13,
            12,
            12,
            15,
            11,
            13,
            13,
            10,
            11,
            14,
            10,
            11,
            12,
            12,
            10,
            13,
            13,
            11,
            11,
            14,
            10,
            10,
            11,
            11,
            12,
            14,
            11,
            13,
            13,
            15,
            15,
            15,
            10,
            12,
            14,
            13,
            14,
            10,
            11,
            10,
            10,
            14,
            14,
            13,
            14,
            14,
            15,
            10,
            15,
            13,
            15,
            10,
            11,
            13,
            13,
            13,
            15,
            10,
            11,
            15,
            10,
            14,
            10,
            14,
            14,
            14,
            10,
            10,
            15,
            10,
            15,
            15,
            15,
            13,
            10,
            14,
            11,
            12,
            13,
            10,
            11,
            13,
            15,
            15,
            10,
            11,
            13,
            14,
            13,
            14,
            11,
            14,
            15,
            11,
            13,
            13,
            14,
            12,
            14,
            13,
            10,
            14,
            10,
            15,
            10,
            11,
            11,
            11,
            15,
            11,
            10,
            11,
            14,
            15,
            10,
            15,
            13,
            12,
            12,
            14,
            11,
            14,
            11,
            11,
            14,
            12,
            13,
            11,
            12,
            14,
            13,
            10,
            13,
            12,
            14,
            11,
            15,
            15,
            15,
            12,
            12,
            11,
            12,
            15
           ]
          },
          {
           "label": "min_samples_leaf",
           "range": [
            1,
            32
           ],
           "values": [
            24,
            25,
            31,
            20,
            23,
            22,
            17,
            17,
            10,
            21,
            28,
            29,
            3,
            31,
            9,
            19,
            10,
            14,
            2,
            14,
            9,
            8,
            10,
            16,
            17,
            15,
            2,
            17,
            11,
            12,
            24,
            6,
            18,
            30,
            32,
            29,
            14,
            6,
            26,
            14,
            15,
            6,
            28,
            1,
            17,
            1,
            14,
            23,
            10,
            3,
            28,
            24,
            29,
            10,
            3,
            5,
            28,
            26,
            4,
            29,
            14,
            2,
            12,
            10,
            23,
            32,
            31,
            20,
            12,
            1,
            31,
            2,
            26,
            29,
            10,
            17,
            16,
            22,
            32,
            1,
            23,
            32,
            4,
            27,
            29,
            30,
            5,
            27,
            8,
            19,
            24,
            5,
            19,
            23,
            22,
            27,
            2,
            8,
            32,
            9,
            23,
            18,
            10,
            26,
            9,
            15,
            10,
            31,
            32,
            27,
            26,
            21,
            27,
            5,
            9,
            30,
            32,
            29,
            30,
            12,
            20,
            9,
            6,
            14,
            16,
            2,
            2,
            26,
            13,
            5,
            8,
            17,
            23,
            2,
            31,
            13,
            1,
            32,
            21,
            11,
            3,
            7,
            24,
            16,
            14,
            18,
            24,
            1,
            18,
            21,
            5,
            7,
            7,
            27,
            32,
            1,
            2,
            10,
            32,
            23,
            1,
            11,
            27,
            9,
            12,
            9,
            12,
            26,
            25,
            6,
            26,
            17,
            27,
            1,
            1,
            32,
            32,
            25,
            20,
            8,
            19,
            19,
            21,
            1,
            18,
            7,
            27,
            31,
            21,
            25,
            30,
            21,
            13,
            19,
            12,
            20,
            1,
            10,
            30,
            32,
            18,
            19
           ]
          },
          {
           "label": "min_samples_split",
           "range": [
            2,
            32
           ],
           "values": [
            21,
            8,
            23,
            27,
            30,
            13,
            21,
            26,
            4,
            3,
            8,
            11,
            14,
            13,
            27,
            18,
            4,
            3,
            12,
            29,
            20,
            11,
            16,
            12,
            11,
            4,
            20,
            11,
            3,
            29,
            5,
            6,
            9,
            30,
            2,
            19,
            6,
            15,
            4,
            8,
            2,
            13,
            26,
            21,
            16,
            7,
            16,
            4,
            19,
            12,
            14,
            27,
            8,
            28,
            7,
            16,
            2,
            13,
            19,
            17,
            26,
            19,
            21,
            27,
            31,
            16,
            3,
            31,
            5,
            21,
            29,
            29,
            4,
            29,
            3,
            26,
            4,
            8,
            31,
            12,
            6,
            17,
            20,
            19,
            21,
            17,
            12,
            20,
            2,
            30,
            25,
            25,
            10,
            15,
            3,
            21,
            4,
            10,
            3,
            14,
            22,
            15,
            29,
            18,
            18,
            7,
            19,
            17,
            21,
            10,
            5,
            10,
            25,
            22,
            27,
            16,
            14,
            25,
            26,
            11,
            8,
            19,
            11,
            3,
            17,
            12,
            14,
            27,
            30,
            21,
            28,
            20,
            2,
            10,
            12,
            5,
            25,
            29,
            30,
            26,
            2,
            11,
            14,
            9,
            25,
            13,
            10,
            9,
            8,
            17,
            24,
            27,
            8,
            11,
            10,
            12,
            7,
            5,
            31,
            4,
            22,
            2,
            2,
            6,
            13,
            11,
            29,
            27,
            27,
            5,
            9,
            32,
            29,
            13,
            15,
            14,
            10,
            22,
            9,
            22,
            13,
            17,
            16,
            24,
            27,
            30,
            8,
            16,
            29,
            6,
            19,
            23,
            25,
            32,
            28,
            19,
            30,
            6,
            11,
            26,
            26,
            31
           ]
          },
          {
           "label": "n_estimators",
           "range": [
            101,
            992
           ],
           "values": [
            794,
            549,
            252,
            103,
            750,
            588,
            498,
            686,
            918,
            202,
            593,
            416,
            393,
            839,
            989,
            638,
            135,
            397,
            383,
            892,
            645,
            371,
            602,
            157,
            980,
            620,
            804,
            415,
            706,
            197,
            297,
            523,
            681,
            304,
            610,
            616,
            626,
            725,
            556,
            609,
            366,
            771,
            855,
            643,
            776,
            536,
            864,
            205,
            169,
            690,
            832,
            446,
            557,
            970,
            122,
            331,
            829,
            347,
            861,
            440,
            370,
            266,
            991,
            823,
            347,
            337,
            713,
            873,
            938,
            790,
            589,
            446,
            465,
            374,
            641,
            723,
            782,
            576,
            814,
            596,
            821,
            152,
            232,
            360,
            622,
            565,
            472,
            697,
            296,
            218,
            178,
            178,
            584,
            529,
            747,
            529,
            761,
            603,
            117,
            424,
            313,
            868,
            687,
            222,
            487,
            153,
            830,
            687,
            826,
            744,
            499,
            684,
            431,
            194,
            101,
            351,
            924,
            348,
            884,
            855,
            312,
            939,
            574,
            117,
            849,
            126,
            638,
            172,
            115,
            358,
            306,
            830,
            676,
            254,
            624,
            275,
            183,
            181,
            568,
            813,
            202,
            219,
            330,
            684,
            879,
            460,
            172,
            369,
            225,
            289,
            251,
            751,
            966,
            665,
            477,
            885,
            992,
            111,
            377,
            914,
            510,
            778,
            846,
            324,
            486,
            400,
            911,
            684,
            815,
            897,
            706,
            927,
            730,
            423,
            116,
            431,
            241,
            631,
            897,
            312,
            267,
            784,
            340,
            552,
            172,
            643,
            720,
            203,
            595,
            396,
            850,
            743,
            122,
            628,
            279,
            691,
            522,
            504,
            746,
            726,
            734,
            617
           ]
          }
         ],
         "labelangle": 30,
         "labelside": "bottom",
         "line": {
          "color": [
           -2.4106863909222307,
           -2.519650748277333,
           -3.284343275829557,
           -2.1989724944807163,
           -2.3226829137249885,
           -2.2759861646693196,
           -2.1026134822151126,
           -2.1023286551326565,
           -1.5447407862361637,
           -2.2227363297123652,
           -2.9249221530653506,
           -3.0047030373409243,
           -0.5989714070341489,
           -3.2950556465486818,
           -1.5703755468415594,
           -2.1528563798092457,
           -1.5430989544029612,
           -1.9349474071387576,
           -0.49309126905191525,
           -1.9378370778735114,
           -1.447626605369622,
           -1.277845313534931,
           -1.5415914117373133,
           -2.0677919837123824,
           -2.100660057491238,
           -1.9989595897643908,
           -0.7757669119254942,
           -2.1005915643569386,
           -1.6509802073668147,
           -1.8304970754985224,
           -2.4177692444712475,
           -0.9200764232169153,
           -2.1283297161047026,
           -3.1931192177740657,
           -3.4344068514268877,
           -3.0465618295992742,
           -1.9357636422566231,
           -0.9344677012942256,
           -2.648886859849614,
           -1.9310625873701088,
           -2.0028704571799194,
           -0.9270178902811104,
           -2.9269648422619876,
           -0.8174499137927207,
           -2.100582700509782,
           -0.3189918350232037,
           -1.9329047435585427,
           -2.3176992384241673,
           -1.5609559126365269,
           -0.5409192779828154,
           -2.9269027316478837,
           -2.3997764422298657,
           -3.0377701668462542,
           -1.678505528475257,
           -0.4514125756813536,
           -0.8139169194148861,
           -2.9238423710414096,
           -2.686442941714101,
           -0.7889232839434953,
           -3.052164350009369,
           -1.905963978326422,
           -0.7474605655125964,
           -1.7539616536430405,
           -1.6603833684438207,
           -2.3310252314377182,
           -3.40019046039741,
           -3.2965808029020662,
           -2.196934784523615,
           -1.757610894076733,
           -0.8178541415924769,
           -3.3190573398121783,
           -1.1603152252015103,
           -2.626952465123625,
           -3.0360532606044943,
           -1.5387019901585268,
           -2.094920981263411,
           -2.054773333024976,
           -2.267074998713319,
           -3.4448274005432267,
           -0.47685443373070946,
           -2.3290758585383182,
           -3.440546185140582,
           -0.8275887619257715,
           -2.7670673232418626,
           -3.0401375971891724,
           -3.146297220372183,
           -0.7709228469741752,
           -2.7920081926244715,
           -1.270637807527762,
           -2.1555400636449873,
           -2.4092148588340967,
           -1.074605115464937,
           -2.1736060088488323,
           -2.3202582410778585,
           -2.260756283780414,
           -2.762935514516264,
           -0.29919169063655865,
           -1.270036203600582,
           -3.4422339159242186,
           -1.427535860047049,
           -2.3114707095658096,
           -2.1511071719514594,
           -1.6758041341927843,
           -2.6394067230682756,
           -1.433296766318653,
           -1.9923148992584903,
           -1.5469547022413415,
           -3.3005642119111807,
           -3.3915220593636293,
           -2.791637149605172,
           -2.6434463006432374,
           -2.231454546976331,
           -2.8026861466320545,
           -0.9416787237856266,
           -1.5758734985130085,
           -3.1434623146115115,
           -3.423350445487677,
           -3.030506041531152,
           -3.191070031389646,
           -1.7512398675947014,
           -2.198379521172387,
           -1.4419998969725578,
           -0.9232403306433946,
           -1.9156080952032148,
           -2.0495732354368403,
           -0.49951147011782837,
           -0.5607659827198106,
           -2.6116465877933193,
           -1.8871598254970874,
           -0.9395294823838549,
           -1.47316040527198,
           -2.089059348166976,
           -2.333937673417438,
           -0.4293373851706946,
           -3.3203950122780155,
           -1.8518035810303304,
           -0.9852306103240629,
           -3.3750636438012007,
           -2.2250902550979412,
           -1.7230491626233995,
           -0.4282767524266718,
           -1.1030393808380612,
           -2.401627525229926,
           -2.0523442903414697,
           -1.937898855577648,
           -2.1437739379706384,
           -2.4082209587737693,
           -0.3813825341437618,
           -2.1452406026077147,
           -2.234698262835625,
           -1.0209994922412493,
           -1.323096328801864,
           -1.0932291386855595,
           -2.7874320470377496,
           -3.392360101813176,
           -0.48031874239799793,
           -0.35134803919444363,
           -1.5260837799009432,
           -3.412610779172686,
           -2.3159689318310326,
           -0.8663114360244656,
           -1.656581326389435,
           -2.788482297495373,
           -1.4252897357785868,
           -1.7441545600860224,
           -1.4234894447861701,
           -1.826458600031361,
           -2.664035915238473,
           -2.514592713444773,
           -0.9212118671092696,
           -2.646847959520359,
           -2.1093635183586628,
           -2.7840628831377163,
           -0.5214426338486382,
           -0.5906629566150294,
           -3.385628145882497,
           -3.460043983526296,
           -2.5163221659505672,
           -2.196287392895061,
           -1.3640812302325607,
           -2.1717850568142336,
           -2.1700246415409348,
           -2.2188377050772314,
           -0.9392158431937592,
           -2.134590093959692,
           -1.4034463595931579,
           -2.785022701959218,
           -3.219718473341551,
           -2.233010457183697,
           -2.5552910341982136,
           -3.1492908012437937,
           -2.2213626787663245,
           -1.833597045290352,
           -2.1635500394749756,
           -1.8260057566364765,
           -2.194308179236031,
           -1.1990026404193093,
           -1.5595606875422725,
           -3.168699631866126,
           -3.4238329104222904,
           -2.1424618868252545,
           -2.1661008482272703
          ],
          "colorbar": {
           "title": {
            "text": "Objective Value"
           }
          },
          "colorscale": [
           [
            0.0,
            "rgb(247,251,255)"
           ],
           [
            0.125,
            "rgb(222,235,247)"
           ],
           [
            0.25,
            "rgb(198,219,239)"
           ],
           [
            0.375,
            "rgb(158,202,225)"
           ],
           [
            0.5,
            "rgb(107,174,214)"
           ],
           [
            0.625,
            "rgb(66,146,198)"
           ],
           [
            0.75,
            "rgb(33,113,181)"
           ],
           [
            0.875,
            "rgb(8,81,156)"
           ],
           [
            1.0,
            "rgb(8,48,107)"
           ]
          ],
          "reversescale": false,
          "showscale": true
         },
         "type": "parcoords"
        }
       ],
       "layout": {
        "title": {
         "text": "Parallel Coordinate Plot"
        },
        "template": {
         "data": {
          "histogram2dcontour": [
           {
            "type": "histogram2dcontour",
            "colorbar": {
             "outlinewidth": 0,
             "ticks": ""
            },
            "colorscale": [
             [
              0.0,
              "#0d0887"
             ],
             [
              0.1111111111111111,
              "#46039f"
             ],
             [
              0.2222222222222222,
              "#7201a8"
             ],
             [
              0.3333333333333333,
              "#9c179e"
             ],
             [
              0.4444444444444444,
              "#bd3786"
             ],
             [
              0.5555555555555556,
              "#d8576b"
             ],
             [
              0.6666666666666666,
              "#ed7953"
             ],
             [
              0.7777777777777778,
              "#fb9f3a"
             ],
             [
              0.8888888888888888,
              "#fdca26"
             ],
             [
              1.0,
              "#f0f921"
             ]
            ]
           }
          ],
          "choropleth": [
           {
            "type": "choropleth",
            "colorbar": {
             "outlinewidth": 0,
             "ticks": ""
            }
           }
          ],
          "histogram2d": [
           {
            "type": "histogram2d",
            "colorbar": {
             "outlinewidth": 0,
             "ticks": ""
            },
            "colorscale": [
             [
              0.0,
              "#0d0887"
             ],
             [
              0.1111111111111111,
              "#46039f"
             ],
             [
              0.2222222222222222,
              "#7201a8"
             ],
             [
              0.3333333333333333,
              "#9c179e"
             ],
             [
              0.4444444444444444,
              "#bd3786"
             ],
             [
              0.5555555555555556,
              "#d8576b"
             ],
             [
              0.6666666666666666,
              "#ed7953"
             ],
             [
              0.7777777777777778,
              "#fb9f3a"
             ],
             [
              0.8888888888888888,
              "#fdca26"
             ],
             [
              1.0,
              "#f0f921"
             ]
            ]
           }
          ],
          "heatmap": [
           {
            "type": "heatmap",
            "colorbar": {
             "outlinewidth": 0,
             "ticks": ""
            },
            "colorscale": [
             [
              0.0,
              "#0d0887"
             ],
             [
              0.1111111111111111,
              "#46039f"
             ],
             [
              0.2222222222222222,
              "#7201a8"
             ],
             [
              0.3333333333333333,
              "#9c179e"
             ],
             [
              0.4444444444444444,
              "#bd3786"
             ],
             [
              0.5555555555555556,
              "#d8576b"
             ],
             [
              0.6666666666666666,
              "#ed7953"
             ],
             [
              0.7777777777777778,
              "#fb9f3a"
             ],
             [
              0.8888888888888888,
              "#fdca26"
             ],
             [
              1.0,
              "#f0f921"
             ]
            ]
           }
          ],
          "heatmapgl": [
           {
            "type": "heatmapgl",
            "colorbar": {
             "outlinewidth": 0,
             "ticks": ""
            },
            "colorscale": [
             [
              0.0,
              "#0d0887"
             ],
             [
              0.1111111111111111,
              "#46039f"
             ],
             [
              0.2222222222222222,
              "#7201a8"
             ],
             [
              0.3333333333333333,
              "#9c179e"
             ],
             [
              0.4444444444444444,
              "#bd3786"
             ],
             [
              0.5555555555555556,
              "#d8576b"
             ],
             [
              0.6666666666666666,
              "#ed7953"
             ],
             [
              0.7777777777777778,
              "#fb9f3a"
             ],
             [
              0.8888888888888888,
              "#fdca26"
             ],
             [
              1.0,
              "#f0f921"
             ]
            ]
           }
          ],
          "contourcarpet": [
           {
            "type": "contourcarpet",
            "colorbar": {
             "outlinewidth": 0,
             "ticks": ""
            }
           }
          ],
          "contour": [
           {
            "type": "contour",
            "colorbar": {
             "outlinewidth": 0,
             "ticks": ""
            },
            "colorscale": [
             [
              0.0,
              "#0d0887"
             ],
             [
              0.1111111111111111,
              "#46039f"
             ],
             [
              0.2222222222222222,
              "#7201a8"
             ],
             [
              0.3333333333333333,
              "#9c179e"
             ],
             [
              0.4444444444444444,
              "#bd3786"
             ],
             [
              0.5555555555555556,
              "#d8576b"
             ],
             [
              0.6666666666666666,
              "#ed7953"
             ],
             [
              0.7777777777777778,
              "#fb9f3a"
             ],
             [
              0.8888888888888888,
              "#fdca26"
             ],
             [
              1.0,
              "#f0f921"
             ]
            ]
           }
          ],
          "surface": [
           {
            "type": "surface",
            "colorbar": {
             "outlinewidth": 0,
             "ticks": ""
            },
            "colorscale": [
             [
              0.0,
              "#0d0887"
             ],
             [
              0.1111111111111111,
              "#46039f"
             ],
             [
              0.2222222222222222,
              "#7201a8"
             ],
             [
              0.3333333333333333,
              "#9c179e"
             ],
             [
              0.4444444444444444,
              "#bd3786"
             ],
             [
              0.5555555555555556,
              "#d8576b"
             ],
             [
              0.6666666666666666,
              "#ed7953"
             ],
             [
              0.7777777777777778,
              "#fb9f3a"
             ],
             [
              0.8888888888888888,
              "#fdca26"
             ],
             [
              1.0,
              "#f0f921"
             ]
            ]
           }
          ],
          "mesh3d": [
           {
            "type": "mesh3d",
            "colorbar": {
             "outlinewidth": 0,
             "ticks": ""
            }
           }
          ],
          "scatter": [
           {
            "marker": {
             "line": {
              "color": "#283442"
             }
            },
            "type": "scatter"
           }
          ],
          "parcoords": [
           {
            "type": "parcoords",
            "line": {
             "colorbar": {
              "outlinewidth": 0,
              "ticks": ""
             }
            }
           }
          ],
          "scatterpolargl": [
           {
            "type": "scatterpolargl",
            "marker": {
             "colorbar": {
              "outlinewidth": 0,
              "ticks": ""
             }
            }
           }
          ],
          "bar": [
           {
            "error_x": {
             "color": "#f2f5fa"
            },
            "error_y": {
             "color": "#f2f5fa"
            },
            "marker": {
             "line": {
              "color": "rgb(17,17,17)",
              "width": 0.5
             },
             "pattern": {
              "fillmode": "overlay",
              "size": 10,
              "solidity": 0.2
             }
            },
            "type": "bar"
           }
          ],
          "scattergeo": [
           {
            "type": "scattergeo",
            "marker": {
             "colorbar": {
              "outlinewidth": 0,
              "ticks": ""
             }
            }
           }
          ],
          "scatterpolar": [
           {
            "type": "scatterpolar",
            "marker": {
             "colorbar": {
              "outlinewidth": 0,
              "ticks": ""
             }
            }
           }
          ],
          "histogram": [
           {
            "marker": {
             "pattern": {
              "fillmode": "overlay",
              "size": 10,
              "solidity": 0.2
             }
            },
            "type": "histogram"
           }
          ],
          "scattergl": [
           {
            "marker": {
             "line": {
              "color": "#283442"
             }
            },
            "type": "scattergl"
           }
          ],
          "scatter3d": [
           {
            "type": "scatter3d",
            "line": {
             "colorbar": {
              "outlinewidth": 0,
              "ticks": ""
             }
            },
            "marker": {
             "colorbar": {
              "outlinewidth": 0,
              "ticks": ""
             }
            }
           }
          ],
          "scattermapbox": [
           {
            "type": "scattermapbox",
            "marker": {
             "colorbar": {
              "outlinewidth": 0,
              "ticks": ""
             }
            }
           }
          ],
          "scatterternary": [
           {
            "type": "scatterternary",
            "marker": {
             "colorbar": {
              "outlinewidth": 0,
              "ticks": ""
             }
            }
           }
          ],
          "scattercarpet": [
           {
            "type": "scattercarpet",
            "marker": {
             "colorbar": {
              "outlinewidth": 0,
              "ticks": ""
             }
            }
           }
          ],
          "carpet": [
           {
            "aaxis": {
             "endlinecolor": "#A2B1C6",
             "gridcolor": "#506784",
             "linecolor": "#506784",
             "minorgridcolor": "#506784",
             "startlinecolor": "#A2B1C6"
            },
            "baxis": {
             "endlinecolor": "#A2B1C6",
             "gridcolor": "#506784",
             "linecolor": "#506784",
             "minorgridcolor": "#506784",
             "startlinecolor": "#A2B1C6"
            },
            "type": "carpet"
           }
          ],
          "table": [
           {
            "cells": {
             "fill": {
              "color": "#506784"
             },
             "line": {
              "color": "rgb(17,17,17)"
             }
            },
            "header": {
             "fill": {
              "color": "#2a3f5f"
             },
             "line": {
              "color": "rgb(17,17,17)"
             }
            },
            "type": "table"
           }
          ],
          "barpolar": [
           {
            "marker": {
             "line": {
              "color": "rgb(17,17,17)",
              "width": 0.5
             },
             "pattern": {
              "fillmode": "overlay",
              "size": 10,
              "solidity": 0.2
             }
            },
            "type": "barpolar"
           }
          ],
          "pie": [
           {
            "automargin": true,
            "type": "pie"
           }
          ]
         },
         "layout": {
          "autotypenumbers": "strict",
          "colorway": [
           "#636efa",
           "#EF553B",
           "#00cc96",
           "#ab63fa",
           "#FFA15A",
           "#19d3f3",
           "#FF6692",
           "#B6E880",
           "#FF97FF",
           "#FECB52"
          ],
          "font": {
           "color": "#f2f5fa"
          },
          "hovermode": "closest",
          "hoverlabel": {
           "align": "left"
          },
          "paper_bgcolor": "rgb(17,17,17)",
          "plot_bgcolor": "rgb(17,17,17)",
          "polar": {
           "bgcolor": "rgb(17,17,17)",
           "angularaxis": {
            "gridcolor": "#506784",
            "linecolor": "#506784",
            "ticks": ""
           },
           "radialaxis": {
            "gridcolor": "#506784",
            "linecolor": "#506784",
            "ticks": ""
           }
          },
          "ternary": {
           "bgcolor": "rgb(17,17,17)",
           "aaxis": {
            "gridcolor": "#506784",
            "linecolor": "#506784",
            "ticks": ""
           },
           "baxis": {
            "gridcolor": "#506784",
            "linecolor": "#506784",
            "ticks": ""
           },
           "caxis": {
            "gridcolor": "#506784",
            "linecolor": "#506784",
            "ticks": ""
           }
          },
          "coloraxis": {
           "colorbar": {
            "outlinewidth": 0,
            "ticks": ""
           }
          },
          "colorscale": {
           "sequential": [
            [
             0.0,
             "#0d0887"
            ],
            [
             0.1111111111111111,
             "#46039f"
            ],
            [
             0.2222222222222222,
             "#7201a8"
            ],
            [
             0.3333333333333333,
             "#9c179e"
            ],
            [
             0.4444444444444444,
             "#bd3786"
            ],
            [
             0.5555555555555556,
             "#d8576b"
            ],
            [
             0.6666666666666666,
             "#ed7953"
            ],
            [
             0.7777777777777778,
             "#fb9f3a"
            ],
            [
             0.8888888888888888,
             "#fdca26"
            ],
            [
             1.0,
             "#f0f921"
            ]
           ],
           "sequentialminus": [
            [
             0.0,
             "#0d0887"
            ],
            [
             0.1111111111111111,
             "#46039f"
            ],
            [
             0.2222222222222222,
             "#7201a8"
            ],
            [
             0.3333333333333333,
             "#9c179e"
            ],
            [
             0.4444444444444444,
             "#bd3786"
            ],
            [
             0.5555555555555556,
             "#d8576b"
            ],
            [
             0.6666666666666666,
             "#ed7953"
            ],
            [
             0.7777777777777778,
             "#fb9f3a"
            ],
            [
             0.8888888888888888,
             "#fdca26"
            ],
            [
             1.0,
             "#f0f921"
            ]
           ],
           "diverging": [
            [
             0,
             "#8e0152"
            ],
            [
             0.1,
             "#c51b7d"
            ],
            [
             0.2,
             "#de77ae"
            ],
            [
             0.3,
             "#f1b6da"
            ],
            [
             0.4,
             "#fde0ef"
            ],
            [
             0.5,
             "#f7f7f7"
            ],
            [
             0.6,
             "#e6f5d0"
            ],
            [
             0.7,
             "#b8e186"
            ],
            [
             0.8,
             "#7fbc41"
            ],
            [
             0.9,
             "#4d9221"
            ],
            [
             1,
             "#276419"
            ]
           ]
          },
          "xaxis": {
           "gridcolor": "#283442",
           "linecolor": "#506784",
           "ticks": "",
           "title": {
            "standoff": 15
           },
           "zerolinecolor": "#283442",
           "automargin": true,
           "zerolinewidth": 2
          },
          "yaxis": {
           "gridcolor": "#283442",
           "linecolor": "#506784",
           "ticks": "",
           "title": {
            "standoff": 15
           },
           "zerolinecolor": "#283442",
           "automargin": true,
           "zerolinewidth": 2
          },
          "scene": {
           "xaxis": {
            "backgroundcolor": "rgb(17,17,17)",
            "gridcolor": "#506784",
            "linecolor": "#506784",
            "showbackground": true,
            "ticks": "",
            "zerolinecolor": "#C8D4E3",
            "gridwidth": 2
           },
           "yaxis": {
            "backgroundcolor": "rgb(17,17,17)",
            "gridcolor": "#506784",
            "linecolor": "#506784",
            "showbackground": true,
            "ticks": "",
            "zerolinecolor": "#C8D4E3",
            "gridwidth": 2
           },
           "zaxis": {
            "backgroundcolor": "rgb(17,17,17)",
            "gridcolor": "#506784",
            "linecolor": "#506784",
            "showbackground": true,
            "ticks": "",
            "zerolinecolor": "#C8D4E3",
            "gridwidth": 2
           }
          },
          "shapedefaults": {
           "line": {
            "color": "#f2f5fa"
           }
          },
          "annotationdefaults": {
           "arrowcolor": "#f2f5fa",
           "arrowhead": 0,
           "arrowwidth": 1
          },
          "geo": {
           "bgcolor": "rgb(17,17,17)",
           "landcolor": "rgb(17,17,17)",
           "subunitcolor": "#506784",
           "showland": true,
           "showlakes": true,
           "lakecolor": "rgb(17,17,17)"
          },
          "title": {
           "x": 0.05
          },
          "updatemenudefaults": {
           "bgcolor": "#506784",
           "borderwidth": 0
          },
          "sliderdefaults": {
           "bgcolor": "#C8D4E3",
           "borderwidth": 1,
           "bordercolor": "rgb(17,17,17)",
           "tickwidth": 0
          },
          "mapbox": {
           "style": "dark"
          }
         }
        }
       },
       "config": {
        "plotlyServerURL": "https://plot.ly"
       }
      },
      "text/html": [
       "<div>                            <div id=\"78132264-5ae3-42b8-b175-69f75188640b\" class=\"plotly-graph-div\" style=\"height:525px; width:100%;\"></div>            <script type=\"text/javascript\">                require([\"plotly\"], function(Plotly) {                    window.PLOTLYENV=window.PLOTLYENV || {};                                    if (document.getElementById(\"78132264-5ae3-42b8-b175-69f75188640b\")) {                    Plotly.newPlot(                        \"78132264-5ae3-42b8-b175-69f75188640b\",                        [{\"dimensions\":[{\"label\":\"Objective Value\",\"range\":[-3.460043983526296,-0.29919169063655865],\"values\":[-2.4106863909222307,-2.519650748277333,-3.284343275829557,-2.1989724944807163,-2.3226829137249885,-2.2759861646693196,-2.1026134822151126,-2.1023286551326565,-1.5447407862361637,-2.2227363297123652,-2.9249221530653506,-3.0047030373409243,-0.5989714070341489,-3.2950556465486818,-1.5703755468415594,-2.1528563798092457,-1.5430989544029612,-1.9349474071387576,-0.49309126905191525,-1.9378370778735114,-1.447626605369622,-1.277845313534931,-1.5415914117373133,-2.0677919837123824,-2.100660057491238,-1.9989595897643908,-0.7757669119254942,-2.1005915643569386,-1.6509802073668147,-1.8304970754985224,-2.4177692444712475,-0.9200764232169153,-2.1283297161047026,-3.1931192177740657,-3.4344068514268877,-3.0465618295992742,-1.9357636422566231,-0.9344677012942256,-2.648886859849614,-1.9310625873701088,-2.0028704571799194,-0.9270178902811104,-2.9269648422619876,-0.8174499137927207,-2.100582700509782,-0.3189918350232037,-1.9329047435585427,-2.3176992384241673,-1.5609559126365269,-0.5409192779828154,-2.9269027316478837,-2.3997764422298657,-3.0377701668462542,-1.678505528475257,-0.4514125756813536,-0.8139169194148861,-2.9238423710414096,-2.686442941714101,-0.7889232839434953,-3.052164350009369,-1.905963978326422,-0.7474605655125964,-1.7539616536430405,-1.6603833684438207,-2.3310252314377182,-3.40019046039741,-3.2965808029020662,-2.196934784523615,-1.757610894076733,-0.8178541415924769,-3.3190573398121783,-1.1603152252015103,-2.626952465123625,-3.0360532606044943,-1.5387019901585268,-2.094920981263411,-2.054773333024976,-2.267074998713319,-3.4448274005432267,-0.47685443373070946,-2.3290758585383182,-3.440546185140582,-0.8275887619257715,-2.7670673232418626,-3.0401375971891724,-3.146297220372183,-0.7709228469741752,-2.7920081926244715,-1.270637807527762,-2.1555400636449873,-2.4092148588340967,-1.074605115464937,-2.1736060088488323,-2.3202582410778585,-2.260756283780414,-2.762935514516264,-0.29919169063655865,-1.270036203600582,-3.4422339159242186,-1.427535860047049,-2.3114707095658096,-2.1511071719514594,-1.6758041341927843,-2.6394067230682756,-1.433296766318653,-1.9923148992584903,-1.5469547022413415,-3.3005642119111807,-3.3915220593636293,-2.791637149605172,-2.6434463006432374,-2.231454546976331,-2.8026861466320545,-0.9416787237856266,-1.5758734985130085,-3.1434623146115115,-3.423350445487677,-3.030506041531152,-3.191070031389646,-1.7512398675947014,-2.198379521172387,-1.4419998969725578,-0.9232403306433946,-1.9156080952032148,-2.0495732354368403,-0.49951147011782837,-0.5607659827198106,-2.6116465877933193,-1.8871598254970874,-0.9395294823838549,-1.47316040527198,-2.089059348166976,-2.333937673417438,-0.4293373851706946,-3.3203950122780155,-1.8518035810303304,-0.9852306103240629,-3.3750636438012007,-2.2250902550979412,-1.7230491626233995,-0.4282767524266718,-1.1030393808380612,-2.401627525229926,-2.0523442903414697,-1.937898855577648,-2.1437739379706384,-2.4082209587737693,-0.3813825341437618,-2.1452406026077147,-2.234698262835625,-1.0209994922412493,-1.323096328801864,-1.0932291386855595,-2.7874320470377496,-3.392360101813176,-0.48031874239799793,-0.35134803919444363,-1.5260837799009432,-3.412610779172686,-2.3159689318310326,-0.8663114360244656,-1.656581326389435,-2.788482297495373,-1.4252897357785868,-1.7441545600860224,-1.4234894447861701,-1.826458600031361,-2.664035915238473,-2.514592713444773,-0.9212118671092696,-2.646847959520359,-2.1093635183586628,-2.7840628831377163,-0.5214426338486382,-0.5906629566150294,-3.385628145882497,-3.460043983526296,-2.5163221659505672,-2.196287392895061,-1.3640812302325607,-2.1717850568142336,-2.1700246415409348,-2.2188377050772314,-0.9392158431937592,-2.134590093959692,-1.4034463595931579,-2.785022701959218,-3.219718473341551,-2.233010457183697,-2.5552910341982136,-3.1492908012437937,-2.2213626787663245,-1.833597045290352,-2.1635500394749756,-1.8260057566364765,-2.194308179236031,-1.1990026404193093,-1.5595606875422725,-3.168699631866126,-3.4238329104222904,-2.1424618868252545,-2.1661008482272703]},{\"label\":\"max_depth\",\"range\":[10,15],\"values\":[10,11,10,13,11,10,12,13,11,14,14,14,10,10,12,15,12,14,13,14,13,10,13,15,12,15,14,13,10,11,14,13,10,12,13,14,14,10,14,13,10,13,13,14,11,15,14,12,11,14,14,11,13,11,10,15,12,14,13,12,12,15,11,13,13,10,11,14,10,11,12,12,10,13,13,11,11,14,10,10,11,11,12,14,11,13,13,15,15,15,10,12,14,13,14,10,11,10,10,14,14,13,14,14,15,10,15,13,15,10,11,13,13,13,15,10,11,15,10,14,10,14,14,14,10,10,15,10,15,15,15,13,10,14,11,12,13,10,11,13,15,15,10,11,13,14,13,14,11,14,15,11,13,13,14,12,14,13,10,14,10,15,10,11,11,11,15,11,10,11,14,15,10,15,13,12,12,14,11,14,11,11,14,12,13,11,12,14,13,10,13,12,14,11,15,15,15,12,12,11,12,15]},{\"label\":\"min_samples_leaf\",\"range\":[1,32],\"values\":[24,25,31,20,23,22,17,17,10,21,28,29,3,31,9,19,10,14,2,14,9,8,10,16,17,15,2,17,11,12,24,6,18,30,32,29,14,6,26,14,15,6,28,1,17,1,14,23,10,3,28,24,29,10,3,5,28,26,4,29,14,2,12,10,23,32,31,20,12,1,31,2,26,29,10,17,16,22,32,1,23,32,4,27,29,30,5,27,8,19,24,5,19,23,22,27,2,8,32,9,23,18,10,26,9,15,10,31,32,27,26,21,27,5,9,30,32,29,30,12,20,9,6,14,16,2,2,26,13,5,8,17,23,2,31,13,1,32,21,11,3,7,24,16,14,18,24,1,18,21,5,7,7,27,32,1,2,10,32,23,1,11,27,9,12,9,12,26,25,6,26,17,27,1,1,32,32,25,20,8,19,19,21,1,18,7,27,31,21,25,30,21,13,19,12,20,1,10,30,32,18,19]},{\"label\":\"min_samples_split\",\"range\":[2,32],\"values\":[21,8,23,27,30,13,21,26,4,3,8,11,14,13,27,18,4,3,12,29,20,11,16,12,11,4,20,11,3,29,5,6,9,30,2,19,6,15,4,8,2,13,26,21,16,7,16,4,19,12,14,27,8,28,7,16,2,13,19,17,26,19,21,27,31,16,3,31,5,21,29,29,4,29,3,26,4,8,31,12,6,17,20,19,21,17,12,20,2,30,25,25,10,15,3,21,4,10,3,14,22,15,29,18,18,7,19,17,21,10,5,10,25,22,27,16,14,25,26,11,8,19,11,3,17,12,14,27,30,21,28,20,2,10,12,5,25,29,30,26,2,11,14,9,25,13,10,9,8,17,24,27,8,11,10,12,7,5,31,4,22,2,2,6,13,11,29,27,27,5,9,32,29,13,15,14,10,22,9,22,13,17,16,24,27,30,8,16,29,6,19,23,25,32,28,19,30,6,11,26,26,31]},{\"label\":\"n_estimators\",\"range\":[101,992],\"values\":[794,549,252,103,750,588,498,686,918,202,593,416,393,839,989,638,135,397,383,892,645,371,602,157,980,620,804,415,706,197,297,523,681,304,610,616,626,725,556,609,366,771,855,643,776,536,864,205,169,690,832,446,557,970,122,331,829,347,861,440,370,266,991,823,347,337,713,873,938,790,589,446,465,374,641,723,782,576,814,596,821,152,232,360,622,565,472,697,296,218,178,178,584,529,747,529,761,603,117,424,313,868,687,222,487,153,830,687,826,744,499,684,431,194,101,351,924,348,884,855,312,939,574,117,849,126,638,172,115,358,306,830,676,254,624,275,183,181,568,813,202,219,330,684,879,460,172,369,225,289,251,751,966,665,477,885,992,111,377,914,510,778,846,324,486,400,911,684,815,897,706,927,730,423,116,431,241,631,897,312,267,784,340,552,172,643,720,203,595,396,850,743,122,628,279,691,522,504,746,726,734,617]}],\"labelangle\":30,\"labelside\":\"bottom\",\"line\":{\"color\":[-2.4106863909222307,-2.519650748277333,-3.284343275829557,-2.1989724944807163,-2.3226829137249885,-2.2759861646693196,-2.1026134822151126,-2.1023286551326565,-1.5447407862361637,-2.2227363297123652,-2.9249221530653506,-3.0047030373409243,-0.5989714070341489,-3.2950556465486818,-1.5703755468415594,-2.1528563798092457,-1.5430989544029612,-1.9349474071387576,-0.49309126905191525,-1.9378370778735114,-1.447626605369622,-1.277845313534931,-1.5415914117373133,-2.0677919837123824,-2.100660057491238,-1.9989595897643908,-0.7757669119254942,-2.1005915643569386,-1.6509802073668147,-1.8304970754985224,-2.4177692444712475,-0.9200764232169153,-2.1283297161047026,-3.1931192177740657,-3.4344068514268877,-3.0465618295992742,-1.9357636422566231,-0.9344677012942256,-2.648886859849614,-1.9310625873701088,-2.0028704571799194,-0.9270178902811104,-2.9269648422619876,-0.8174499137927207,-2.100582700509782,-0.3189918350232037,-1.9329047435585427,-2.3176992384241673,-1.5609559126365269,-0.5409192779828154,-2.9269027316478837,-2.3997764422298657,-3.0377701668462542,-1.678505528475257,-0.4514125756813536,-0.8139169194148861,-2.9238423710414096,-2.686442941714101,-0.7889232839434953,-3.052164350009369,-1.905963978326422,-0.7474605655125964,-1.7539616536430405,-1.6603833684438207,-2.3310252314377182,-3.40019046039741,-3.2965808029020662,-2.196934784523615,-1.757610894076733,-0.8178541415924769,-3.3190573398121783,-1.1603152252015103,-2.626952465123625,-3.0360532606044943,-1.5387019901585268,-2.094920981263411,-2.054773333024976,-2.267074998713319,-3.4448274005432267,-0.47685443373070946,-2.3290758585383182,-3.440546185140582,-0.8275887619257715,-2.7670673232418626,-3.0401375971891724,-3.146297220372183,-0.7709228469741752,-2.7920081926244715,-1.270637807527762,-2.1555400636449873,-2.4092148588340967,-1.074605115464937,-2.1736060088488323,-2.3202582410778585,-2.260756283780414,-2.762935514516264,-0.29919169063655865,-1.270036203600582,-3.4422339159242186,-1.427535860047049,-2.3114707095658096,-2.1511071719514594,-1.6758041341927843,-2.6394067230682756,-1.433296766318653,-1.9923148992584903,-1.5469547022413415,-3.3005642119111807,-3.3915220593636293,-2.791637149605172,-2.6434463006432374,-2.231454546976331,-2.8026861466320545,-0.9416787237856266,-1.5758734985130085,-3.1434623146115115,-3.423350445487677,-3.030506041531152,-3.191070031389646,-1.7512398675947014,-2.198379521172387,-1.4419998969725578,-0.9232403306433946,-1.9156080952032148,-2.0495732354368403,-0.49951147011782837,-0.5607659827198106,-2.6116465877933193,-1.8871598254970874,-0.9395294823838549,-1.47316040527198,-2.089059348166976,-2.333937673417438,-0.4293373851706946,-3.3203950122780155,-1.8518035810303304,-0.9852306103240629,-3.3750636438012007,-2.2250902550979412,-1.7230491626233995,-0.4282767524266718,-1.1030393808380612,-2.401627525229926,-2.0523442903414697,-1.937898855577648,-2.1437739379706384,-2.4082209587737693,-0.3813825341437618,-2.1452406026077147,-2.234698262835625,-1.0209994922412493,-1.323096328801864,-1.0932291386855595,-2.7874320470377496,-3.392360101813176,-0.48031874239799793,-0.35134803919444363,-1.5260837799009432,-3.412610779172686,-2.3159689318310326,-0.8663114360244656,-1.656581326389435,-2.788482297495373,-1.4252897357785868,-1.7441545600860224,-1.4234894447861701,-1.826458600031361,-2.664035915238473,-2.514592713444773,-0.9212118671092696,-2.646847959520359,-2.1093635183586628,-2.7840628831377163,-0.5214426338486382,-0.5906629566150294,-3.385628145882497,-3.460043983526296,-2.5163221659505672,-2.196287392895061,-1.3640812302325607,-2.1717850568142336,-2.1700246415409348,-2.2188377050772314,-0.9392158431937592,-2.134590093959692,-1.4034463595931579,-2.785022701959218,-3.219718473341551,-2.233010457183697,-2.5552910341982136,-3.1492908012437937,-2.2213626787663245,-1.833597045290352,-2.1635500394749756,-1.8260057566364765,-2.194308179236031,-1.1990026404193093,-1.5595606875422725,-3.168699631866126,-3.4238329104222904,-2.1424618868252545,-2.1661008482272703],\"colorbar\":{\"title\":{\"text\":\"Objective Value\"}},\"colorscale\":[[0.0,\"rgb(247,251,255)\"],[0.125,\"rgb(222,235,247)\"],[0.25,\"rgb(198,219,239)\"],[0.375,\"rgb(158,202,225)\"],[0.5,\"rgb(107,174,214)\"],[0.625,\"rgb(66,146,198)\"],[0.75,\"rgb(33,113,181)\"],[0.875,\"rgb(8,81,156)\"],[1.0,\"rgb(8,48,107)\"]],\"reversescale\":false,\"showscale\":true},\"type\":\"parcoords\"}],                        {\"title\":{\"text\":\"Parallel Coordinate Plot\"},\"template\":{\"data\":{\"histogram2dcontour\":[{\"type\":\"histogram2dcontour\",\"colorbar\":{\"outlinewidth\":0,\"ticks\":\"\"},\"colorscale\":[[0.0,\"#0d0887\"],[0.1111111111111111,\"#46039f\"],[0.2222222222222222,\"#7201a8\"],[0.3333333333333333,\"#9c179e\"],[0.4444444444444444,\"#bd3786\"],[0.5555555555555556,\"#d8576b\"],[0.6666666666666666,\"#ed7953\"],[0.7777777777777778,\"#fb9f3a\"],[0.8888888888888888,\"#fdca26\"],[1.0,\"#f0f921\"]]}],\"choropleth\":[{\"type\":\"choropleth\",\"colorbar\":{\"outlinewidth\":0,\"ticks\":\"\"}}],\"histogram2d\":[{\"type\":\"histogram2d\",\"colorbar\":{\"outlinewidth\":0,\"ticks\":\"\"},\"colorscale\":[[0.0,\"#0d0887\"],[0.1111111111111111,\"#46039f\"],[0.2222222222222222,\"#7201a8\"],[0.3333333333333333,\"#9c179e\"],[0.4444444444444444,\"#bd3786\"],[0.5555555555555556,\"#d8576b\"],[0.6666666666666666,\"#ed7953\"],[0.7777777777777778,\"#fb9f3a\"],[0.8888888888888888,\"#fdca26\"],[1.0,\"#f0f921\"]]}],\"heatmap\":[{\"type\":\"heatmap\",\"colorbar\":{\"outlinewidth\":0,\"ticks\":\"\"},\"colorscale\":[[0.0,\"#0d0887\"],[0.1111111111111111,\"#46039f\"],[0.2222222222222222,\"#7201a8\"],[0.3333333333333333,\"#9c179e\"],[0.4444444444444444,\"#bd3786\"],[0.5555555555555556,\"#d8576b\"],[0.6666666666666666,\"#ed7953\"],[0.7777777777777778,\"#fb9f3a\"],[0.8888888888888888,\"#fdca26\"],[1.0,\"#f0f921\"]]}],\"heatmapgl\":[{\"type\":\"heatmapgl\",\"colorbar\":{\"outlinewidth\":0,\"ticks\":\"\"},\"colorscale\":[[0.0,\"#0d0887\"],[0.1111111111111111,\"#46039f\"],[0.2222222222222222,\"#7201a8\"],[0.3333333333333333,\"#9c179e\"],[0.4444444444444444,\"#bd3786\"],[0.5555555555555556,\"#d8576b\"],[0.6666666666666666,\"#ed7953\"],[0.7777777777777778,\"#fb9f3a\"],[0.8888888888888888,\"#fdca26\"],[1.0,\"#f0f921\"]]}],\"contourcarpet\":[{\"type\":\"contourcarpet\",\"colorbar\":{\"outlinewidth\":0,\"ticks\":\"\"}}],\"contour\":[{\"type\":\"contour\",\"colorbar\":{\"outlinewidth\":0,\"ticks\":\"\"},\"colorscale\":[[0.0,\"#0d0887\"],[0.1111111111111111,\"#46039f\"],[0.2222222222222222,\"#7201a8\"],[0.3333333333333333,\"#9c179e\"],[0.4444444444444444,\"#bd3786\"],[0.5555555555555556,\"#d8576b\"],[0.6666666666666666,\"#ed7953\"],[0.7777777777777778,\"#fb9f3a\"],[0.8888888888888888,\"#fdca26\"],[1.0,\"#f0f921\"]]}],\"surface\":[{\"type\":\"surface\",\"colorbar\":{\"outlinewidth\":0,\"ticks\":\"\"},\"colorscale\":[[0.0,\"#0d0887\"],[0.1111111111111111,\"#46039f\"],[0.2222222222222222,\"#7201a8\"],[0.3333333333333333,\"#9c179e\"],[0.4444444444444444,\"#bd3786\"],[0.5555555555555556,\"#d8576b\"],[0.6666666666666666,\"#ed7953\"],[0.7777777777777778,\"#fb9f3a\"],[0.8888888888888888,\"#fdca26\"],[1.0,\"#f0f921\"]]}],\"mesh3d\":[{\"type\":\"mesh3d\",\"colorbar\":{\"outlinewidth\":0,\"ticks\":\"\"}}],\"scatter\":[{\"marker\":{\"line\":{\"color\":\"#283442\"}},\"type\":\"scatter\"}],\"parcoords\":[{\"type\":\"parcoords\",\"line\":{\"colorbar\":{\"outlinewidth\":0,\"ticks\":\"\"}}}],\"scatterpolargl\":[{\"type\":\"scatterpolargl\",\"marker\":{\"colorbar\":{\"outlinewidth\":0,\"ticks\":\"\"}}}],\"bar\":[{\"error_x\":{\"color\":\"#f2f5fa\"},\"error_y\":{\"color\":\"#f2f5fa\"},\"marker\":{\"line\":{\"color\":\"rgb(17,17,17)\",\"width\":0.5},\"pattern\":{\"fillmode\":\"overlay\",\"size\":10,\"solidity\":0.2}},\"type\":\"bar\"}],\"scattergeo\":[{\"type\":\"scattergeo\",\"marker\":{\"colorbar\":{\"outlinewidth\":0,\"ticks\":\"\"}}}],\"scatterpolar\":[{\"type\":\"scatterpolar\",\"marker\":{\"colorbar\":{\"outlinewidth\":0,\"ticks\":\"\"}}}],\"histogram\":[{\"marker\":{\"pattern\":{\"fillmode\":\"overlay\",\"size\":10,\"solidity\":0.2}},\"type\":\"histogram\"}],\"scattergl\":[{\"marker\":{\"line\":{\"color\":\"#283442\"}},\"type\":\"scattergl\"}],\"scatter3d\":[{\"type\":\"scatter3d\",\"line\":{\"colorbar\":{\"outlinewidth\":0,\"ticks\":\"\"}},\"marker\":{\"colorbar\":{\"outlinewidth\":0,\"ticks\":\"\"}}}],\"scattermapbox\":[{\"type\":\"scattermapbox\",\"marker\":{\"colorbar\":{\"outlinewidth\":0,\"ticks\":\"\"}}}],\"scatterternary\":[{\"type\":\"scatterternary\",\"marker\":{\"colorbar\":{\"outlinewidth\":0,\"ticks\":\"\"}}}],\"scattercarpet\":[{\"type\":\"scattercarpet\",\"marker\":{\"colorbar\":{\"outlinewidth\":0,\"ticks\":\"\"}}}],\"carpet\":[{\"aaxis\":{\"endlinecolor\":\"#A2B1C6\",\"gridcolor\":\"#506784\",\"linecolor\":\"#506784\",\"minorgridcolor\":\"#506784\",\"startlinecolor\":\"#A2B1C6\"},\"baxis\":{\"endlinecolor\":\"#A2B1C6\",\"gridcolor\":\"#506784\",\"linecolor\":\"#506784\",\"minorgridcolor\":\"#506784\",\"startlinecolor\":\"#A2B1C6\"},\"type\":\"carpet\"}],\"table\":[{\"cells\":{\"fill\":{\"color\":\"#506784\"},\"line\":{\"color\":\"rgb(17,17,17)\"}},\"header\":{\"fill\":{\"color\":\"#2a3f5f\"},\"line\":{\"color\":\"rgb(17,17,17)\"}},\"type\":\"table\"}],\"barpolar\":[{\"marker\":{\"line\":{\"color\":\"rgb(17,17,17)\",\"width\":0.5},\"pattern\":{\"fillmode\":\"overlay\",\"size\":10,\"solidity\":0.2}},\"type\":\"barpolar\"}],\"pie\":[{\"automargin\":true,\"type\":\"pie\"}]},\"layout\":{\"autotypenumbers\":\"strict\",\"colorway\":[\"#636efa\",\"#EF553B\",\"#00cc96\",\"#ab63fa\",\"#FFA15A\",\"#19d3f3\",\"#FF6692\",\"#B6E880\",\"#FF97FF\",\"#FECB52\"],\"font\":{\"color\":\"#f2f5fa\"},\"hovermode\":\"closest\",\"hoverlabel\":{\"align\":\"left\"},\"paper_bgcolor\":\"rgb(17,17,17)\",\"plot_bgcolor\":\"rgb(17,17,17)\",\"polar\":{\"bgcolor\":\"rgb(17,17,17)\",\"angularaxis\":{\"gridcolor\":\"#506784\",\"linecolor\":\"#506784\",\"ticks\":\"\"},\"radialaxis\":{\"gridcolor\":\"#506784\",\"linecolor\":\"#506784\",\"ticks\":\"\"}},\"ternary\":{\"bgcolor\":\"rgb(17,17,17)\",\"aaxis\":{\"gridcolor\":\"#506784\",\"linecolor\":\"#506784\",\"ticks\":\"\"},\"baxis\":{\"gridcolor\":\"#506784\",\"linecolor\":\"#506784\",\"ticks\":\"\"},\"caxis\":{\"gridcolor\":\"#506784\",\"linecolor\":\"#506784\",\"ticks\":\"\"}},\"coloraxis\":{\"colorbar\":{\"outlinewidth\":0,\"ticks\":\"\"}},\"colorscale\":{\"sequential\":[[0.0,\"#0d0887\"],[0.1111111111111111,\"#46039f\"],[0.2222222222222222,\"#7201a8\"],[0.3333333333333333,\"#9c179e\"],[0.4444444444444444,\"#bd3786\"],[0.5555555555555556,\"#d8576b\"],[0.6666666666666666,\"#ed7953\"],[0.7777777777777778,\"#fb9f3a\"],[0.8888888888888888,\"#fdca26\"],[1.0,\"#f0f921\"]],\"sequentialminus\":[[0.0,\"#0d0887\"],[0.1111111111111111,\"#46039f\"],[0.2222222222222222,\"#7201a8\"],[0.3333333333333333,\"#9c179e\"],[0.4444444444444444,\"#bd3786\"],[0.5555555555555556,\"#d8576b\"],[0.6666666666666666,\"#ed7953\"],[0.7777777777777778,\"#fb9f3a\"],[0.8888888888888888,\"#fdca26\"],[1.0,\"#f0f921\"]],\"diverging\":[[0,\"#8e0152\"],[0.1,\"#c51b7d\"],[0.2,\"#de77ae\"],[0.3,\"#f1b6da\"],[0.4,\"#fde0ef\"],[0.5,\"#f7f7f7\"],[0.6,\"#e6f5d0\"],[0.7,\"#b8e186\"],[0.8,\"#7fbc41\"],[0.9,\"#4d9221\"],[1,\"#276419\"]]},\"xaxis\":{\"gridcolor\":\"#283442\",\"linecolor\":\"#506784\",\"ticks\":\"\",\"title\":{\"standoff\":15},\"zerolinecolor\":\"#283442\",\"automargin\":true,\"zerolinewidth\":2},\"yaxis\":{\"gridcolor\":\"#283442\",\"linecolor\":\"#506784\",\"ticks\":\"\",\"title\":{\"standoff\":15},\"zerolinecolor\":\"#283442\",\"automargin\":true,\"zerolinewidth\":2},\"scene\":{\"xaxis\":{\"backgroundcolor\":\"rgb(17,17,17)\",\"gridcolor\":\"#506784\",\"linecolor\":\"#506784\",\"showbackground\":true,\"ticks\":\"\",\"zerolinecolor\":\"#C8D4E3\",\"gridwidth\":2},\"yaxis\":{\"backgroundcolor\":\"rgb(17,17,17)\",\"gridcolor\":\"#506784\",\"linecolor\":\"#506784\",\"showbackground\":true,\"ticks\":\"\",\"zerolinecolor\":\"#C8D4E3\",\"gridwidth\":2},\"zaxis\":{\"backgroundcolor\":\"rgb(17,17,17)\",\"gridcolor\":\"#506784\",\"linecolor\":\"#506784\",\"showbackground\":true,\"ticks\":\"\",\"zerolinecolor\":\"#C8D4E3\",\"gridwidth\":2}},\"shapedefaults\":{\"line\":{\"color\":\"#f2f5fa\"}},\"annotationdefaults\":{\"arrowcolor\":\"#f2f5fa\",\"arrowhead\":0,\"arrowwidth\":1},\"geo\":{\"bgcolor\":\"rgb(17,17,17)\",\"landcolor\":\"rgb(17,17,17)\",\"subunitcolor\":\"#506784\",\"showland\":true,\"showlakes\":true,\"lakecolor\":\"rgb(17,17,17)\"},\"title\":{\"x\":0.05},\"updatemenudefaults\":{\"bgcolor\":\"#506784\",\"borderwidth\":0},\"sliderdefaults\":{\"bgcolor\":\"#C8D4E3\",\"borderwidth\":1,\"bordercolor\":\"rgb(17,17,17)\",\"tickwidth\":0},\"mapbox\":{\"style\":\"dark\"}}}},                        {\"responsive\": true}                    ).then(function(){\n",
       "                            \n",
       "var gd = document.getElementById('78132264-5ae3-42b8-b175-69f75188640b');\n",
       "var x = new MutationObserver(function (mutations, observer) {{\n",
       "        var display = window.getComputedStyle(gd).display;\n",
       "        if (!display || display === 'none') {{\n",
       "            console.log([gd, 'removed!']);\n",
       "            Plotly.purge(gd);\n",
       "            observer.disconnect();\n",
       "        }}\n",
       "}});\n",
       "\n",
       "// Listen for the removal of the full notebook cells\n",
       "var notebookContainer = gd.closest('#notebook-container');\n",
       "if (notebookContainer) {{\n",
       "    x.observe(notebookContainer, {childList: true});\n",
       "}}\n",
       "\n",
       "// Listen for the clearing of the current output cell\n",
       "var outputEl = gd.closest('.output');\n",
       "if (outputEl) {{\n",
       "    x.observe(outputEl, {childList: true});\n",
       "}}\n",
       "\n",
       "                        })                };                });            </script>        </div>"
      ]
     },
     "metadata": {},
     "output_type": "display_data"
    }
   ],
   "execution_count": 18
  },
  {
   "metadata": {
    "ExecuteTime": {
     "end_time": "2024-11-04T19:58:46.948783Z",
     "start_time": "2024-11-04T19:58:46.660947Z"
    }
   },
   "cell_type": "code",
   "source": "optuna.visualization.plot_slice(study,params = ['n_estimators','max_depth','min_samples_split','min_samples_leaf'])",
   "id": "57b10d07baa1c64e",
   "outputs": [
    {
     "data": {
      "application/vnd.plotly.v1+json": {
       "data": [
        {
         "marker": {
          "color": [
           0,
           1,
           2,
           3,
           4,
           5,
           6,
           7,
           8,
           9,
           10,
           11,
           12,
           13,
           14,
           15,
           16,
           17,
           18,
           19,
           20,
           21,
           22,
           23,
           24,
           25,
           26,
           27,
           28,
           29,
           30,
           31,
           32,
           33,
           34,
           35,
           36,
           37,
           38,
           39,
           40,
           41,
           42,
           43,
           44,
           45,
           46,
           47,
           48,
           49,
           50,
           51,
           52,
           53,
           54,
           55,
           56,
           57,
           58,
           59,
           60,
           61,
           62,
           63,
           64,
           65,
           66,
           67,
           68,
           69,
           70,
           71,
           72,
           73,
           74,
           75,
           76,
           77,
           78,
           79,
           80,
           81,
           82,
           83,
           84,
           85,
           86,
           87,
           88,
           89,
           90,
           91,
           92,
           93,
           94,
           95,
           96,
           97,
           98,
           99,
           100,
           101,
           102,
           103,
           104,
           105,
           106,
           107,
           108,
           109,
           110,
           111,
           112,
           113,
           114,
           115,
           116,
           117,
           118,
           119,
           120,
           121,
           122,
           123,
           124,
           125,
           126,
           127,
           128,
           129,
           130,
           131,
           132,
           133,
           134,
           135,
           136,
           137,
           138,
           139,
           140,
           141,
           142,
           143,
           144,
           145,
           146,
           147,
           148,
           149,
           150,
           151,
           152,
           153,
           154,
           155,
           156,
           157,
           158,
           159,
           160,
           161,
           162,
           163,
           164,
           165,
           166,
           167,
           168,
           169,
           170,
           171,
           172,
           173,
           174,
           175,
           176,
           177,
           178,
           179,
           180,
           181,
           182,
           183,
           184,
           185,
           186,
           187,
           188,
           189,
           190,
           191,
           192,
           193,
           194,
           195,
           196,
           197,
           198,
           199,
           200,
           201
          ],
          "colorbar": {
           "title": {
            "text": "Trial"
           },
           "x": 1.0,
           "xpad": 40
          },
          "colorscale": [
           [
            0.0,
            "rgb(247,251,255)"
           ],
           [
            0.125,
            "rgb(222,235,247)"
           ],
           [
            0.25,
            "rgb(198,219,239)"
           ],
           [
            0.375,
            "rgb(158,202,225)"
           ],
           [
            0.5,
            "rgb(107,174,214)"
           ],
           [
            0.625,
            "rgb(66,146,198)"
           ],
           [
            0.75,
            "rgb(33,113,181)"
           ],
           [
            0.875,
            "rgb(8,81,156)"
           ],
           [
            1.0,
            "rgb(8,48,107)"
           ]
          ],
          "line": {
           "color": "Grey",
           "width": 0.5
          },
          "showscale": true
         },
         "mode": "markers",
         "name": "Feasible Trial",
         "showlegend": false,
         "x": [
          10,
          11,
          10,
          13,
          11,
          10,
          12,
          13,
          11,
          14,
          14,
          14,
          10,
          10,
          12,
          15,
          12,
          14,
          13,
          14,
          13,
          10,
          13,
          15,
          12,
          15,
          14,
          13,
          10,
          11,
          14,
          13,
          10,
          12,
          13,
          14,
          14,
          10,
          14,
          13,
          10,
          13,
          13,
          14,
          11,
          15,
          14,
          12,
          11,
          14,
          14,
          11,
          13,
          11,
          10,
          15,
          12,
          14,
          13,
          12,
          12,
          15,
          11,
          13,
          13,
          10,
          11,
          14,
          10,
          11,
          12,
          12,
          10,
          13,
          13,
          11,
          11,
          14,
          10,
          10,
          11,
          11,
          12,
          14,
          11,
          13,
          13,
          15,
          15,
          15,
          10,
          12,
          14,
          13,
          14,
          10,
          11,
          10,
          10,
          14,
          14,
          13,
          14,
          14,
          15,
          10,
          15,
          13,
          15,
          10,
          11,
          13,
          13,
          13,
          15,
          10,
          11,
          15,
          10,
          14,
          10,
          14,
          14,
          14,
          10,
          10,
          15,
          10,
          15,
          15,
          15,
          13,
          10,
          14,
          11,
          12,
          13,
          10,
          11,
          13,
          15,
          15,
          10,
          11,
          13,
          14,
          13,
          14,
          11,
          14,
          15,
          11,
          13,
          13,
          14,
          12,
          14,
          13,
          10,
          14,
          10,
          15,
          10,
          11,
          11,
          11,
          15,
          11,
          10,
          11,
          14,
          15,
          10,
          15,
          13,
          12,
          12,
          14,
          11,
          14,
          11,
          11,
          14,
          12,
          13,
          11,
          12,
          14,
          13,
          10,
          13,
          12,
          14,
          11,
          15,
          15,
          15,
          12,
          12,
          11,
          12,
          15
         ],
         "y": [
          -2.4106863909222307,
          -2.519650748277333,
          -3.284343275829557,
          -2.1989724944807163,
          -2.3226829137249885,
          -2.2759861646693196,
          -2.1026134822151126,
          -2.1023286551326565,
          -1.5447407862361637,
          -2.2227363297123652,
          -2.9249221530653506,
          -3.0047030373409243,
          -0.5989714070341489,
          -3.2950556465486818,
          -1.5703755468415594,
          -2.1528563798092457,
          -1.5430989544029612,
          -1.9349474071387576,
          -0.49309126905191525,
          -1.9378370778735114,
          -1.447626605369622,
          -1.277845313534931,
          -1.5415914117373133,
          -2.0677919837123824,
          -2.100660057491238,
          -1.9989595897643908,
          -0.7757669119254942,
          -2.1005915643569386,
          -1.6509802073668147,
          -1.8304970754985224,
          -2.4177692444712475,
          -0.9200764232169153,
          -2.1283297161047026,
          -3.1931192177740657,
          -3.4344068514268877,
          -3.0465618295992742,
          -1.9357636422566231,
          -0.9344677012942256,
          -2.648886859849614,
          -1.9310625873701088,
          -2.0028704571799194,
          -0.9270178902811104,
          -2.9269648422619876,
          -0.8174499137927207,
          -2.100582700509782,
          -0.3189918350232037,
          -1.9329047435585427,
          -2.3176992384241673,
          -1.5609559126365269,
          -0.5409192779828154,
          -2.9269027316478837,
          -2.3997764422298657,
          -3.0377701668462542,
          -1.678505528475257,
          -0.4514125756813536,
          -0.8139169194148861,
          -2.9238423710414096,
          -2.686442941714101,
          -0.7889232839434953,
          -3.052164350009369,
          -1.905963978326422,
          -0.7474605655125964,
          -1.7539616536430405,
          -1.6603833684438207,
          -2.3310252314377182,
          -3.40019046039741,
          -3.2965808029020662,
          -2.196934784523615,
          -1.757610894076733,
          -0.8178541415924769,
          -3.3190573398121783,
          -1.1603152252015103,
          -2.626952465123625,
          -3.0360532606044943,
          -1.5387019901585268,
          -2.094920981263411,
          -2.054773333024976,
          -2.267074998713319,
          -3.4448274005432267,
          -0.47685443373070946,
          -2.3290758585383182,
          -3.440546185140582,
          -0.8275887619257715,
          -2.7670673232418626,
          -3.0401375971891724,
          -3.146297220372183,
          -0.7709228469741752,
          -2.7920081926244715,
          -1.270637807527762,
          -2.1555400636449873,
          -2.4092148588340967,
          -1.074605115464937,
          -2.1736060088488323,
          -2.3202582410778585,
          -2.260756283780414,
          -2.762935514516264,
          -0.29919169063655865,
          -1.270036203600582,
          -3.4422339159242186,
          -1.427535860047049,
          -2.3114707095658096,
          -2.1511071719514594,
          -1.6758041341927843,
          -2.6394067230682756,
          -1.433296766318653,
          -1.9923148992584903,
          -1.5469547022413415,
          -3.3005642119111807,
          -3.3915220593636293,
          -2.791637149605172,
          -2.6434463006432374,
          -2.231454546976331,
          -2.8026861466320545,
          -0.9416787237856266,
          -1.5758734985130085,
          -3.1434623146115115,
          -3.423350445487677,
          -3.030506041531152,
          -3.191070031389646,
          -1.7512398675947014,
          -2.198379521172387,
          -1.4419998969725578,
          -0.9232403306433946,
          -1.9156080952032148,
          -2.0495732354368403,
          -0.49951147011782837,
          -0.5607659827198106,
          -2.6116465877933193,
          -1.8871598254970874,
          -0.9395294823838549,
          -1.47316040527198,
          -2.089059348166976,
          -2.333937673417438,
          -0.4293373851706946,
          -3.3203950122780155,
          -1.8518035810303304,
          -0.9852306103240629,
          -3.3750636438012007,
          -2.2250902550979412,
          -1.7230491626233995,
          -0.4282767524266718,
          -1.1030393808380612,
          -2.401627525229926,
          -2.0523442903414697,
          -1.937898855577648,
          -2.1437739379706384,
          -2.4082209587737693,
          -0.3813825341437618,
          -2.1452406026077147,
          -2.234698262835625,
          -1.0209994922412493,
          -1.323096328801864,
          -1.0932291386855595,
          -2.7874320470377496,
          -3.392360101813176,
          -0.48031874239799793,
          -0.35134803919444363,
          -1.5260837799009432,
          -3.412610779172686,
          -2.3159689318310326,
          -0.8663114360244656,
          -1.656581326389435,
          -2.788482297495373,
          -1.4252897357785868,
          -1.7441545600860224,
          -1.4234894447861701,
          -1.826458600031361,
          -2.664035915238473,
          -2.514592713444773,
          -0.9212118671092696,
          -2.646847959520359,
          -2.1093635183586628,
          -2.7840628831377163,
          -0.5214426338486382,
          -0.5906629566150294,
          -3.385628145882497,
          -3.460043983526296,
          -2.5163221659505672,
          -2.196287392895061,
          -1.3640812302325607,
          -2.1717850568142336,
          -2.1700246415409348,
          -2.2188377050772314,
          -0.9392158431937592,
          -2.134590093959692,
          -1.4034463595931579,
          -2.785022701959218,
          -3.219718473341551,
          -2.233010457183697,
          -2.5552910341982136,
          -3.1492908012437937,
          -2.2213626787663245,
          -1.833597045290352,
          -2.1635500394749756,
          -1.8260057566364765,
          -2.194308179236031,
          -1.1990026404193093,
          -1.5595606875422725,
          -3.168699631866126,
          -3.4238329104222904,
          -2.1424618868252545,
          -2.1661008482272703
         ],
         "type": "scatter",
         "xaxis": "x",
         "yaxis": "y"
        },
        {
         "marker": {
          "color": [
           0,
           1,
           2,
           3,
           4,
           5,
           6,
           7,
           8,
           9,
           10,
           11,
           12,
           13,
           14,
           15,
           16,
           17,
           18,
           19,
           20,
           21,
           22,
           23,
           24,
           25,
           26,
           27,
           28,
           29,
           30,
           31,
           32,
           33,
           34,
           35,
           36,
           37,
           38,
           39,
           40,
           41,
           42,
           43,
           44,
           45,
           46,
           47,
           48,
           49,
           50,
           51,
           52,
           53,
           54,
           55,
           56,
           57,
           58,
           59,
           60,
           61,
           62,
           63,
           64,
           65,
           66,
           67,
           68,
           69,
           70,
           71,
           72,
           73,
           74,
           75,
           76,
           77,
           78,
           79,
           80,
           81,
           82,
           83,
           84,
           85,
           86,
           87,
           88,
           89,
           90,
           91,
           92,
           93,
           94,
           95,
           96,
           97,
           98,
           99,
           100,
           101,
           102,
           103,
           104,
           105,
           106,
           107,
           108,
           109,
           110,
           111,
           112,
           113,
           114,
           115,
           116,
           117,
           118,
           119,
           120,
           121,
           122,
           123,
           124,
           125,
           126,
           127,
           128,
           129,
           130,
           131,
           132,
           133,
           134,
           135,
           136,
           137,
           138,
           139,
           140,
           141,
           142,
           143,
           144,
           145,
           146,
           147,
           148,
           149,
           150,
           151,
           152,
           153,
           154,
           155,
           156,
           157,
           158,
           159,
           160,
           161,
           162,
           163,
           164,
           165,
           166,
           167,
           168,
           169,
           170,
           171,
           172,
           173,
           174,
           175,
           176,
           177,
           178,
           179,
           180,
           181,
           182,
           183,
           184,
           185,
           186,
           187,
           188,
           189,
           190,
           191,
           192,
           193,
           194,
           195,
           196,
           197,
           198,
           199,
           200,
           201
          ],
          "colorbar": {
           "title": {
            "text": "Trial"
           },
           "x": 1.0,
           "xpad": 40
          },
          "colorscale": [
           [
            0.0,
            "rgb(247,251,255)"
           ],
           [
            0.125,
            "rgb(222,235,247)"
           ],
           [
            0.25,
            "rgb(198,219,239)"
           ],
           [
            0.375,
            "rgb(158,202,225)"
           ],
           [
            0.5,
            "rgb(107,174,214)"
           ],
           [
            0.625,
            "rgb(66,146,198)"
           ],
           [
            0.75,
            "rgb(33,113,181)"
           ],
           [
            0.875,
            "rgb(8,81,156)"
           ],
           [
            1.0,
            "rgb(8,48,107)"
           ]
          ],
          "line": {
           "color": "Grey",
           "width": 0.5
          },
          "showscale": false
         },
         "mode": "markers",
         "name": "Feasible Trial",
         "showlegend": false,
         "x": [
          24,
          25,
          31,
          20,
          23,
          22,
          17,
          17,
          10,
          21,
          28,
          29,
          3,
          31,
          9,
          19,
          10,
          14,
          2,
          14,
          9,
          8,
          10,
          16,
          17,
          15,
          2,
          17,
          11,
          12,
          24,
          6,
          18,
          30,
          32,
          29,
          14,
          6,
          26,
          14,
          15,
          6,
          28,
          1,
          17,
          1,
          14,
          23,
          10,
          3,
          28,
          24,
          29,
          10,
          3,
          5,
          28,
          26,
          4,
          29,
          14,
          2,
          12,
          10,
          23,
          32,
          31,
          20,
          12,
          1,
          31,
          2,
          26,
          29,
          10,
          17,
          16,
          22,
          32,
          1,
          23,
          32,
          4,
          27,
          29,
          30,
          5,
          27,
          8,
          19,
          24,
          5,
          19,
          23,
          22,
          27,
          2,
          8,
          32,
          9,
          23,
          18,
          10,
          26,
          9,
          15,
          10,
          31,
          32,
          27,
          26,
          21,
          27,
          5,
          9,
          30,
          32,
          29,
          30,
          12,
          20,
          9,
          6,
          14,
          16,
          2,
          2,
          26,
          13,
          5,
          8,
          17,
          23,
          2,
          31,
          13,
          1,
          32,
          21,
          11,
          3,
          7,
          24,
          16,
          14,
          18,
          24,
          1,
          18,
          21,
          5,
          7,
          7,
          27,
          32,
          1,
          2,
          10,
          32,
          23,
          1,
          11,
          27,
          9,
          12,
          9,
          12,
          26,
          25,
          6,
          26,
          17,
          27,
          1,
          1,
          32,
          32,
          25,
          20,
          8,
          19,
          19,
          21,
          1,
          18,
          7,
          27,
          31,
          21,
          25,
          30,
          21,
          13,
          19,
          12,
          20,
          1,
          10,
          30,
          32,
          18,
          19
         ],
         "y": [
          -2.4106863909222307,
          -2.519650748277333,
          -3.284343275829557,
          -2.1989724944807163,
          -2.3226829137249885,
          -2.2759861646693196,
          -2.1026134822151126,
          -2.1023286551326565,
          -1.5447407862361637,
          -2.2227363297123652,
          -2.9249221530653506,
          -3.0047030373409243,
          -0.5989714070341489,
          -3.2950556465486818,
          -1.5703755468415594,
          -2.1528563798092457,
          -1.5430989544029612,
          -1.9349474071387576,
          -0.49309126905191525,
          -1.9378370778735114,
          -1.447626605369622,
          -1.277845313534931,
          -1.5415914117373133,
          -2.0677919837123824,
          -2.100660057491238,
          -1.9989595897643908,
          -0.7757669119254942,
          -2.1005915643569386,
          -1.6509802073668147,
          -1.8304970754985224,
          -2.4177692444712475,
          -0.9200764232169153,
          -2.1283297161047026,
          -3.1931192177740657,
          -3.4344068514268877,
          -3.0465618295992742,
          -1.9357636422566231,
          -0.9344677012942256,
          -2.648886859849614,
          -1.9310625873701088,
          -2.0028704571799194,
          -0.9270178902811104,
          -2.9269648422619876,
          -0.8174499137927207,
          -2.100582700509782,
          -0.3189918350232037,
          -1.9329047435585427,
          -2.3176992384241673,
          -1.5609559126365269,
          -0.5409192779828154,
          -2.9269027316478837,
          -2.3997764422298657,
          -3.0377701668462542,
          -1.678505528475257,
          -0.4514125756813536,
          -0.8139169194148861,
          -2.9238423710414096,
          -2.686442941714101,
          -0.7889232839434953,
          -3.052164350009369,
          -1.905963978326422,
          -0.7474605655125964,
          -1.7539616536430405,
          -1.6603833684438207,
          -2.3310252314377182,
          -3.40019046039741,
          -3.2965808029020662,
          -2.196934784523615,
          -1.757610894076733,
          -0.8178541415924769,
          -3.3190573398121783,
          -1.1603152252015103,
          -2.626952465123625,
          -3.0360532606044943,
          -1.5387019901585268,
          -2.094920981263411,
          -2.054773333024976,
          -2.267074998713319,
          -3.4448274005432267,
          -0.47685443373070946,
          -2.3290758585383182,
          -3.440546185140582,
          -0.8275887619257715,
          -2.7670673232418626,
          -3.0401375971891724,
          -3.146297220372183,
          -0.7709228469741752,
          -2.7920081926244715,
          -1.270637807527762,
          -2.1555400636449873,
          -2.4092148588340967,
          -1.074605115464937,
          -2.1736060088488323,
          -2.3202582410778585,
          -2.260756283780414,
          -2.762935514516264,
          -0.29919169063655865,
          -1.270036203600582,
          -3.4422339159242186,
          -1.427535860047049,
          -2.3114707095658096,
          -2.1511071719514594,
          -1.6758041341927843,
          -2.6394067230682756,
          -1.433296766318653,
          -1.9923148992584903,
          -1.5469547022413415,
          -3.3005642119111807,
          -3.3915220593636293,
          -2.791637149605172,
          -2.6434463006432374,
          -2.231454546976331,
          -2.8026861466320545,
          -0.9416787237856266,
          -1.5758734985130085,
          -3.1434623146115115,
          -3.423350445487677,
          -3.030506041531152,
          -3.191070031389646,
          -1.7512398675947014,
          -2.198379521172387,
          -1.4419998969725578,
          -0.9232403306433946,
          -1.9156080952032148,
          -2.0495732354368403,
          -0.49951147011782837,
          -0.5607659827198106,
          -2.6116465877933193,
          -1.8871598254970874,
          -0.9395294823838549,
          -1.47316040527198,
          -2.089059348166976,
          -2.333937673417438,
          -0.4293373851706946,
          -3.3203950122780155,
          -1.8518035810303304,
          -0.9852306103240629,
          -3.3750636438012007,
          -2.2250902550979412,
          -1.7230491626233995,
          -0.4282767524266718,
          -1.1030393808380612,
          -2.401627525229926,
          -2.0523442903414697,
          -1.937898855577648,
          -2.1437739379706384,
          -2.4082209587737693,
          -0.3813825341437618,
          -2.1452406026077147,
          -2.234698262835625,
          -1.0209994922412493,
          -1.323096328801864,
          -1.0932291386855595,
          -2.7874320470377496,
          -3.392360101813176,
          -0.48031874239799793,
          -0.35134803919444363,
          -1.5260837799009432,
          -3.412610779172686,
          -2.3159689318310326,
          -0.8663114360244656,
          -1.656581326389435,
          -2.788482297495373,
          -1.4252897357785868,
          -1.7441545600860224,
          -1.4234894447861701,
          -1.826458600031361,
          -2.664035915238473,
          -2.514592713444773,
          -0.9212118671092696,
          -2.646847959520359,
          -2.1093635183586628,
          -2.7840628831377163,
          -0.5214426338486382,
          -0.5906629566150294,
          -3.385628145882497,
          -3.460043983526296,
          -2.5163221659505672,
          -2.196287392895061,
          -1.3640812302325607,
          -2.1717850568142336,
          -2.1700246415409348,
          -2.2188377050772314,
          -0.9392158431937592,
          -2.134590093959692,
          -1.4034463595931579,
          -2.785022701959218,
          -3.219718473341551,
          -2.233010457183697,
          -2.5552910341982136,
          -3.1492908012437937,
          -2.2213626787663245,
          -1.833597045290352,
          -2.1635500394749756,
          -1.8260057566364765,
          -2.194308179236031,
          -1.1990026404193093,
          -1.5595606875422725,
          -3.168699631866126,
          -3.4238329104222904,
          -2.1424618868252545,
          -2.1661008482272703
         ],
         "type": "scatter",
         "xaxis": "x2",
         "yaxis": "y2"
        },
        {
         "marker": {
          "color": [
           0,
           1,
           2,
           3,
           4,
           5,
           6,
           7,
           8,
           9,
           10,
           11,
           12,
           13,
           14,
           15,
           16,
           17,
           18,
           19,
           20,
           21,
           22,
           23,
           24,
           25,
           26,
           27,
           28,
           29,
           30,
           31,
           32,
           33,
           34,
           35,
           36,
           37,
           38,
           39,
           40,
           41,
           42,
           43,
           44,
           45,
           46,
           47,
           48,
           49,
           50,
           51,
           52,
           53,
           54,
           55,
           56,
           57,
           58,
           59,
           60,
           61,
           62,
           63,
           64,
           65,
           66,
           67,
           68,
           69,
           70,
           71,
           72,
           73,
           74,
           75,
           76,
           77,
           78,
           79,
           80,
           81,
           82,
           83,
           84,
           85,
           86,
           87,
           88,
           89,
           90,
           91,
           92,
           93,
           94,
           95,
           96,
           97,
           98,
           99,
           100,
           101,
           102,
           103,
           104,
           105,
           106,
           107,
           108,
           109,
           110,
           111,
           112,
           113,
           114,
           115,
           116,
           117,
           118,
           119,
           120,
           121,
           122,
           123,
           124,
           125,
           126,
           127,
           128,
           129,
           130,
           131,
           132,
           133,
           134,
           135,
           136,
           137,
           138,
           139,
           140,
           141,
           142,
           143,
           144,
           145,
           146,
           147,
           148,
           149,
           150,
           151,
           152,
           153,
           154,
           155,
           156,
           157,
           158,
           159,
           160,
           161,
           162,
           163,
           164,
           165,
           166,
           167,
           168,
           169,
           170,
           171,
           172,
           173,
           174,
           175,
           176,
           177,
           178,
           179,
           180,
           181,
           182,
           183,
           184,
           185,
           186,
           187,
           188,
           189,
           190,
           191,
           192,
           193,
           194,
           195,
           196,
           197,
           198,
           199,
           200,
           201
          ],
          "colorbar": {
           "title": {
            "text": "Trial"
           },
           "x": 1.0,
           "xpad": 40
          },
          "colorscale": [
           [
            0.0,
            "rgb(247,251,255)"
           ],
           [
            0.125,
            "rgb(222,235,247)"
           ],
           [
            0.25,
            "rgb(198,219,239)"
           ],
           [
            0.375,
            "rgb(158,202,225)"
           ],
           [
            0.5,
            "rgb(107,174,214)"
           ],
           [
            0.625,
            "rgb(66,146,198)"
           ],
           [
            0.75,
            "rgb(33,113,181)"
           ],
           [
            0.875,
            "rgb(8,81,156)"
           ],
           [
            1.0,
            "rgb(8,48,107)"
           ]
          ],
          "line": {
           "color": "Grey",
           "width": 0.5
          },
          "showscale": false
         },
         "mode": "markers",
         "name": "Feasible Trial",
         "showlegend": false,
         "x": [
          21,
          8,
          23,
          27,
          30,
          13,
          21,
          26,
          4,
          3,
          8,
          11,
          14,
          13,
          27,
          18,
          4,
          3,
          12,
          29,
          20,
          11,
          16,
          12,
          11,
          4,
          20,
          11,
          3,
          29,
          5,
          6,
          9,
          30,
          2,
          19,
          6,
          15,
          4,
          8,
          2,
          13,
          26,
          21,
          16,
          7,
          16,
          4,
          19,
          12,
          14,
          27,
          8,
          28,
          7,
          16,
          2,
          13,
          19,
          17,
          26,
          19,
          21,
          27,
          31,
          16,
          3,
          31,
          5,
          21,
          29,
          29,
          4,
          29,
          3,
          26,
          4,
          8,
          31,
          12,
          6,
          17,
          20,
          19,
          21,
          17,
          12,
          20,
          2,
          30,
          25,
          25,
          10,
          15,
          3,
          21,
          4,
          10,
          3,
          14,
          22,
          15,
          29,
          18,
          18,
          7,
          19,
          17,
          21,
          10,
          5,
          10,
          25,
          22,
          27,
          16,
          14,
          25,
          26,
          11,
          8,
          19,
          11,
          3,
          17,
          12,
          14,
          27,
          30,
          21,
          28,
          20,
          2,
          10,
          12,
          5,
          25,
          29,
          30,
          26,
          2,
          11,
          14,
          9,
          25,
          13,
          10,
          9,
          8,
          17,
          24,
          27,
          8,
          11,
          10,
          12,
          7,
          5,
          31,
          4,
          22,
          2,
          2,
          6,
          13,
          11,
          29,
          27,
          27,
          5,
          9,
          32,
          29,
          13,
          15,
          14,
          10,
          22,
          9,
          22,
          13,
          17,
          16,
          24,
          27,
          30,
          8,
          16,
          29,
          6,
          19,
          23,
          25,
          32,
          28,
          19,
          30,
          6,
          11,
          26,
          26,
          31
         ],
         "y": [
          -2.4106863909222307,
          -2.519650748277333,
          -3.284343275829557,
          -2.1989724944807163,
          -2.3226829137249885,
          -2.2759861646693196,
          -2.1026134822151126,
          -2.1023286551326565,
          -1.5447407862361637,
          -2.2227363297123652,
          -2.9249221530653506,
          -3.0047030373409243,
          -0.5989714070341489,
          -3.2950556465486818,
          -1.5703755468415594,
          -2.1528563798092457,
          -1.5430989544029612,
          -1.9349474071387576,
          -0.49309126905191525,
          -1.9378370778735114,
          -1.447626605369622,
          -1.277845313534931,
          -1.5415914117373133,
          -2.0677919837123824,
          -2.100660057491238,
          -1.9989595897643908,
          -0.7757669119254942,
          -2.1005915643569386,
          -1.6509802073668147,
          -1.8304970754985224,
          -2.4177692444712475,
          -0.9200764232169153,
          -2.1283297161047026,
          -3.1931192177740657,
          -3.4344068514268877,
          -3.0465618295992742,
          -1.9357636422566231,
          -0.9344677012942256,
          -2.648886859849614,
          -1.9310625873701088,
          -2.0028704571799194,
          -0.9270178902811104,
          -2.9269648422619876,
          -0.8174499137927207,
          -2.100582700509782,
          -0.3189918350232037,
          -1.9329047435585427,
          -2.3176992384241673,
          -1.5609559126365269,
          -0.5409192779828154,
          -2.9269027316478837,
          -2.3997764422298657,
          -3.0377701668462542,
          -1.678505528475257,
          -0.4514125756813536,
          -0.8139169194148861,
          -2.9238423710414096,
          -2.686442941714101,
          -0.7889232839434953,
          -3.052164350009369,
          -1.905963978326422,
          -0.7474605655125964,
          -1.7539616536430405,
          -1.6603833684438207,
          -2.3310252314377182,
          -3.40019046039741,
          -3.2965808029020662,
          -2.196934784523615,
          -1.757610894076733,
          -0.8178541415924769,
          -3.3190573398121783,
          -1.1603152252015103,
          -2.626952465123625,
          -3.0360532606044943,
          -1.5387019901585268,
          -2.094920981263411,
          -2.054773333024976,
          -2.267074998713319,
          -3.4448274005432267,
          -0.47685443373070946,
          -2.3290758585383182,
          -3.440546185140582,
          -0.8275887619257715,
          -2.7670673232418626,
          -3.0401375971891724,
          -3.146297220372183,
          -0.7709228469741752,
          -2.7920081926244715,
          -1.270637807527762,
          -2.1555400636449873,
          -2.4092148588340967,
          -1.074605115464937,
          -2.1736060088488323,
          -2.3202582410778585,
          -2.260756283780414,
          -2.762935514516264,
          -0.29919169063655865,
          -1.270036203600582,
          -3.4422339159242186,
          -1.427535860047049,
          -2.3114707095658096,
          -2.1511071719514594,
          -1.6758041341927843,
          -2.6394067230682756,
          -1.433296766318653,
          -1.9923148992584903,
          -1.5469547022413415,
          -3.3005642119111807,
          -3.3915220593636293,
          -2.791637149605172,
          -2.6434463006432374,
          -2.231454546976331,
          -2.8026861466320545,
          -0.9416787237856266,
          -1.5758734985130085,
          -3.1434623146115115,
          -3.423350445487677,
          -3.030506041531152,
          -3.191070031389646,
          -1.7512398675947014,
          -2.198379521172387,
          -1.4419998969725578,
          -0.9232403306433946,
          -1.9156080952032148,
          -2.0495732354368403,
          -0.49951147011782837,
          -0.5607659827198106,
          -2.6116465877933193,
          -1.8871598254970874,
          -0.9395294823838549,
          -1.47316040527198,
          -2.089059348166976,
          -2.333937673417438,
          -0.4293373851706946,
          -3.3203950122780155,
          -1.8518035810303304,
          -0.9852306103240629,
          -3.3750636438012007,
          -2.2250902550979412,
          -1.7230491626233995,
          -0.4282767524266718,
          -1.1030393808380612,
          -2.401627525229926,
          -2.0523442903414697,
          -1.937898855577648,
          -2.1437739379706384,
          -2.4082209587737693,
          -0.3813825341437618,
          -2.1452406026077147,
          -2.234698262835625,
          -1.0209994922412493,
          -1.323096328801864,
          -1.0932291386855595,
          -2.7874320470377496,
          -3.392360101813176,
          -0.48031874239799793,
          -0.35134803919444363,
          -1.5260837799009432,
          -3.412610779172686,
          -2.3159689318310326,
          -0.8663114360244656,
          -1.656581326389435,
          -2.788482297495373,
          -1.4252897357785868,
          -1.7441545600860224,
          -1.4234894447861701,
          -1.826458600031361,
          -2.664035915238473,
          -2.514592713444773,
          -0.9212118671092696,
          -2.646847959520359,
          -2.1093635183586628,
          -2.7840628831377163,
          -0.5214426338486382,
          -0.5906629566150294,
          -3.385628145882497,
          -3.460043983526296,
          -2.5163221659505672,
          -2.196287392895061,
          -1.3640812302325607,
          -2.1717850568142336,
          -2.1700246415409348,
          -2.2188377050772314,
          -0.9392158431937592,
          -2.134590093959692,
          -1.4034463595931579,
          -2.785022701959218,
          -3.219718473341551,
          -2.233010457183697,
          -2.5552910341982136,
          -3.1492908012437937,
          -2.2213626787663245,
          -1.833597045290352,
          -2.1635500394749756,
          -1.8260057566364765,
          -2.194308179236031,
          -1.1990026404193093,
          -1.5595606875422725,
          -3.168699631866126,
          -3.4238329104222904,
          -2.1424618868252545,
          -2.1661008482272703
         ],
         "type": "scatter",
         "xaxis": "x3",
         "yaxis": "y3"
        },
        {
         "marker": {
          "color": [
           0,
           1,
           2,
           3,
           4,
           5,
           6,
           7,
           8,
           9,
           10,
           11,
           12,
           13,
           14,
           15,
           16,
           17,
           18,
           19,
           20,
           21,
           22,
           23,
           24,
           25,
           26,
           27,
           28,
           29,
           30,
           31,
           32,
           33,
           34,
           35,
           36,
           37,
           38,
           39,
           40,
           41,
           42,
           43,
           44,
           45,
           46,
           47,
           48,
           49,
           50,
           51,
           52,
           53,
           54,
           55,
           56,
           57,
           58,
           59,
           60,
           61,
           62,
           63,
           64,
           65,
           66,
           67,
           68,
           69,
           70,
           71,
           72,
           73,
           74,
           75,
           76,
           77,
           78,
           79,
           80,
           81,
           82,
           83,
           84,
           85,
           86,
           87,
           88,
           89,
           90,
           91,
           92,
           93,
           94,
           95,
           96,
           97,
           98,
           99,
           100,
           101,
           102,
           103,
           104,
           105,
           106,
           107,
           108,
           109,
           110,
           111,
           112,
           113,
           114,
           115,
           116,
           117,
           118,
           119,
           120,
           121,
           122,
           123,
           124,
           125,
           126,
           127,
           128,
           129,
           130,
           131,
           132,
           133,
           134,
           135,
           136,
           137,
           138,
           139,
           140,
           141,
           142,
           143,
           144,
           145,
           146,
           147,
           148,
           149,
           150,
           151,
           152,
           153,
           154,
           155,
           156,
           157,
           158,
           159,
           160,
           161,
           162,
           163,
           164,
           165,
           166,
           167,
           168,
           169,
           170,
           171,
           172,
           173,
           174,
           175,
           176,
           177,
           178,
           179,
           180,
           181,
           182,
           183,
           184,
           185,
           186,
           187,
           188,
           189,
           190,
           191,
           192,
           193,
           194,
           195,
           196,
           197,
           198,
           199,
           200,
           201
          ],
          "colorbar": {
           "title": {
            "text": "Trial"
           },
           "x": 1.0,
           "xpad": 40
          },
          "colorscale": [
           [
            0.0,
            "rgb(247,251,255)"
           ],
           [
            0.125,
            "rgb(222,235,247)"
           ],
           [
            0.25,
            "rgb(198,219,239)"
           ],
           [
            0.375,
            "rgb(158,202,225)"
           ],
           [
            0.5,
            "rgb(107,174,214)"
           ],
           [
            0.625,
            "rgb(66,146,198)"
           ],
           [
            0.75,
            "rgb(33,113,181)"
           ],
           [
            0.875,
            "rgb(8,81,156)"
           ],
           [
            1.0,
            "rgb(8,48,107)"
           ]
          ],
          "line": {
           "color": "Grey",
           "width": 0.5
          },
          "showscale": false
         },
         "mode": "markers",
         "name": "Feasible Trial",
         "showlegend": false,
         "x": [
          794,
          549,
          252,
          103,
          750,
          588,
          498,
          686,
          918,
          202,
          593,
          416,
          393,
          839,
          989,
          638,
          135,
          397,
          383,
          892,
          645,
          371,
          602,
          157,
          980,
          620,
          804,
          415,
          706,
          197,
          297,
          523,
          681,
          304,
          610,
          616,
          626,
          725,
          556,
          609,
          366,
          771,
          855,
          643,
          776,
          536,
          864,
          205,
          169,
          690,
          832,
          446,
          557,
          970,
          122,
          331,
          829,
          347,
          861,
          440,
          370,
          266,
          991,
          823,
          347,
          337,
          713,
          873,
          938,
          790,
          589,
          446,
          465,
          374,
          641,
          723,
          782,
          576,
          814,
          596,
          821,
          152,
          232,
          360,
          622,
          565,
          472,
          697,
          296,
          218,
          178,
          178,
          584,
          529,
          747,
          529,
          761,
          603,
          117,
          424,
          313,
          868,
          687,
          222,
          487,
          153,
          830,
          687,
          826,
          744,
          499,
          684,
          431,
          194,
          101,
          351,
          924,
          348,
          884,
          855,
          312,
          939,
          574,
          117,
          849,
          126,
          638,
          172,
          115,
          358,
          306,
          830,
          676,
          254,
          624,
          275,
          183,
          181,
          568,
          813,
          202,
          219,
          330,
          684,
          879,
          460,
          172,
          369,
          225,
          289,
          251,
          751,
          966,
          665,
          477,
          885,
          992,
          111,
          377,
          914,
          510,
          778,
          846,
          324,
          486,
          400,
          911,
          684,
          815,
          897,
          706,
          927,
          730,
          423,
          116,
          431,
          241,
          631,
          897,
          312,
          267,
          784,
          340,
          552,
          172,
          643,
          720,
          203,
          595,
          396,
          850,
          743,
          122,
          628,
          279,
          691,
          522,
          504,
          746,
          726,
          734,
          617
         ],
         "y": [
          -2.4106863909222307,
          -2.519650748277333,
          -3.284343275829557,
          -2.1989724944807163,
          -2.3226829137249885,
          -2.2759861646693196,
          -2.1026134822151126,
          -2.1023286551326565,
          -1.5447407862361637,
          -2.2227363297123652,
          -2.9249221530653506,
          -3.0047030373409243,
          -0.5989714070341489,
          -3.2950556465486818,
          -1.5703755468415594,
          -2.1528563798092457,
          -1.5430989544029612,
          -1.9349474071387576,
          -0.49309126905191525,
          -1.9378370778735114,
          -1.447626605369622,
          -1.277845313534931,
          -1.5415914117373133,
          -2.0677919837123824,
          -2.100660057491238,
          -1.9989595897643908,
          -0.7757669119254942,
          -2.1005915643569386,
          -1.6509802073668147,
          -1.8304970754985224,
          -2.4177692444712475,
          -0.9200764232169153,
          -2.1283297161047026,
          -3.1931192177740657,
          -3.4344068514268877,
          -3.0465618295992742,
          -1.9357636422566231,
          -0.9344677012942256,
          -2.648886859849614,
          -1.9310625873701088,
          -2.0028704571799194,
          -0.9270178902811104,
          -2.9269648422619876,
          -0.8174499137927207,
          -2.100582700509782,
          -0.3189918350232037,
          -1.9329047435585427,
          -2.3176992384241673,
          -1.5609559126365269,
          -0.5409192779828154,
          -2.9269027316478837,
          -2.3997764422298657,
          -3.0377701668462542,
          -1.678505528475257,
          -0.4514125756813536,
          -0.8139169194148861,
          -2.9238423710414096,
          -2.686442941714101,
          -0.7889232839434953,
          -3.052164350009369,
          -1.905963978326422,
          -0.7474605655125964,
          -1.7539616536430405,
          -1.6603833684438207,
          -2.3310252314377182,
          -3.40019046039741,
          -3.2965808029020662,
          -2.196934784523615,
          -1.757610894076733,
          -0.8178541415924769,
          -3.3190573398121783,
          -1.1603152252015103,
          -2.626952465123625,
          -3.0360532606044943,
          -1.5387019901585268,
          -2.094920981263411,
          -2.054773333024976,
          -2.267074998713319,
          -3.4448274005432267,
          -0.47685443373070946,
          -2.3290758585383182,
          -3.440546185140582,
          -0.8275887619257715,
          -2.7670673232418626,
          -3.0401375971891724,
          -3.146297220372183,
          -0.7709228469741752,
          -2.7920081926244715,
          -1.270637807527762,
          -2.1555400636449873,
          -2.4092148588340967,
          -1.074605115464937,
          -2.1736060088488323,
          -2.3202582410778585,
          -2.260756283780414,
          -2.762935514516264,
          -0.29919169063655865,
          -1.270036203600582,
          -3.4422339159242186,
          -1.427535860047049,
          -2.3114707095658096,
          -2.1511071719514594,
          -1.6758041341927843,
          -2.6394067230682756,
          -1.433296766318653,
          -1.9923148992584903,
          -1.5469547022413415,
          -3.3005642119111807,
          -3.3915220593636293,
          -2.791637149605172,
          -2.6434463006432374,
          -2.231454546976331,
          -2.8026861466320545,
          -0.9416787237856266,
          -1.5758734985130085,
          -3.1434623146115115,
          -3.423350445487677,
          -3.030506041531152,
          -3.191070031389646,
          -1.7512398675947014,
          -2.198379521172387,
          -1.4419998969725578,
          -0.9232403306433946,
          -1.9156080952032148,
          -2.0495732354368403,
          -0.49951147011782837,
          -0.5607659827198106,
          -2.6116465877933193,
          -1.8871598254970874,
          -0.9395294823838549,
          -1.47316040527198,
          -2.089059348166976,
          -2.333937673417438,
          -0.4293373851706946,
          -3.3203950122780155,
          -1.8518035810303304,
          -0.9852306103240629,
          -3.3750636438012007,
          -2.2250902550979412,
          -1.7230491626233995,
          -0.4282767524266718,
          -1.1030393808380612,
          -2.401627525229926,
          -2.0523442903414697,
          -1.937898855577648,
          -2.1437739379706384,
          -2.4082209587737693,
          -0.3813825341437618,
          -2.1452406026077147,
          -2.234698262835625,
          -1.0209994922412493,
          -1.323096328801864,
          -1.0932291386855595,
          -2.7874320470377496,
          -3.392360101813176,
          -0.48031874239799793,
          -0.35134803919444363,
          -1.5260837799009432,
          -3.412610779172686,
          -2.3159689318310326,
          -0.8663114360244656,
          -1.656581326389435,
          -2.788482297495373,
          -1.4252897357785868,
          -1.7441545600860224,
          -1.4234894447861701,
          -1.826458600031361,
          -2.664035915238473,
          -2.514592713444773,
          -0.9212118671092696,
          -2.646847959520359,
          -2.1093635183586628,
          -2.7840628831377163,
          -0.5214426338486382,
          -0.5906629566150294,
          -3.385628145882497,
          -3.460043983526296,
          -2.5163221659505672,
          -2.196287392895061,
          -1.3640812302325607,
          -2.1717850568142336,
          -2.1700246415409348,
          -2.2188377050772314,
          -0.9392158431937592,
          -2.134590093959692,
          -1.4034463595931579,
          -2.785022701959218,
          -3.219718473341551,
          -2.233010457183697,
          -2.5552910341982136,
          -3.1492908012437937,
          -2.2213626787663245,
          -1.833597045290352,
          -2.1635500394749756,
          -1.8260057566364765,
          -2.194308179236031,
          -1.1990026404193093,
          -1.5595606875422725,
          -3.168699631866126,
          -3.4238329104222904,
          -2.1424618868252545,
          -2.1661008482272703
         ],
         "type": "scatter",
         "xaxis": "x4",
         "yaxis": "y4"
        }
       ],
       "layout": {
        "template": {
         "data": {
          "histogram2dcontour": [
           {
            "type": "histogram2dcontour",
            "colorbar": {
             "outlinewidth": 0,
             "ticks": ""
            },
            "colorscale": [
             [
              0.0,
              "#0d0887"
             ],
             [
              0.1111111111111111,
              "#46039f"
             ],
             [
              0.2222222222222222,
              "#7201a8"
             ],
             [
              0.3333333333333333,
              "#9c179e"
             ],
             [
              0.4444444444444444,
              "#bd3786"
             ],
             [
              0.5555555555555556,
              "#d8576b"
             ],
             [
              0.6666666666666666,
              "#ed7953"
             ],
             [
              0.7777777777777778,
              "#fb9f3a"
             ],
             [
              0.8888888888888888,
              "#fdca26"
             ],
             [
              1.0,
              "#f0f921"
             ]
            ]
           }
          ],
          "choropleth": [
           {
            "type": "choropleth",
            "colorbar": {
             "outlinewidth": 0,
             "ticks": ""
            }
           }
          ],
          "histogram2d": [
           {
            "type": "histogram2d",
            "colorbar": {
             "outlinewidth": 0,
             "ticks": ""
            },
            "colorscale": [
             [
              0.0,
              "#0d0887"
             ],
             [
              0.1111111111111111,
              "#46039f"
             ],
             [
              0.2222222222222222,
              "#7201a8"
             ],
             [
              0.3333333333333333,
              "#9c179e"
             ],
             [
              0.4444444444444444,
              "#bd3786"
             ],
             [
              0.5555555555555556,
              "#d8576b"
             ],
             [
              0.6666666666666666,
              "#ed7953"
             ],
             [
              0.7777777777777778,
              "#fb9f3a"
             ],
             [
              0.8888888888888888,
              "#fdca26"
             ],
             [
              1.0,
              "#f0f921"
             ]
            ]
           }
          ],
          "heatmap": [
           {
            "type": "heatmap",
            "colorbar": {
             "outlinewidth": 0,
             "ticks": ""
            },
            "colorscale": [
             [
              0.0,
              "#0d0887"
             ],
             [
              0.1111111111111111,
              "#46039f"
             ],
             [
              0.2222222222222222,
              "#7201a8"
             ],
             [
              0.3333333333333333,
              "#9c179e"
             ],
             [
              0.4444444444444444,
              "#bd3786"
             ],
             [
              0.5555555555555556,
              "#d8576b"
             ],
             [
              0.6666666666666666,
              "#ed7953"
             ],
             [
              0.7777777777777778,
              "#fb9f3a"
             ],
             [
              0.8888888888888888,
              "#fdca26"
             ],
             [
              1.0,
              "#f0f921"
             ]
            ]
           }
          ],
          "heatmapgl": [
           {
            "type": "heatmapgl",
            "colorbar": {
             "outlinewidth": 0,
             "ticks": ""
            },
            "colorscale": [
             [
              0.0,
              "#0d0887"
             ],
             [
              0.1111111111111111,
              "#46039f"
             ],
             [
              0.2222222222222222,
              "#7201a8"
             ],
             [
              0.3333333333333333,
              "#9c179e"
             ],
             [
              0.4444444444444444,
              "#bd3786"
             ],
             [
              0.5555555555555556,
              "#d8576b"
             ],
             [
              0.6666666666666666,
              "#ed7953"
             ],
             [
              0.7777777777777778,
              "#fb9f3a"
             ],
             [
              0.8888888888888888,
              "#fdca26"
             ],
             [
              1.0,
              "#f0f921"
             ]
            ]
           }
          ],
          "contourcarpet": [
           {
            "type": "contourcarpet",
            "colorbar": {
             "outlinewidth": 0,
             "ticks": ""
            }
           }
          ],
          "contour": [
           {
            "type": "contour",
            "colorbar": {
             "outlinewidth": 0,
             "ticks": ""
            },
            "colorscale": [
             [
              0.0,
              "#0d0887"
             ],
             [
              0.1111111111111111,
              "#46039f"
             ],
             [
              0.2222222222222222,
              "#7201a8"
             ],
             [
              0.3333333333333333,
              "#9c179e"
             ],
             [
              0.4444444444444444,
              "#bd3786"
             ],
             [
              0.5555555555555556,
              "#d8576b"
             ],
             [
              0.6666666666666666,
              "#ed7953"
             ],
             [
              0.7777777777777778,
              "#fb9f3a"
             ],
             [
              0.8888888888888888,
              "#fdca26"
             ],
             [
              1.0,
              "#f0f921"
             ]
            ]
           }
          ],
          "surface": [
           {
            "type": "surface",
            "colorbar": {
             "outlinewidth": 0,
             "ticks": ""
            },
            "colorscale": [
             [
              0.0,
              "#0d0887"
             ],
             [
              0.1111111111111111,
              "#46039f"
             ],
             [
              0.2222222222222222,
              "#7201a8"
             ],
             [
              0.3333333333333333,
              "#9c179e"
             ],
             [
              0.4444444444444444,
              "#bd3786"
             ],
             [
              0.5555555555555556,
              "#d8576b"
             ],
             [
              0.6666666666666666,
              "#ed7953"
             ],
             [
              0.7777777777777778,
              "#fb9f3a"
             ],
             [
              0.8888888888888888,
              "#fdca26"
             ],
             [
              1.0,
              "#f0f921"
             ]
            ]
           }
          ],
          "mesh3d": [
           {
            "type": "mesh3d",
            "colorbar": {
             "outlinewidth": 0,
             "ticks": ""
            }
           }
          ],
          "scatter": [
           {
            "marker": {
             "line": {
              "color": "#283442"
             }
            },
            "type": "scatter"
           }
          ],
          "parcoords": [
           {
            "type": "parcoords",
            "line": {
             "colorbar": {
              "outlinewidth": 0,
              "ticks": ""
             }
            }
           }
          ],
          "scatterpolargl": [
           {
            "type": "scatterpolargl",
            "marker": {
             "colorbar": {
              "outlinewidth": 0,
              "ticks": ""
             }
            }
           }
          ],
          "bar": [
           {
            "error_x": {
             "color": "#f2f5fa"
            },
            "error_y": {
             "color": "#f2f5fa"
            },
            "marker": {
             "line": {
              "color": "rgb(17,17,17)",
              "width": 0.5
             },
             "pattern": {
              "fillmode": "overlay",
              "size": 10,
              "solidity": 0.2
             }
            },
            "type": "bar"
           }
          ],
          "scattergeo": [
           {
            "type": "scattergeo",
            "marker": {
             "colorbar": {
              "outlinewidth": 0,
              "ticks": ""
             }
            }
           }
          ],
          "scatterpolar": [
           {
            "type": "scatterpolar",
            "marker": {
             "colorbar": {
              "outlinewidth": 0,
              "ticks": ""
             }
            }
           }
          ],
          "histogram": [
           {
            "marker": {
             "pattern": {
              "fillmode": "overlay",
              "size": 10,
              "solidity": 0.2
             }
            },
            "type": "histogram"
           }
          ],
          "scattergl": [
           {
            "marker": {
             "line": {
              "color": "#283442"
             }
            },
            "type": "scattergl"
           }
          ],
          "scatter3d": [
           {
            "type": "scatter3d",
            "line": {
             "colorbar": {
              "outlinewidth": 0,
              "ticks": ""
             }
            },
            "marker": {
             "colorbar": {
              "outlinewidth": 0,
              "ticks": ""
             }
            }
           }
          ],
          "scattermapbox": [
           {
            "type": "scattermapbox",
            "marker": {
             "colorbar": {
              "outlinewidth": 0,
              "ticks": ""
             }
            }
           }
          ],
          "scatterternary": [
           {
            "type": "scatterternary",
            "marker": {
             "colorbar": {
              "outlinewidth": 0,
              "ticks": ""
             }
            }
           }
          ],
          "scattercarpet": [
           {
            "type": "scattercarpet",
            "marker": {
             "colorbar": {
              "outlinewidth": 0,
              "ticks": ""
             }
            }
           }
          ],
          "carpet": [
           {
            "aaxis": {
             "endlinecolor": "#A2B1C6",
             "gridcolor": "#506784",
             "linecolor": "#506784",
             "minorgridcolor": "#506784",
             "startlinecolor": "#A2B1C6"
            },
            "baxis": {
             "endlinecolor": "#A2B1C6",
             "gridcolor": "#506784",
             "linecolor": "#506784",
             "minorgridcolor": "#506784",
             "startlinecolor": "#A2B1C6"
            },
            "type": "carpet"
           }
          ],
          "table": [
           {
            "cells": {
             "fill": {
              "color": "#506784"
             },
             "line": {
              "color": "rgb(17,17,17)"
             }
            },
            "header": {
             "fill": {
              "color": "#2a3f5f"
             },
             "line": {
              "color": "rgb(17,17,17)"
             }
            },
            "type": "table"
           }
          ],
          "barpolar": [
           {
            "marker": {
             "line": {
              "color": "rgb(17,17,17)",
              "width": 0.5
             },
             "pattern": {
              "fillmode": "overlay",
              "size": 10,
              "solidity": 0.2
             }
            },
            "type": "barpolar"
           }
          ],
          "pie": [
           {
            "automargin": true,
            "type": "pie"
           }
          ]
         },
         "layout": {
          "autotypenumbers": "strict",
          "colorway": [
           "#636efa",
           "#EF553B",
           "#00cc96",
           "#ab63fa",
           "#FFA15A",
           "#19d3f3",
           "#FF6692",
           "#B6E880",
           "#FF97FF",
           "#FECB52"
          ],
          "font": {
           "color": "#f2f5fa"
          },
          "hovermode": "closest",
          "hoverlabel": {
           "align": "left"
          },
          "paper_bgcolor": "rgb(17,17,17)",
          "plot_bgcolor": "rgb(17,17,17)",
          "polar": {
           "bgcolor": "rgb(17,17,17)",
           "angularaxis": {
            "gridcolor": "#506784",
            "linecolor": "#506784",
            "ticks": ""
           },
           "radialaxis": {
            "gridcolor": "#506784",
            "linecolor": "#506784",
            "ticks": ""
           }
          },
          "ternary": {
           "bgcolor": "rgb(17,17,17)",
           "aaxis": {
            "gridcolor": "#506784",
            "linecolor": "#506784",
            "ticks": ""
           },
           "baxis": {
            "gridcolor": "#506784",
            "linecolor": "#506784",
            "ticks": ""
           },
           "caxis": {
            "gridcolor": "#506784",
            "linecolor": "#506784",
            "ticks": ""
           }
          },
          "coloraxis": {
           "colorbar": {
            "outlinewidth": 0,
            "ticks": ""
           }
          },
          "colorscale": {
           "sequential": [
            [
             0.0,
             "#0d0887"
            ],
            [
             0.1111111111111111,
             "#46039f"
            ],
            [
             0.2222222222222222,
             "#7201a8"
            ],
            [
             0.3333333333333333,
             "#9c179e"
            ],
            [
             0.4444444444444444,
             "#bd3786"
            ],
            [
             0.5555555555555556,
             "#d8576b"
            ],
            [
             0.6666666666666666,
             "#ed7953"
            ],
            [
             0.7777777777777778,
             "#fb9f3a"
            ],
            [
             0.8888888888888888,
             "#fdca26"
            ],
            [
             1.0,
             "#f0f921"
            ]
           ],
           "sequentialminus": [
            [
             0.0,
             "#0d0887"
            ],
            [
             0.1111111111111111,
             "#46039f"
            ],
            [
             0.2222222222222222,
             "#7201a8"
            ],
            [
             0.3333333333333333,
             "#9c179e"
            ],
            [
             0.4444444444444444,
             "#bd3786"
            ],
            [
             0.5555555555555556,
             "#d8576b"
            ],
            [
             0.6666666666666666,
             "#ed7953"
            ],
            [
             0.7777777777777778,
             "#fb9f3a"
            ],
            [
             0.8888888888888888,
             "#fdca26"
            ],
            [
             1.0,
             "#f0f921"
            ]
           ],
           "diverging": [
            [
             0,
             "#8e0152"
            ],
            [
             0.1,
             "#c51b7d"
            ],
            [
             0.2,
             "#de77ae"
            ],
            [
             0.3,
             "#f1b6da"
            ],
            [
             0.4,
             "#fde0ef"
            ],
            [
             0.5,
             "#f7f7f7"
            ],
            [
             0.6,
             "#e6f5d0"
            ],
            [
             0.7,
             "#b8e186"
            ],
            [
             0.8,
             "#7fbc41"
            ],
            [
             0.9,
             "#4d9221"
            ],
            [
             1,
             "#276419"
            ]
           ]
          },
          "xaxis": {
           "gridcolor": "#283442",
           "linecolor": "#506784",
           "ticks": "",
           "title": {
            "standoff": 15
           },
           "zerolinecolor": "#283442",
           "automargin": true,
           "zerolinewidth": 2
          },
          "yaxis": {
           "gridcolor": "#283442",
           "linecolor": "#506784",
           "ticks": "",
           "title": {
            "standoff": 15
           },
           "zerolinecolor": "#283442",
           "automargin": true,
           "zerolinewidth": 2
          },
          "scene": {
           "xaxis": {
            "backgroundcolor": "rgb(17,17,17)",
            "gridcolor": "#506784",
            "linecolor": "#506784",
            "showbackground": true,
            "ticks": "",
            "zerolinecolor": "#C8D4E3",
            "gridwidth": 2
           },
           "yaxis": {
            "backgroundcolor": "rgb(17,17,17)",
            "gridcolor": "#506784",
            "linecolor": "#506784",
            "showbackground": true,
            "ticks": "",
            "zerolinecolor": "#C8D4E3",
            "gridwidth": 2
           },
           "zaxis": {
            "backgroundcolor": "rgb(17,17,17)",
            "gridcolor": "#506784",
            "linecolor": "#506784",
            "showbackground": true,
            "ticks": "",
            "zerolinecolor": "#C8D4E3",
            "gridwidth": 2
           }
          },
          "shapedefaults": {
           "line": {
            "color": "#f2f5fa"
           }
          },
          "annotationdefaults": {
           "arrowcolor": "#f2f5fa",
           "arrowhead": 0,
           "arrowwidth": 1
          },
          "geo": {
           "bgcolor": "rgb(17,17,17)",
           "landcolor": "rgb(17,17,17)",
           "subunitcolor": "#506784",
           "showland": true,
           "showlakes": true,
           "lakecolor": "rgb(17,17,17)"
          },
          "title": {
           "x": 0.05
          },
          "updatemenudefaults": {
           "bgcolor": "#506784",
           "borderwidth": 0
          },
          "sliderdefaults": {
           "bgcolor": "#C8D4E3",
           "borderwidth": 1,
           "bordercolor": "rgb(17,17,17)",
           "tickwidth": 0
          },
          "mapbox": {
           "style": "dark"
          }
         }
        },
        "xaxis": {
         "anchor": "y",
         "domain": [
          0.0,
          0.2125
         ],
         "title": {
          "text": "max_depth"
         }
        },
        "yaxis": {
         "anchor": "x",
         "domain": [
          0.0,
          1.0
         ],
         "title": {
          "text": "Objective Value"
         }
        },
        "xaxis2": {
         "anchor": "y2",
         "domain": [
          0.2625,
          0.475
         ],
         "title": {
          "text": "min_samples_leaf"
         }
        },
        "yaxis2": {
         "anchor": "x2",
         "domain": [
          0.0,
          1.0
         ],
         "matches": "y",
         "showticklabels": false
        },
        "xaxis3": {
         "anchor": "y3",
         "domain": [
          0.525,
          0.7375
         ],
         "title": {
          "text": "min_samples_split"
         }
        },
        "yaxis3": {
         "anchor": "x3",
         "domain": [
          0.0,
          1.0
         ],
         "matches": "y",
         "showticklabels": false
        },
        "xaxis4": {
         "anchor": "y4",
         "domain": [
          0.7875,
          1.0
         ],
         "title": {
          "text": "n_estimators"
         }
        },
        "yaxis4": {
         "anchor": "x4",
         "domain": [
          0.0,
          1.0
         ],
         "matches": "y",
         "showticklabels": false
        },
        "title": {
         "text": "Slice Plot"
        },
        "width": 1200
       },
       "config": {
        "plotlyServerURL": "https://plot.ly"
       }
      },
      "text/html": [
       "<div>                            <div id=\"a0690dfa-20f7-48ef-b12e-59e9c6f43afe\" class=\"plotly-graph-div\" style=\"height:525px; width:1200px;\"></div>            <script type=\"text/javascript\">                require([\"plotly\"], function(Plotly) {                    window.PLOTLYENV=window.PLOTLYENV || {};                                    if (document.getElementById(\"a0690dfa-20f7-48ef-b12e-59e9c6f43afe\")) {                    Plotly.newPlot(                        \"a0690dfa-20f7-48ef-b12e-59e9c6f43afe\",                        [{\"marker\":{\"color\":[0,1,2,3,4,5,6,7,8,9,10,11,12,13,14,15,16,17,18,19,20,21,22,23,24,25,26,27,28,29,30,31,32,33,34,35,36,37,38,39,40,41,42,43,44,45,46,47,48,49,50,51,52,53,54,55,56,57,58,59,60,61,62,63,64,65,66,67,68,69,70,71,72,73,74,75,76,77,78,79,80,81,82,83,84,85,86,87,88,89,90,91,92,93,94,95,96,97,98,99,100,101,102,103,104,105,106,107,108,109,110,111,112,113,114,115,116,117,118,119,120,121,122,123,124,125,126,127,128,129,130,131,132,133,134,135,136,137,138,139,140,141,142,143,144,145,146,147,148,149,150,151,152,153,154,155,156,157,158,159,160,161,162,163,164,165,166,167,168,169,170,171,172,173,174,175,176,177,178,179,180,181,182,183,184,185,186,187,188,189,190,191,192,193,194,195,196,197,198,199,200,201],\"colorbar\":{\"title\":{\"text\":\"Trial\"},\"x\":1.0,\"xpad\":40},\"colorscale\":[[0.0,\"rgb(247,251,255)\"],[0.125,\"rgb(222,235,247)\"],[0.25,\"rgb(198,219,239)\"],[0.375,\"rgb(158,202,225)\"],[0.5,\"rgb(107,174,214)\"],[0.625,\"rgb(66,146,198)\"],[0.75,\"rgb(33,113,181)\"],[0.875,\"rgb(8,81,156)\"],[1.0,\"rgb(8,48,107)\"]],\"line\":{\"color\":\"Grey\",\"width\":0.5},\"showscale\":true},\"mode\":\"markers\",\"name\":\"Feasible Trial\",\"showlegend\":false,\"x\":[10,11,10,13,11,10,12,13,11,14,14,14,10,10,12,15,12,14,13,14,13,10,13,15,12,15,14,13,10,11,14,13,10,12,13,14,14,10,14,13,10,13,13,14,11,15,14,12,11,14,14,11,13,11,10,15,12,14,13,12,12,15,11,13,13,10,11,14,10,11,12,12,10,13,13,11,11,14,10,10,11,11,12,14,11,13,13,15,15,15,10,12,14,13,14,10,11,10,10,14,14,13,14,14,15,10,15,13,15,10,11,13,13,13,15,10,11,15,10,14,10,14,14,14,10,10,15,10,15,15,15,13,10,14,11,12,13,10,11,13,15,15,10,11,13,14,13,14,11,14,15,11,13,13,14,12,14,13,10,14,10,15,10,11,11,11,15,11,10,11,14,15,10,15,13,12,12,14,11,14,11,11,14,12,13,11,12,14,13,10,13,12,14,11,15,15,15,12,12,11,12,15],\"y\":[-2.4106863909222307,-2.519650748277333,-3.284343275829557,-2.1989724944807163,-2.3226829137249885,-2.2759861646693196,-2.1026134822151126,-2.1023286551326565,-1.5447407862361637,-2.2227363297123652,-2.9249221530653506,-3.0047030373409243,-0.5989714070341489,-3.2950556465486818,-1.5703755468415594,-2.1528563798092457,-1.5430989544029612,-1.9349474071387576,-0.49309126905191525,-1.9378370778735114,-1.447626605369622,-1.277845313534931,-1.5415914117373133,-2.0677919837123824,-2.100660057491238,-1.9989595897643908,-0.7757669119254942,-2.1005915643569386,-1.6509802073668147,-1.8304970754985224,-2.4177692444712475,-0.9200764232169153,-2.1283297161047026,-3.1931192177740657,-3.4344068514268877,-3.0465618295992742,-1.9357636422566231,-0.9344677012942256,-2.648886859849614,-1.9310625873701088,-2.0028704571799194,-0.9270178902811104,-2.9269648422619876,-0.8174499137927207,-2.100582700509782,-0.3189918350232037,-1.9329047435585427,-2.3176992384241673,-1.5609559126365269,-0.5409192779828154,-2.9269027316478837,-2.3997764422298657,-3.0377701668462542,-1.678505528475257,-0.4514125756813536,-0.8139169194148861,-2.9238423710414096,-2.686442941714101,-0.7889232839434953,-3.052164350009369,-1.905963978326422,-0.7474605655125964,-1.7539616536430405,-1.6603833684438207,-2.3310252314377182,-3.40019046039741,-3.2965808029020662,-2.196934784523615,-1.757610894076733,-0.8178541415924769,-3.3190573398121783,-1.1603152252015103,-2.626952465123625,-3.0360532606044943,-1.5387019901585268,-2.094920981263411,-2.054773333024976,-2.267074998713319,-3.4448274005432267,-0.47685443373070946,-2.3290758585383182,-3.440546185140582,-0.8275887619257715,-2.7670673232418626,-3.0401375971891724,-3.146297220372183,-0.7709228469741752,-2.7920081926244715,-1.270637807527762,-2.1555400636449873,-2.4092148588340967,-1.074605115464937,-2.1736060088488323,-2.3202582410778585,-2.260756283780414,-2.762935514516264,-0.29919169063655865,-1.270036203600582,-3.4422339159242186,-1.427535860047049,-2.3114707095658096,-2.1511071719514594,-1.6758041341927843,-2.6394067230682756,-1.433296766318653,-1.9923148992584903,-1.5469547022413415,-3.3005642119111807,-3.3915220593636293,-2.791637149605172,-2.6434463006432374,-2.231454546976331,-2.8026861466320545,-0.9416787237856266,-1.5758734985130085,-3.1434623146115115,-3.423350445487677,-3.030506041531152,-3.191070031389646,-1.7512398675947014,-2.198379521172387,-1.4419998969725578,-0.9232403306433946,-1.9156080952032148,-2.0495732354368403,-0.49951147011782837,-0.5607659827198106,-2.6116465877933193,-1.8871598254970874,-0.9395294823838549,-1.47316040527198,-2.089059348166976,-2.333937673417438,-0.4293373851706946,-3.3203950122780155,-1.8518035810303304,-0.9852306103240629,-3.3750636438012007,-2.2250902550979412,-1.7230491626233995,-0.4282767524266718,-1.1030393808380612,-2.401627525229926,-2.0523442903414697,-1.937898855577648,-2.1437739379706384,-2.4082209587737693,-0.3813825341437618,-2.1452406026077147,-2.234698262835625,-1.0209994922412493,-1.323096328801864,-1.0932291386855595,-2.7874320470377496,-3.392360101813176,-0.48031874239799793,-0.35134803919444363,-1.5260837799009432,-3.412610779172686,-2.3159689318310326,-0.8663114360244656,-1.656581326389435,-2.788482297495373,-1.4252897357785868,-1.7441545600860224,-1.4234894447861701,-1.826458600031361,-2.664035915238473,-2.514592713444773,-0.9212118671092696,-2.646847959520359,-2.1093635183586628,-2.7840628831377163,-0.5214426338486382,-0.5906629566150294,-3.385628145882497,-3.460043983526296,-2.5163221659505672,-2.196287392895061,-1.3640812302325607,-2.1717850568142336,-2.1700246415409348,-2.2188377050772314,-0.9392158431937592,-2.134590093959692,-1.4034463595931579,-2.785022701959218,-3.219718473341551,-2.233010457183697,-2.5552910341982136,-3.1492908012437937,-2.2213626787663245,-1.833597045290352,-2.1635500394749756,-1.8260057566364765,-2.194308179236031,-1.1990026404193093,-1.5595606875422725,-3.168699631866126,-3.4238329104222904,-2.1424618868252545,-2.1661008482272703],\"type\":\"scatter\",\"xaxis\":\"x\",\"yaxis\":\"y\"},{\"marker\":{\"color\":[0,1,2,3,4,5,6,7,8,9,10,11,12,13,14,15,16,17,18,19,20,21,22,23,24,25,26,27,28,29,30,31,32,33,34,35,36,37,38,39,40,41,42,43,44,45,46,47,48,49,50,51,52,53,54,55,56,57,58,59,60,61,62,63,64,65,66,67,68,69,70,71,72,73,74,75,76,77,78,79,80,81,82,83,84,85,86,87,88,89,90,91,92,93,94,95,96,97,98,99,100,101,102,103,104,105,106,107,108,109,110,111,112,113,114,115,116,117,118,119,120,121,122,123,124,125,126,127,128,129,130,131,132,133,134,135,136,137,138,139,140,141,142,143,144,145,146,147,148,149,150,151,152,153,154,155,156,157,158,159,160,161,162,163,164,165,166,167,168,169,170,171,172,173,174,175,176,177,178,179,180,181,182,183,184,185,186,187,188,189,190,191,192,193,194,195,196,197,198,199,200,201],\"colorbar\":{\"title\":{\"text\":\"Trial\"},\"x\":1.0,\"xpad\":40},\"colorscale\":[[0.0,\"rgb(247,251,255)\"],[0.125,\"rgb(222,235,247)\"],[0.25,\"rgb(198,219,239)\"],[0.375,\"rgb(158,202,225)\"],[0.5,\"rgb(107,174,214)\"],[0.625,\"rgb(66,146,198)\"],[0.75,\"rgb(33,113,181)\"],[0.875,\"rgb(8,81,156)\"],[1.0,\"rgb(8,48,107)\"]],\"line\":{\"color\":\"Grey\",\"width\":0.5},\"showscale\":false},\"mode\":\"markers\",\"name\":\"Feasible Trial\",\"showlegend\":false,\"x\":[24,25,31,20,23,22,17,17,10,21,28,29,3,31,9,19,10,14,2,14,9,8,10,16,17,15,2,17,11,12,24,6,18,30,32,29,14,6,26,14,15,6,28,1,17,1,14,23,10,3,28,24,29,10,3,5,28,26,4,29,14,2,12,10,23,32,31,20,12,1,31,2,26,29,10,17,16,22,32,1,23,32,4,27,29,30,5,27,8,19,24,5,19,23,22,27,2,8,32,9,23,18,10,26,9,15,10,31,32,27,26,21,27,5,9,30,32,29,30,12,20,9,6,14,16,2,2,26,13,5,8,17,23,2,31,13,1,32,21,11,3,7,24,16,14,18,24,1,18,21,5,7,7,27,32,1,2,10,32,23,1,11,27,9,12,9,12,26,25,6,26,17,27,1,1,32,32,25,20,8,19,19,21,1,18,7,27,31,21,25,30,21,13,19,12,20,1,10,30,32,18,19],\"y\":[-2.4106863909222307,-2.519650748277333,-3.284343275829557,-2.1989724944807163,-2.3226829137249885,-2.2759861646693196,-2.1026134822151126,-2.1023286551326565,-1.5447407862361637,-2.2227363297123652,-2.9249221530653506,-3.0047030373409243,-0.5989714070341489,-3.2950556465486818,-1.5703755468415594,-2.1528563798092457,-1.5430989544029612,-1.9349474071387576,-0.49309126905191525,-1.9378370778735114,-1.447626605369622,-1.277845313534931,-1.5415914117373133,-2.0677919837123824,-2.100660057491238,-1.9989595897643908,-0.7757669119254942,-2.1005915643569386,-1.6509802073668147,-1.8304970754985224,-2.4177692444712475,-0.9200764232169153,-2.1283297161047026,-3.1931192177740657,-3.4344068514268877,-3.0465618295992742,-1.9357636422566231,-0.9344677012942256,-2.648886859849614,-1.9310625873701088,-2.0028704571799194,-0.9270178902811104,-2.9269648422619876,-0.8174499137927207,-2.100582700509782,-0.3189918350232037,-1.9329047435585427,-2.3176992384241673,-1.5609559126365269,-0.5409192779828154,-2.9269027316478837,-2.3997764422298657,-3.0377701668462542,-1.678505528475257,-0.4514125756813536,-0.8139169194148861,-2.9238423710414096,-2.686442941714101,-0.7889232839434953,-3.052164350009369,-1.905963978326422,-0.7474605655125964,-1.7539616536430405,-1.6603833684438207,-2.3310252314377182,-3.40019046039741,-3.2965808029020662,-2.196934784523615,-1.757610894076733,-0.8178541415924769,-3.3190573398121783,-1.1603152252015103,-2.626952465123625,-3.0360532606044943,-1.5387019901585268,-2.094920981263411,-2.054773333024976,-2.267074998713319,-3.4448274005432267,-0.47685443373070946,-2.3290758585383182,-3.440546185140582,-0.8275887619257715,-2.7670673232418626,-3.0401375971891724,-3.146297220372183,-0.7709228469741752,-2.7920081926244715,-1.270637807527762,-2.1555400636449873,-2.4092148588340967,-1.074605115464937,-2.1736060088488323,-2.3202582410778585,-2.260756283780414,-2.762935514516264,-0.29919169063655865,-1.270036203600582,-3.4422339159242186,-1.427535860047049,-2.3114707095658096,-2.1511071719514594,-1.6758041341927843,-2.6394067230682756,-1.433296766318653,-1.9923148992584903,-1.5469547022413415,-3.3005642119111807,-3.3915220593636293,-2.791637149605172,-2.6434463006432374,-2.231454546976331,-2.8026861466320545,-0.9416787237856266,-1.5758734985130085,-3.1434623146115115,-3.423350445487677,-3.030506041531152,-3.191070031389646,-1.7512398675947014,-2.198379521172387,-1.4419998969725578,-0.9232403306433946,-1.9156080952032148,-2.0495732354368403,-0.49951147011782837,-0.5607659827198106,-2.6116465877933193,-1.8871598254970874,-0.9395294823838549,-1.47316040527198,-2.089059348166976,-2.333937673417438,-0.4293373851706946,-3.3203950122780155,-1.8518035810303304,-0.9852306103240629,-3.3750636438012007,-2.2250902550979412,-1.7230491626233995,-0.4282767524266718,-1.1030393808380612,-2.401627525229926,-2.0523442903414697,-1.937898855577648,-2.1437739379706384,-2.4082209587737693,-0.3813825341437618,-2.1452406026077147,-2.234698262835625,-1.0209994922412493,-1.323096328801864,-1.0932291386855595,-2.7874320470377496,-3.392360101813176,-0.48031874239799793,-0.35134803919444363,-1.5260837799009432,-3.412610779172686,-2.3159689318310326,-0.8663114360244656,-1.656581326389435,-2.788482297495373,-1.4252897357785868,-1.7441545600860224,-1.4234894447861701,-1.826458600031361,-2.664035915238473,-2.514592713444773,-0.9212118671092696,-2.646847959520359,-2.1093635183586628,-2.7840628831377163,-0.5214426338486382,-0.5906629566150294,-3.385628145882497,-3.460043983526296,-2.5163221659505672,-2.196287392895061,-1.3640812302325607,-2.1717850568142336,-2.1700246415409348,-2.2188377050772314,-0.9392158431937592,-2.134590093959692,-1.4034463595931579,-2.785022701959218,-3.219718473341551,-2.233010457183697,-2.5552910341982136,-3.1492908012437937,-2.2213626787663245,-1.833597045290352,-2.1635500394749756,-1.8260057566364765,-2.194308179236031,-1.1990026404193093,-1.5595606875422725,-3.168699631866126,-3.4238329104222904,-2.1424618868252545,-2.1661008482272703],\"type\":\"scatter\",\"xaxis\":\"x2\",\"yaxis\":\"y2\"},{\"marker\":{\"color\":[0,1,2,3,4,5,6,7,8,9,10,11,12,13,14,15,16,17,18,19,20,21,22,23,24,25,26,27,28,29,30,31,32,33,34,35,36,37,38,39,40,41,42,43,44,45,46,47,48,49,50,51,52,53,54,55,56,57,58,59,60,61,62,63,64,65,66,67,68,69,70,71,72,73,74,75,76,77,78,79,80,81,82,83,84,85,86,87,88,89,90,91,92,93,94,95,96,97,98,99,100,101,102,103,104,105,106,107,108,109,110,111,112,113,114,115,116,117,118,119,120,121,122,123,124,125,126,127,128,129,130,131,132,133,134,135,136,137,138,139,140,141,142,143,144,145,146,147,148,149,150,151,152,153,154,155,156,157,158,159,160,161,162,163,164,165,166,167,168,169,170,171,172,173,174,175,176,177,178,179,180,181,182,183,184,185,186,187,188,189,190,191,192,193,194,195,196,197,198,199,200,201],\"colorbar\":{\"title\":{\"text\":\"Trial\"},\"x\":1.0,\"xpad\":40},\"colorscale\":[[0.0,\"rgb(247,251,255)\"],[0.125,\"rgb(222,235,247)\"],[0.25,\"rgb(198,219,239)\"],[0.375,\"rgb(158,202,225)\"],[0.5,\"rgb(107,174,214)\"],[0.625,\"rgb(66,146,198)\"],[0.75,\"rgb(33,113,181)\"],[0.875,\"rgb(8,81,156)\"],[1.0,\"rgb(8,48,107)\"]],\"line\":{\"color\":\"Grey\",\"width\":0.5},\"showscale\":false},\"mode\":\"markers\",\"name\":\"Feasible Trial\",\"showlegend\":false,\"x\":[21,8,23,27,30,13,21,26,4,3,8,11,14,13,27,18,4,3,12,29,20,11,16,12,11,4,20,11,3,29,5,6,9,30,2,19,6,15,4,8,2,13,26,21,16,7,16,4,19,12,14,27,8,28,7,16,2,13,19,17,26,19,21,27,31,16,3,31,5,21,29,29,4,29,3,26,4,8,31,12,6,17,20,19,21,17,12,20,2,30,25,25,10,15,3,21,4,10,3,14,22,15,29,18,18,7,19,17,21,10,5,10,25,22,27,16,14,25,26,11,8,19,11,3,17,12,14,27,30,21,28,20,2,10,12,5,25,29,30,26,2,11,14,9,25,13,10,9,8,17,24,27,8,11,10,12,7,5,31,4,22,2,2,6,13,11,29,27,27,5,9,32,29,13,15,14,10,22,9,22,13,17,16,24,27,30,8,16,29,6,19,23,25,32,28,19,30,6,11,26,26,31],\"y\":[-2.4106863909222307,-2.519650748277333,-3.284343275829557,-2.1989724944807163,-2.3226829137249885,-2.2759861646693196,-2.1026134822151126,-2.1023286551326565,-1.5447407862361637,-2.2227363297123652,-2.9249221530653506,-3.0047030373409243,-0.5989714070341489,-3.2950556465486818,-1.5703755468415594,-2.1528563798092457,-1.5430989544029612,-1.9349474071387576,-0.49309126905191525,-1.9378370778735114,-1.447626605369622,-1.277845313534931,-1.5415914117373133,-2.0677919837123824,-2.100660057491238,-1.9989595897643908,-0.7757669119254942,-2.1005915643569386,-1.6509802073668147,-1.8304970754985224,-2.4177692444712475,-0.9200764232169153,-2.1283297161047026,-3.1931192177740657,-3.4344068514268877,-3.0465618295992742,-1.9357636422566231,-0.9344677012942256,-2.648886859849614,-1.9310625873701088,-2.0028704571799194,-0.9270178902811104,-2.9269648422619876,-0.8174499137927207,-2.100582700509782,-0.3189918350232037,-1.9329047435585427,-2.3176992384241673,-1.5609559126365269,-0.5409192779828154,-2.9269027316478837,-2.3997764422298657,-3.0377701668462542,-1.678505528475257,-0.4514125756813536,-0.8139169194148861,-2.9238423710414096,-2.686442941714101,-0.7889232839434953,-3.052164350009369,-1.905963978326422,-0.7474605655125964,-1.7539616536430405,-1.6603833684438207,-2.3310252314377182,-3.40019046039741,-3.2965808029020662,-2.196934784523615,-1.757610894076733,-0.8178541415924769,-3.3190573398121783,-1.1603152252015103,-2.626952465123625,-3.0360532606044943,-1.5387019901585268,-2.094920981263411,-2.054773333024976,-2.267074998713319,-3.4448274005432267,-0.47685443373070946,-2.3290758585383182,-3.440546185140582,-0.8275887619257715,-2.7670673232418626,-3.0401375971891724,-3.146297220372183,-0.7709228469741752,-2.7920081926244715,-1.270637807527762,-2.1555400636449873,-2.4092148588340967,-1.074605115464937,-2.1736060088488323,-2.3202582410778585,-2.260756283780414,-2.762935514516264,-0.29919169063655865,-1.270036203600582,-3.4422339159242186,-1.427535860047049,-2.3114707095658096,-2.1511071719514594,-1.6758041341927843,-2.6394067230682756,-1.433296766318653,-1.9923148992584903,-1.5469547022413415,-3.3005642119111807,-3.3915220593636293,-2.791637149605172,-2.6434463006432374,-2.231454546976331,-2.8026861466320545,-0.9416787237856266,-1.5758734985130085,-3.1434623146115115,-3.423350445487677,-3.030506041531152,-3.191070031389646,-1.7512398675947014,-2.198379521172387,-1.4419998969725578,-0.9232403306433946,-1.9156080952032148,-2.0495732354368403,-0.49951147011782837,-0.5607659827198106,-2.6116465877933193,-1.8871598254970874,-0.9395294823838549,-1.47316040527198,-2.089059348166976,-2.333937673417438,-0.4293373851706946,-3.3203950122780155,-1.8518035810303304,-0.9852306103240629,-3.3750636438012007,-2.2250902550979412,-1.7230491626233995,-0.4282767524266718,-1.1030393808380612,-2.401627525229926,-2.0523442903414697,-1.937898855577648,-2.1437739379706384,-2.4082209587737693,-0.3813825341437618,-2.1452406026077147,-2.234698262835625,-1.0209994922412493,-1.323096328801864,-1.0932291386855595,-2.7874320470377496,-3.392360101813176,-0.48031874239799793,-0.35134803919444363,-1.5260837799009432,-3.412610779172686,-2.3159689318310326,-0.8663114360244656,-1.656581326389435,-2.788482297495373,-1.4252897357785868,-1.7441545600860224,-1.4234894447861701,-1.826458600031361,-2.664035915238473,-2.514592713444773,-0.9212118671092696,-2.646847959520359,-2.1093635183586628,-2.7840628831377163,-0.5214426338486382,-0.5906629566150294,-3.385628145882497,-3.460043983526296,-2.5163221659505672,-2.196287392895061,-1.3640812302325607,-2.1717850568142336,-2.1700246415409348,-2.2188377050772314,-0.9392158431937592,-2.134590093959692,-1.4034463595931579,-2.785022701959218,-3.219718473341551,-2.233010457183697,-2.5552910341982136,-3.1492908012437937,-2.2213626787663245,-1.833597045290352,-2.1635500394749756,-1.8260057566364765,-2.194308179236031,-1.1990026404193093,-1.5595606875422725,-3.168699631866126,-3.4238329104222904,-2.1424618868252545,-2.1661008482272703],\"type\":\"scatter\",\"xaxis\":\"x3\",\"yaxis\":\"y3\"},{\"marker\":{\"color\":[0,1,2,3,4,5,6,7,8,9,10,11,12,13,14,15,16,17,18,19,20,21,22,23,24,25,26,27,28,29,30,31,32,33,34,35,36,37,38,39,40,41,42,43,44,45,46,47,48,49,50,51,52,53,54,55,56,57,58,59,60,61,62,63,64,65,66,67,68,69,70,71,72,73,74,75,76,77,78,79,80,81,82,83,84,85,86,87,88,89,90,91,92,93,94,95,96,97,98,99,100,101,102,103,104,105,106,107,108,109,110,111,112,113,114,115,116,117,118,119,120,121,122,123,124,125,126,127,128,129,130,131,132,133,134,135,136,137,138,139,140,141,142,143,144,145,146,147,148,149,150,151,152,153,154,155,156,157,158,159,160,161,162,163,164,165,166,167,168,169,170,171,172,173,174,175,176,177,178,179,180,181,182,183,184,185,186,187,188,189,190,191,192,193,194,195,196,197,198,199,200,201],\"colorbar\":{\"title\":{\"text\":\"Trial\"},\"x\":1.0,\"xpad\":40},\"colorscale\":[[0.0,\"rgb(247,251,255)\"],[0.125,\"rgb(222,235,247)\"],[0.25,\"rgb(198,219,239)\"],[0.375,\"rgb(158,202,225)\"],[0.5,\"rgb(107,174,214)\"],[0.625,\"rgb(66,146,198)\"],[0.75,\"rgb(33,113,181)\"],[0.875,\"rgb(8,81,156)\"],[1.0,\"rgb(8,48,107)\"]],\"line\":{\"color\":\"Grey\",\"width\":0.5},\"showscale\":false},\"mode\":\"markers\",\"name\":\"Feasible Trial\",\"showlegend\":false,\"x\":[794,549,252,103,750,588,498,686,918,202,593,416,393,839,989,638,135,397,383,892,645,371,602,157,980,620,804,415,706,197,297,523,681,304,610,616,626,725,556,609,366,771,855,643,776,536,864,205,169,690,832,446,557,970,122,331,829,347,861,440,370,266,991,823,347,337,713,873,938,790,589,446,465,374,641,723,782,576,814,596,821,152,232,360,622,565,472,697,296,218,178,178,584,529,747,529,761,603,117,424,313,868,687,222,487,153,830,687,826,744,499,684,431,194,101,351,924,348,884,855,312,939,574,117,849,126,638,172,115,358,306,830,676,254,624,275,183,181,568,813,202,219,330,684,879,460,172,369,225,289,251,751,966,665,477,885,992,111,377,914,510,778,846,324,486,400,911,684,815,897,706,927,730,423,116,431,241,631,897,312,267,784,340,552,172,643,720,203,595,396,850,743,122,628,279,691,522,504,746,726,734,617],\"y\":[-2.4106863909222307,-2.519650748277333,-3.284343275829557,-2.1989724944807163,-2.3226829137249885,-2.2759861646693196,-2.1026134822151126,-2.1023286551326565,-1.5447407862361637,-2.2227363297123652,-2.9249221530653506,-3.0047030373409243,-0.5989714070341489,-3.2950556465486818,-1.5703755468415594,-2.1528563798092457,-1.5430989544029612,-1.9349474071387576,-0.49309126905191525,-1.9378370778735114,-1.447626605369622,-1.277845313534931,-1.5415914117373133,-2.0677919837123824,-2.100660057491238,-1.9989595897643908,-0.7757669119254942,-2.1005915643569386,-1.6509802073668147,-1.8304970754985224,-2.4177692444712475,-0.9200764232169153,-2.1283297161047026,-3.1931192177740657,-3.4344068514268877,-3.0465618295992742,-1.9357636422566231,-0.9344677012942256,-2.648886859849614,-1.9310625873701088,-2.0028704571799194,-0.9270178902811104,-2.9269648422619876,-0.8174499137927207,-2.100582700509782,-0.3189918350232037,-1.9329047435585427,-2.3176992384241673,-1.5609559126365269,-0.5409192779828154,-2.9269027316478837,-2.3997764422298657,-3.0377701668462542,-1.678505528475257,-0.4514125756813536,-0.8139169194148861,-2.9238423710414096,-2.686442941714101,-0.7889232839434953,-3.052164350009369,-1.905963978326422,-0.7474605655125964,-1.7539616536430405,-1.6603833684438207,-2.3310252314377182,-3.40019046039741,-3.2965808029020662,-2.196934784523615,-1.757610894076733,-0.8178541415924769,-3.3190573398121783,-1.1603152252015103,-2.626952465123625,-3.0360532606044943,-1.5387019901585268,-2.094920981263411,-2.054773333024976,-2.267074998713319,-3.4448274005432267,-0.47685443373070946,-2.3290758585383182,-3.440546185140582,-0.8275887619257715,-2.7670673232418626,-3.0401375971891724,-3.146297220372183,-0.7709228469741752,-2.7920081926244715,-1.270637807527762,-2.1555400636449873,-2.4092148588340967,-1.074605115464937,-2.1736060088488323,-2.3202582410778585,-2.260756283780414,-2.762935514516264,-0.29919169063655865,-1.270036203600582,-3.4422339159242186,-1.427535860047049,-2.3114707095658096,-2.1511071719514594,-1.6758041341927843,-2.6394067230682756,-1.433296766318653,-1.9923148992584903,-1.5469547022413415,-3.3005642119111807,-3.3915220593636293,-2.791637149605172,-2.6434463006432374,-2.231454546976331,-2.8026861466320545,-0.9416787237856266,-1.5758734985130085,-3.1434623146115115,-3.423350445487677,-3.030506041531152,-3.191070031389646,-1.7512398675947014,-2.198379521172387,-1.4419998969725578,-0.9232403306433946,-1.9156080952032148,-2.0495732354368403,-0.49951147011782837,-0.5607659827198106,-2.6116465877933193,-1.8871598254970874,-0.9395294823838549,-1.47316040527198,-2.089059348166976,-2.333937673417438,-0.4293373851706946,-3.3203950122780155,-1.8518035810303304,-0.9852306103240629,-3.3750636438012007,-2.2250902550979412,-1.7230491626233995,-0.4282767524266718,-1.1030393808380612,-2.401627525229926,-2.0523442903414697,-1.937898855577648,-2.1437739379706384,-2.4082209587737693,-0.3813825341437618,-2.1452406026077147,-2.234698262835625,-1.0209994922412493,-1.323096328801864,-1.0932291386855595,-2.7874320470377496,-3.392360101813176,-0.48031874239799793,-0.35134803919444363,-1.5260837799009432,-3.412610779172686,-2.3159689318310326,-0.8663114360244656,-1.656581326389435,-2.788482297495373,-1.4252897357785868,-1.7441545600860224,-1.4234894447861701,-1.826458600031361,-2.664035915238473,-2.514592713444773,-0.9212118671092696,-2.646847959520359,-2.1093635183586628,-2.7840628831377163,-0.5214426338486382,-0.5906629566150294,-3.385628145882497,-3.460043983526296,-2.5163221659505672,-2.196287392895061,-1.3640812302325607,-2.1717850568142336,-2.1700246415409348,-2.2188377050772314,-0.9392158431937592,-2.134590093959692,-1.4034463595931579,-2.785022701959218,-3.219718473341551,-2.233010457183697,-2.5552910341982136,-3.1492908012437937,-2.2213626787663245,-1.833597045290352,-2.1635500394749756,-1.8260057566364765,-2.194308179236031,-1.1990026404193093,-1.5595606875422725,-3.168699631866126,-3.4238329104222904,-2.1424618868252545,-2.1661008482272703],\"type\":\"scatter\",\"xaxis\":\"x4\",\"yaxis\":\"y4\"}],                        {\"template\":{\"data\":{\"histogram2dcontour\":[{\"type\":\"histogram2dcontour\",\"colorbar\":{\"outlinewidth\":0,\"ticks\":\"\"},\"colorscale\":[[0.0,\"#0d0887\"],[0.1111111111111111,\"#46039f\"],[0.2222222222222222,\"#7201a8\"],[0.3333333333333333,\"#9c179e\"],[0.4444444444444444,\"#bd3786\"],[0.5555555555555556,\"#d8576b\"],[0.6666666666666666,\"#ed7953\"],[0.7777777777777778,\"#fb9f3a\"],[0.8888888888888888,\"#fdca26\"],[1.0,\"#f0f921\"]]}],\"choropleth\":[{\"type\":\"choropleth\",\"colorbar\":{\"outlinewidth\":0,\"ticks\":\"\"}}],\"histogram2d\":[{\"type\":\"histogram2d\",\"colorbar\":{\"outlinewidth\":0,\"ticks\":\"\"},\"colorscale\":[[0.0,\"#0d0887\"],[0.1111111111111111,\"#46039f\"],[0.2222222222222222,\"#7201a8\"],[0.3333333333333333,\"#9c179e\"],[0.4444444444444444,\"#bd3786\"],[0.5555555555555556,\"#d8576b\"],[0.6666666666666666,\"#ed7953\"],[0.7777777777777778,\"#fb9f3a\"],[0.8888888888888888,\"#fdca26\"],[1.0,\"#f0f921\"]]}],\"heatmap\":[{\"type\":\"heatmap\",\"colorbar\":{\"outlinewidth\":0,\"ticks\":\"\"},\"colorscale\":[[0.0,\"#0d0887\"],[0.1111111111111111,\"#46039f\"],[0.2222222222222222,\"#7201a8\"],[0.3333333333333333,\"#9c179e\"],[0.4444444444444444,\"#bd3786\"],[0.5555555555555556,\"#d8576b\"],[0.6666666666666666,\"#ed7953\"],[0.7777777777777778,\"#fb9f3a\"],[0.8888888888888888,\"#fdca26\"],[1.0,\"#f0f921\"]]}],\"heatmapgl\":[{\"type\":\"heatmapgl\",\"colorbar\":{\"outlinewidth\":0,\"ticks\":\"\"},\"colorscale\":[[0.0,\"#0d0887\"],[0.1111111111111111,\"#46039f\"],[0.2222222222222222,\"#7201a8\"],[0.3333333333333333,\"#9c179e\"],[0.4444444444444444,\"#bd3786\"],[0.5555555555555556,\"#d8576b\"],[0.6666666666666666,\"#ed7953\"],[0.7777777777777778,\"#fb9f3a\"],[0.8888888888888888,\"#fdca26\"],[1.0,\"#f0f921\"]]}],\"contourcarpet\":[{\"type\":\"contourcarpet\",\"colorbar\":{\"outlinewidth\":0,\"ticks\":\"\"}}],\"contour\":[{\"type\":\"contour\",\"colorbar\":{\"outlinewidth\":0,\"ticks\":\"\"},\"colorscale\":[[0.0,\"#0d0887\"],[0.1111111111111111,\"#46039f\"],[0.2222222222222222,\"#7201a8\"],[0.3333333333333333,\"#9c179e\"],[0.4444444444444444,\"#bd3786\"],[0.5555555555555556,\"#d8576b\"],[0.6666666666666666,\"#ed7953\"],[0.7777777777777778,\"#fb9f3a\"],[0.8888888888888888,\"#fdca26\"],[1.0,\"#f0f921\"]]}],\"surface\":[{\"type\":\"surface\",\"colorbar\":{\"outlinewidth\":0,\"ticks\":\"\"},\"colorscale\":[[0.0,\"#0d0887\"],[0.1111111111111111,\"#46039f\"],[0.2222222222222222,\"#7201a8\"],[0.3333333333333333,\"#9c179e\"],[0.4444444444444444,\"#bd3786\"],[0.5555555555555556,\"#d8576b\"],[0.6666666666666666,\"#ed7953\"],[0.7777777777777778,\"#fb9f3a\"],[0.8888888888888888,\"#fdca26\"],[1.0,\"#f0f921\"]]}],\"mesh3d\":[{\"type\":\"mesh3d\",\"colorbar\":{\"outlinewidth\":0,\"ticks\":\"\"}}],\"scatter\":[{\"marker\":{\"line\":{\"color\":\"#283442\"}},\"type\":\"scatter\"}],\"parcoords\":[{\"type\":\"parcoords\",\"line\":{\"colorbar\":{\"outlinewidth\":0,\"ticks\":\"\"}}}],\"scatterpolargl\":[{\"type\":\"scatterpolargl\",\"marker\":{\"colorbar\":{\"outlinewidth\":0,\"ticks\":\"\"}}}],\"bar\":[{\"error_x\":{\"color\":\"#f2f5fa\"},\"error_y\":{\"color\":\"#f2f5fa\"},\"marker\":{\"line\":{\"color\":\"rgb(17,17,17)\",\"width\":0.5},\"pattern\":{\"fillmode\":\"overlay\",\"size\":10,\"solidity\":0.2}},\"type\":\"bar\"}],\"scattergeo\":[{\"type\":\"scattergeo\",\"marker\":{\"colorbar\":{\"outlinewidth\":0,\"ticks\":\"\"}}}],\"scatterpolar\":[{\"type\":\"scatterpolar\",\"marker\":{\"colorbar\":{\"outlinewidth\":0,\"ticks\":\"\"}}}],\"histogram\":[{\"marker\":{\"pattern\":{\"fillmode\":\"overlay\",\"size\":10,\"solidity\":0.2}},\"type\":\"histogram\"}],\"scattergl\":[{\"marker\":{\"line\":{\"color\":\"#283442\"}},\"type\":\"scattergl\"}],\"scatter3d\":[{\"type\":\"scatter3d\",\"line\":{\"colorbar\":{\"outlinewidth\":0,\"ticks\":\"\"}},\"marker\":{\"colorbar\":{\"outlinewidth\":0,\"ticks\":\"\"}}}],\"scattermapbox\":[{\"type\":\"scattermapbox\",\"marker\":{\"colorbar\":{\"outlinewidth\":0,\"ticks\":\"\"}}}],\"scatterternary\":[{\"type\":\"scatterternary\",\"marker\":{\"colorbar\":{\"outlinewidth\":0,\"ticks\":\"\"}}}],\"scattercarpet\":[{\"type\":\"scattercarpet\",\"marker\":{\"colorbar\":{\"outlinewidth\":0,\"ticks\":\"\"}}}],\"carpet\":[{\"aaxis\":{\"endlinecolor\":\"#A2B1C6\",\"gridcolor\":\"#506784\",\"linecolor\":\"#506784\",\"minorgridcolor\":\"#506784\",\"startlinecolor\":\"#A2B1C6\"},\"baxis\":{\"endlinecolor\":\"#A2B1C6\",\"gridcolor\":\"#506784\",\"linecolor\":\"#506784\",\"minorgridcolor\":\"#506784\",\"startlinecolor\":\"#A2B1C6\"},\"type\":\"carpet\"}],\"table\":[{\"cells\":{\"fill\":{\"color\":\"#506784\"},\"line\":{\"color\":\"rgb(17,17,17)\"}},\"header\":{\"fill\":{\"color\":\"#2a3f5f\"},\"line\":{\"color\":\"rgb(17,17,17)\"}},\"type\":\"table\"}],\"barpolar\":[{\"marker\":{\"line\":{\"color\":\"rgb(17,17,17)\",\"width\":0.5},\"pattern\":{\"fillmode\":\"overlay\",\"size\":10,\"solidity\":0.2}},\"type\":\"barpolar\"}],\"pie\":[{\"automargin\":true,\"type\":\"pie\"}]},\"layout\":{\"autotypenumbers\":\"strict\",\"colorway\":[\"#636efa\",\"#EF553B\",\"#00cc96\",\"#ab63fa\",\"#FFA15A\",\"#19d3f3\",\"#FF6692\",\"#B6E880\",\"#FF97FF\",\"#FECB52\"],\"font\":{\"color\":\"#f2f5fa\"},\"hovermode\":\"closest\",\"hoverlabel\":{\"align\":\"left\"},\"paper_bgcolor\":\"rgb(17,17,17)\",\"plot_bgcolor\":\"rgb(17,17,17)\",\"polar\":{\"bgcolor\":\"rgb(17,17,17)\",\"angularaxis\":{\"gridcolor\":\"#506784\",\"linecolor\":\"#506784\",\"ticks\":\"\"},\"radialaxis\":{\"gridcolor\":\"#506784\",\"linecolor\":\"#506784\",\"ticks\":\"\"}},\"ternary\":{\"bgcolor\":\"rgb(17,17,17)\",\"aaxis\":{\"gridcolor\":\"#506784\",\"linecolor\":\"#506784\",\"ticks\":\"\"},\"baxis\":{\"gridcolor\":\"#506784\",\"linecolor\":\"#506784\",\"ticks\":\"\"},\"caxis\":{\"gridcolor\":\"#506784\",\"linecolor\":\"#506784\",\"ticks\":\"\"}},\"coloraxis\":{\"colorbar\":{\"outlinewidth\":0,\"ticks\":\"\"}},\"colorscale\":{\"sequential\":[[0.0,\"#0d0887\"],[0.1111111111111111,\"#46039f\"],[0.2222222222222222,\"#7201a8\"],[0.3333333333333333,\"#9c179e\"],[0.4444444444444444,\"#bd3786\"],[0.5555555555555556,\"#d8576b\"],[0.6666666666666666,\"#ed7953\"],[0.7777777777777778,\"#fb9f3a\"],[0.8888888888888888,\"#fdca26\"],[1.0,\"#f0f921\"]],\"sequentialminus\":[[0.0,\"#0d0887\"],[0.1111111111111111,\"#46039f\"],[0.2222222222222222,\"#7201a8\"],[0.3333333333333333,\"#9c179e\"],[0.4444444444444444,\"#bd3786\"],[0.5555555555555556,\"#d8576b\"],[0.6666666666666666,\"#ed7953\"],[0.7777777777777778,\"#fb9f3a\"],[0.8888888888888888,\"#fdca26\"],[1.0,\"#f0f921\"]],\"diverging\":[[0,\"#8e0152\"],[0.1,\"#c51b7d\"],[0.2,\"#de77ae\"],[0.3,\"#f1b6da\"],[0.4,\"#fde0ef\"],[0.5,\"#f7f7f7\"],[0.6,\"#e6f5d0\"],[0.7,\"#b8e186\"],[0.8,\"#7fbc41\"],[0.9,\"#4d9221\"],[1,\"#276419\"]]},\"xaxis\":{\"gridcolor\":\"#283442\",\"linecolor\":\"#506784\",\"ticks\":\"\",\"title\":{\"standoff\":15},\"zerolinecolor\":\"#283442\",\"automargin\":true,\"zerolinewidth\":2},\"yaxis\":{\"gridcolor\":\"#283442\",\"linecolor\":\"#506784\",\"ticks\":\"\",\"title\":{\"standoff\":15},\"zerolinecolor\":\"#283442\",\"automargin\":true,\"zerolinewidth\":2},\"scene\":{\"xaxis\":{\"backgroundcolor\":\"rgb(17,17,17)\",\"gridcolor\":\"#506784\",\"linecolor\":\"#506784\",\"showbackground\":true,\"ticks\":\"\",\"zerolinecolor\":\"#C8D4E3\",\"gridwidth\":2},\"yaxis\":{\"backgroundcolor\":\"rgb(17,17,17)\",\"gridcolor\":\"#506784\",\"linecolor\":\"#506784\",\"showbackground\":true,\"ticks\":\"\",\"zerolinecolor\":\"#C8D4E3\",\"gridwidth\":2},\"zaxis\":{\"backgroundcolor\":\"rgb(17,17,17)\",\"gridcolor\":\"#506784\",\"linecolor\":\"#506784\",\"showbackground\":true,\"ticks\":\"\",\"zerolinecolor\":\"#C8D4E3\",\"gridwidth\":2}},\"shapedefaults\":{\"line\":{\"color\":\"#f2f5fa\"}},\"annotationdefaults\":{\"arrowcolor\":\"#f2f5fa\",\"arrowhead\":0,\"arrowwidth\":1},\"geo\":{\"bgcolor\":\"rgb(17,17,17)\",\"landcolor\":\"rgb(17,17,17)\",\"subunitcolor\":\"#506784\",\"showland\":true,\"showlakes\":true,\"lakecolor\":\"rgb(17,17,17)\"},\"title\":{\"x\":0.05},\"updatemenudefaults\":{\"bgcolor\":\"#506784\",\"borderwidth\":0},\"sliderdefaults\":{\"bgcolor\":\"#C8D4E3\",\"borderwidth\":1,\"bordercolor\":\"rgb(17,17,17)\",\"tickwidth\":0},\"mapbox\":{\"style\":\"dark\"}}},\"xaxis\":{\"anchor\":\"y\",\"domain\":[0.0,0.2125],\"title\":{\"text\":\"max_depth\"}},\"yaxis\":{\"anchor\":\"x\",\"domain\":[0.0,1.0],\"title\":{\"text\":\"Objective Value\"}},\"xaxis2\":{\"anchor\":\"y2\",\"domain\":[0.2625,0.475],\"title\":{\"text\":\"min_samples_leaf\"}},\"yaxis2\":{\"anchor\":\"x2\",\"domain\":[0.0,1.0],\"matches\":\"y\",\"showticklabels\":false},\"xaxis3\":{\"anchor\":\"y3\",\"domain\":[0.525,0.7375],\"title\":{\"text\":\"min_samples_split\"}},\"yaxis3\":{\"anchor\":\"x3\",\"domain\":[0.0,1.0],\"matches\":\"y\",\"showticklabels\":false},\"xaxis4\":{\"anchor\":\"y4\",\"domain\":[0.7875,1.0],\"title\":{\"text\":\"n_estimators\"}},\"yaxis4\":{\"anchor\":\"x4\",\"domain\":[0.0,1.0],\"matches\":\"y\",\"showticklabels\":false},\"title\":{\"text\":\"Slice Plot\"},\"width\":1200},                        {\"responsive\": true}                    ).then(function(){\n",
       "                            \n",
       "var gd = document.getElementById('a0690dfa-20f7-48ef-b12e-59e9c6f43afe');\n",
       "var x = new MutationObserver(function (mutations, observer) {{\n",
       "        var display = window.getComputedStyle(gd).display;\n",
       "        if (!display || display === 'none') {{\n",
       "            console.log([gd, 'removed!']);\n",
       "            Plotly.purge(gd);\n",
       "            observer.disconnect();\n",
       "        }}\n",
       "}});\n",
       "\n",
       "// Listen for the removal of the full notebook cells\n",
       "var notebookContainer = gd.closest('#notebook-container');\n",
       "if (notebookContainer) {{\n",
       "    x.observe(notebookContainer, {childList: true});\n",
       "}}\n",
       "\n",
       "// Listen for the clearing of the current output cell\n",
       "var outputEl = gd.closest('.output');\n",
       "if (outputEl) {{\n",
       "    x.observe(outputEl, {childList: true});\n",
       "}}\n",
       "\n",
       "                        })                };                });            </script>        </div>"
      ]
     },
     "metadata": {},
     "output_type": "display_data"
    }
   ],
   "execution_count": 19
  },
  {
   "metadata": {
    "ExecuteTime": {
     "end_time": "2024-11-04T20:00:34.232402Z",
     "start_time": "2024-11-04T20:00:26.256466Z"
    }
   },
   "cell_type": "code",
   "source": "optuna.visualization.plot_param_importances(study)",
   "id": "16a7783381b3e8d5",
   "outputs": [
    {
     "data": {
      "application/vnd.plotly.v1+json": {
       "data": [
        {
         "cliponaxis": false,
         "hovertemplate": [
          "max_depth (IntDistribution): 2.419294173443932e-05<extra></extra>",
          "n_estimators (IntDistribution): 7.681338002446734e-05<extra></extra>",
          "min_samples_split (IntDistribution): 0.0032527616317493367<extra></extra>",
          "min_samples_leaf (IntDistribution): 0.9966462320464917<extra></extra>"
         ],
         "name": "Objective Value",
         "orientation": "h",
         "text": [
          "<0.01",
          "<0.01",
          "<0.01",
          "1.00"
         ],
         "textposition": "outside",
         "x": [
          2.419294173443932E-5,
          7.681338002446734E-5,
          0.0032527616317493367,
          0.9966462320464917
         ],
         "y": [
          "max_depth",
          "n_estimators",
          "min_samples_split",
          "min_samples_leaf"
         ],
         "type": "bar"
        }
       ],
       "layout": {
        "title": {
         "text": "Hyperparameter Importances"
        },
        "xaxis": {
         "title": {
          "text": "Hyperparameter Importance"
         }
        },
        "yaxis": {
         "title": {
          "text": "Hyperparameter"
         }
        },
        "template": {
         "data": {
          "histogram2dcontour": [
           {
            "type": "histogram2dcontour",
            "colorbar": {
             "outlinewidth": 0,
             "ticks": ""
            },
            "colorscale": [
             [
              0.0,
              "#0d0887"
             ],
             [
              0.1111111111111111,
              "#46039f"
             ],
             [
              0.2222222222222222,
              "#7201a8"
             ],
             [
              0.3333333333333333,
              "#9c179e"
             ],
             [
              0.4444444444444444,
              "#bd3786"
             ],
             [
              0.5555555555555556,
              "#d8576b"
             ],
             [
              0.6666666666666666,
              "#ed7953"
             ],
             [
              0.7777777777777778,
              "#fb9f3a"
             ],
             [
              0.8888888888888888,
              "#fdca26"
             ],
             [
              1.0,
              "#f0f921"
             ]
            ]
           }
          ],
          "choropleth": [
           {
            "type": "choropleth",
            "colorbar": {
             "outlinewidth": 0,
             "ticks": ""
            }
           }
          ],
          "histogram2d": [
           {
            "type": "histogram2d",
            "colorbar": {
             "outlinewidth": 0,
             "ticks": ""
            },
            "colorscale": [
             [
              0.0,
              "#0d0887"
             ],
             [
              0.1111111111111111,
              "#46039f"
             ],
             [
              0.2222222222222222,
              "#7201a8"
             ],
             [
              0.3333333333333333,
              "#9c179e"
             ],
             [
              0.4444444444444444,
              "#bd3786"
             ],
             [
              0.5555555555555556,
              "#d8576b"
             ],
             [
              0.6666666666666666,
              "#ed7953"
             ],
             [
              0.7777777777777778,
              "#fb9f3a"
             ],
             [
              0.8888888888888888,
              "#fdca26"
             ],
             [
              1.0,
              "#f0f921"
             ]
            ]
           }
          ],
          "heatmap": [
           {
            "type": "heatmap",
            "colorbar": {
             "outlinewidth": 0,
             "ticks": ""
            },
            "colorscale": [
             [
              0.0,
              "#0d0887"
             ],
             [
              0.1111111111111111,
              "#46039f"
             ],
             [
              0.2222222222222222,
              "#7201a8"
             ],
             [
              0.3333333333333333,
              "#9c179e"
             ],
             [
              0.4444444444444444,
              "#bd3786"
             ],
             [
              0.5555555555555556,
              "#d8576b"
             ],
             [
              0.6666666666666666,
              "#ed7953"
             ],
             [
              0.7777777777777778,
              "#fb9f3a"
             ],
             [
              0.8888888888888888,
              "#fdca26"
             ],
             [
              1.0,
              "#f0f921"
             ]
            ]
           }
          ],
          "heatmapgl": [
           {
            "type": "heatmapgl",
            "colorbar": {
             "outlinewidth": 0,
             "ticks": ""
            },
            "colorscale": [
             [
              0.0,
              "#0d0887"
             ],
             [
              0.1111111111111111,
              "#46039f"
             ],
             [
              0.2222222222222222,
              "#7201a8"
             ],
             [
              0.3333333333333333,
              "#9c179e"
             ],
             [
              0.4444444444444444,
              "#bd3786"
             ],
             [
              0.5555555555555556,
              "#d8576b"
             ],
             [
              0.6666666666666666,
              "#ed7953"
             ],
             [
              0.7777777777777778,
              "#fb9f3a"
             ],
             [
              0.8888888888888888,
              "#fdca26"
             ],
             [
              1.0,
              "#f0f921"
             ]
            ]
           }
          ],
          "contourcarpet": [
           {
            "type": "contourcarpet",
            "colorbar": {
             "outlinewidth": 0,
             "ticks": ""
            }
           }
          ],
          "contour": [
           {
            "type": "contour",
            "colorbar": {
             "outlinewidth": 0,
             "ticks": ""
            },
            "colorscale": [
             [
              0.0,
              "#0d0887"
             ],
             [
              0.1111111111111111,
              "#46039f"
             ],
             [
              0.2222222222222222,
              "#7201a8"
             ],
             [
              0.3333333333333333,
              "#9c179e"
             ],
             [
              0.4444444444444444,
              "#bd3786"
             ],
             [
              0.5555555555555556,
              "#d8576b"
             ],
             [
              0.6666666666666666,
              "#ed7953"
             ],
             [
              0.7777777777777778,
              "#fb9f3a"
             ],
             [
              0.8888888888888888,
              "#fdca26"
             ],
             [
              1.0,
              "#f0f921"
             ]
            ]
           }
          ],
          "surface": [
           {
            "type": "surface",
            "colorbar": {
             "outlinewidth": 0,
             "ticks": ""
            },
            "colorscale": [
             [
              0.0,
              "#0d0887"
             ],
             [
              0.1111111111111111,
              "#46039f"
             ],
             [
              0.2222222222222222,
              "#7201a8"
             ],
             [
              0.3333333333333333,
              "#9c179e"
             ],
             [
              0.4444444444444444,
              "#bd3786"
             ],
             [
              0.5555555555555556,
              "#d8576b"
             ],
             [
              0.6666666666666666,
              "#ed7953"
             ],
             [
              0.7777777777777778,
              "#fb9f3a"
             ],
             [
              0.8888888888888888,
              "#fdca26"
             ],
             [
              1.0,
              "#f0f921"
             ]
            ]
           }
          ],
          "mesh3d": [
           {
            "type": "mesh3d",
            "colorbar": {
             "outlinewidth": 0,
             "ticks": ""
            }
           }
          ],
          "scatter": [
           {
            "marker": {
             "line": {
              "color": "#283442"
             }
            },
            "type": "scatter"
           }
          ],
          "parcoords": [
           {
            "type": "parcoords",
            "line": {
             "colorbar": {
              "outlinewidth": 0,
              "ticks": ""
             }
            }
           }
          ],
          "scatterpolargl": [
           {
            "type": "scatterpolargl",
            "marker": {
             "colorbar": {
              "outlinewidth": 0,
              "ticks": ""
             }
            }
           }
          ],
          "bar": [
           {
            "error_x": {
             "color": "#f2f5fa"
            },
            "error_y": {
             "color": "#f2f5fa"
            },
            "marker": {
             "line": {
              "color": "rgb(17,17,17)",
              "width": 0.5
             },
             "pattern": {
              "fillmode": "overlay",
              "size": 10,
              "solidity": 0.2
             }
            },
            "type": "bar"
           }
          ],
          "scattergeo": [
           {
            "type": "scattergeo",
            "marker": {
             "colorbar": {
              "outlinewidth": 0,
              "ticks": ""
             }
            }
           }
          ],
          "scatterpolar": [
           {
            "type": "scatterpolar",
            "marker": {
             "colorbar": {
              "outlinewidth": 0,
              "ticks": ""
             }
            }
           }
          ],
          "histogram": [
           {
            "marker": {
             "pattern": {
              "fillmode": "overlay",
              "size": 10,
              "solidity": 0.2
             }
            },
            "type": "histogram"
           }
          ],
          "scattergl": [
           {
            "marker": {
             "line": {
              "color": "#283442"
             }
            },
            "type": "scattergl"
           }
          ],
          "scatter3d": [
           {
            "type": "scatter3d",
            "line": {
             "colorbar": {
              "outlinewidth": 0,
              "ticks": ""
             }
            },
            "marker": {
             "colorbar": {
              "outlinewidth": 0,
              "ticks": ""
             }
            }
           }
          ],
          "scattermapbox": [
           {
            "type": "scattermapbox",
            "marker": {
             "colorbar": {
              "outlinewidth": 0,
              "ticks": ""
             }
            }
           }
          ],
          "scatterternary": [
           {
            "type": "scatterternary",
            "marker": {
             "colorbar": {
              "outlinewidth": 0,
              "ticks": ""
             }
            }
           }
          ],
          "scattercarpet": [
           {
            "type": "scattercarpet",
            "marker": {
             "colorbar": {
              "outlinewidth": 0,
              "ticks": ""
             }
            }
           }
          ],
          "carpet": [
           {
            "aaxis": {
             "endlinecolor": "#A2B1C6",
             "gridcolor": "#506784",
             "linecolor": "#506784",
             "minorgridcolor": "#506784",
             "startlinecolor": "#A2B1C6"
            },
            "baxis": {
             "endlinecolor": "#A2B1C6",
             "gridcolor": "#506784",
             "linecolor": "#506784",
             "minorgridcolor": "#506784",
             "startlinecolor": "#A2B1C6"
            },
            "type": "carpet"
           }
          ],
          "table": [
           {
            "cells": {
             "fill": {
              "color": "#506784"
             },
             "line": {
              "color": "rgb(17,17,17)"
             }
            },
            "header": {
             "fill": {
              "color": "#2a3f5f"
             },
             "line": {
              "color": "rgb(17,17,17)"
             }
            },
            "type": "table"
           }
          ],
          "barpolar": [
           {
            "marker": {
             "line": {
              "color": "rgb(17,17,17)",
              "width": 0.5
             },
             "pattern": {
              "fillmode": "overlay",
              "size": 10,
              "solidity": 0.2
             }
            },
            "type": "barpolar"
           }
          ],
          "pie": [
           {
            "automargin": true,
            "type": "pie"
           }
          ]
         },
         "layout": {
          "autotypenumbers": "strict",
          "colorway": [
           "#636efa",
           "#EF553B",
           "#00cc96",
           "#ab63fa",
           "#FFA15A",
           "#19d3f3",
           "#FF6692",
           "#B6E880",
           "#FF97FF",
           "#FECB52"
          ],
          "font": {
           "color": "#f2f5fa"
          },
          "hovermode": "closest",
          "hoverlabel": {
           "align": "left"
          },
          "paper_bgcolor": "rgb(17,17,17)",
          "plot_bgcolor": "rgb(17,17,17)",
          "polar": {
           "bgcolor": "rgb(17,17,17)",
           "angularaxis": {
            "gridcolor": "#506784",
            "linecolor": "#506784",
            "ticks": ""
           },
           "radialaxis": {
            "gridcolor": "#506784",
            "linecolor": "#506784",
            "ticks": ""
           }
          },
          "ternary": {
           "bgcolor": "rgb(17,17,17)",
           "aaxis": {
            "gridcolor": "#506784",
            "linecolor": "#506784",
            "ticks": ""
           },
           "baxis": {
            "gridcolor": "#506784",
            "linecolor": "#506784",
            "ticks": ""
           },
           "caxis": {
            "gridcolor": "#506784",
            "linecolor": "#506784",
            "ticks": ""
           }
          },
          "coloraxis": {
           "colorbar": {
            "outlinewidth": 0,
            "ticks": ""
           }
          },
          "colorscale": {
           "sequential": [
            [
             0.0,
             "#0d0887"
            ],
            [
             0.1111111111111111,
             "#46039f"
            ],
            [
             0.2222222222222222,
             "#7201a8"
            ],
            [
             0.3333333333333333,
             "#9c179e"
            ],
            [
             0.4444444444444444,
             "#bd3786"
            ],
            [
             0.5555555555555556,
             "#d8576b"
            ],
            [
             0.6666666666666666,
             "#ed7953"
            ],
            [
             0.7777777777777778,
             "#fb9f3a"
            ],
            [
             0.8888888888888888,
             "#fdca26"
            ],
            [
             1.0,
             "#f0f921"
            ]
           ],
           "sequentialminus": [
            [
             0.0,
             "#0d0887"
            ],
            [
             0.1111111111111111,
             "#46039f"
            ],
            [
             0.2222222222222222,
             "#7201a8"
            ],
            [
             0.3333333333333333,
             "#9c179e"
            ],
            [
             0.4444444444444444,
             "#bd3786"
            ],
            [
             0.5555555555555556,
             "#d8576b"
            ],
            [
             0.6666666666666666,
             "#ed7953"
            ],
            [
             0.7777777777777778,
             "#fb9f3a"
            ],
            [
             0.8888888888888888,
             "#fdca26"
            ],
            [
             1.0,
             "#f0f921"
            ]
           ],
           "diverging": [
            [
             0,
             "#8e0152"
            ],
            [
             0.1,
             "#c51b7d"
            ],
            [
             0.2,
             "#de77ae"
            ],
            [
             0.3,
             "#f1b6da"
            ],
            [
             0.4,
             "#fde0ef"
            ],
            [
             0.5,
             "#f7f7f7"
            ],
            [
             0.6,
             "#e6f5d0"
            ],
            [
             0.7,
             "#b8e186"
            ],
            [
             0.8,
             "#7fbc41"
            ],
            [
             0.9,
             "#4d9221"
            ],
            [
             1,
             "#276419"
            ]
           ]
          },
          "xaxis": {
           "gridcolor": "#283442",
           "linecolor": "#506784",
           "ticks": "",
           "title": {
            "standoff": 15
           },
           "zerolinecolor": "#283442",
           "automargin": true,
           "zerolinewidth": 2
          },
          "yaxis": {
           "gridcolor": "#283442",
           "linecolor": "#506784",
           "ticks": "",
           "title": {
            "standoff": 15
           },
           "zerolinecolor": "#283442",
           "automargin": true,
           "zerolinewidth": 2
          },
          "scene": {
           "xaxis": {
            "backgroundcolor": "rgb(17,17,17)",
            "gridcolor": "#506784",
            "linecolor": "#506784",
            "showbackground": true,
            "ticks": "",
            "zerolinecolor": "#C8D4E3",
            "gridwidth": 2
           },
           "yaxis": {
            "backgroundcolor": "rgb(17,17,17)",
            "gridcolor": "#506784",
            "linecolor": "#506784",
            "showbackground": true,
            "ticks": "",
            "zerolinecolor": "#C8D4E3",
            "gridwidth": 2
           },
           "zaxis": {
            "backgroundcolor": "rgb(17,17,17)",
            "gridcolor": "#506784",
            "linecolor": "#506784",
            "showbackground": true,
            "ticks": "",
            "zerolinecolor": "#C8D4E3",
            "gridwidth": 2
           }
          },
          "shapedefaults": {
           "line": {
            "color": "#f2f5fa"
           }
          },
          "annotationdefaults": {
           "arrowcolor": "#f2f5fa",
           "arrowhead": 0,
           "arrowwidth": 1
          },
          "geo": {
           "bgcolor": "rgb(17,17,17)",
           "landcolor": "rgb(17,17,17)",
           "subunitcolor": "#506784",
           "showland": true,
           "showlakes": true,
           "lakecolor": "rgb(17,17,17)"
          },
          "title": {
           "x": 0.05
          },
          "updatemenudefaults": {
           "bgcolor": "#506784",
           "borderwidth": 0
          },
          "sliderdefaults": {
           "bgcolor": "#C8D4E3",
           "borderwidth": 1,
           "bordercolor": "rgb(17,17,17)",
           "tickwidth": 0
          },
          "mapbox": {
           "style": "dark"
          }
         }
        }
       },
       "config": {
        "plotlyServerURL": "https://plot.ly"
       }
      },
      "text/html": [
       "<div>                            <div id=\"2a1f7479-c3bb-420b-b919-7c5a9e2e68c0\" class=\"plotly-graph-div\" style=\"height:525px; width:100%;\"></div>            <script type=\"text/javascript\">                require([\"plotly\"], function(Plotly) {                    window.PLOTLYENV=window.PLOTLYENV || {};                                    if (document.getElementById(\"2a1f7479-c3bb-420b-b919-7c5a9e2e68c0\")) {                    Plotly.newPlot(                        \"2a1f7479-c3bb-420b-b919-7c5a9e2e68c0\",                        [{\"cliponaxis\":false,\"hovertemplate\":[\"max_depth (IntDistribution): 2.419294173443932e-05\\u003cextra\\u003e\\u003c\\u002fextra\\u003e\",\"n_estimators (IntDistribution): 7.681338002446734e-05\\u003cextra\\u003e\\u003c\\u002fextra\\u003e\",\"min_samples_split (IntDistribution): 0.0032527616317493367\\u003cextra\\u003e\\u003c\\u002fextra\\u003e\",\"min_samples_leaf (IntDistribution): 0.9966462320464917\\u003cextra\\u003e\\u003c\\u002fextra\\u003e\"],\"name\":\"Objective Value\",\"orientation\":\"h\",\"text\":[\"\\u003c0.01\",\"\\u003c0.01\",\"\\u003c0.01\",\"1.00\"],\"textposition\":\"outside\",\"x\":[2.419294173443932e-05,7.681338002446734e-05,0.0032527616317493367,0.9966462320464917],\"y\":[\"max_depth\",\"n_estimators\",\"min_samples_split\",\"min_samples_leaf\"],\"type\":\"bar\"}],                        {\"title\":{\"text\":\"Hyperparameter Importances\"},\"xaxis\":{\"title\":{\"text\":\"Hyperparameter Importance\"}},\"yaxis\":{\"title\":{\"text\":\"Hyperparameter\"}},\"template\":{\"data\":{\"histogram2dcontour\":[{\"type\":\"histogram2dcontour\",\"colorbar\":{\"outlinewidth\":0,\"ticks\":\"\"},\"colorscale\":[[0.0,\"#0d0887\"],[0.1111111111111111,\"#46039f\"],[0.2222222222222222,\"#7201a8\"],[0.3333333333333333,\"#9c179e\"],[0.4444444444444444,\"#bd3786\"],[0.5555555555555556,\"#d8576b\"],[0.6666666666666666,\"#ed7953\"],[0.7777777777777778,\"#fb9f3a\"],[0.8888888888888888,\"#fdca26\"],[1.0,\"#f0f921\"]]}],\"choropleth\":[{\"type\":\"choropleth\",\"colorbar\":{\"outlinewidth\":0,\"ticks\":\"\"}}],\"histogram2d\":[{\"type\":\"histogram2d\",\"colorbar\":{\"outlinewidth\":0,\"ticks\":\"\"},\"colorscale\":[[0.0,\"#0d0887\"],[0.1111111111111111,\"#46039f\"],[0.2222222222222222,\"#7201a8\"],[0.3333333333333333,\"#9c179e\"],[0.4444444444444444,\"#bd3786\"],[0.5555555555555556,\"#d8576b\"],[0.6666666666666666,\"#ed7953\"],[0.7777777777777778,\"#fb9f3a\"],[0.8888888888888888,\"#fdca26\"],[1.0,\"#f0f921\"]]}],\"heatmap\":[{\"type\":\"heatmap\",\"colorbar\":{\"outlinewidth\":0,\"ticks\":\"\"},\"colorscale\":[[0.0,\"#0d0887\"],[0.1111111111111111,\"#46039f\"],[0.2222222222222222,\"#7201a8\"],[0.3333333333333333,\"#9c179e\"],[0.4444444444444444,\"#bd3786\"],[0.5555555555555556,\"#d8576b\"],[0.6666666666666666,\"#ed7953\"],[0.7777777777777778,\"#fb9f3a\"],[0.8888888888888888,\"#fdca26\"],[1.0,\"#f0f921\"]]}],\"heatmapgl\":[{\"type\":\"heatmapgl\",\"colorbar\":{\"outlinewidth\":0,\"ticks\":\"\"},\"colorscale\":[[0.0,\"#0d0887\"],[0.1111111111111111,\"#46039f\"],[0.2222222222222222,\"#7201a8\"],[0.3333333333333333,\"#9c179e\"],[0.4444444444444444,\"#bd3786\"],[0.5555555555555556,\"#d8576b\"],[0.6666666666666666,\"#ed7953\"],[0.7777777777777778,\"#fb9f3a\"],[0.8888888888888888,\"#fdca26\"],[1.0,\"#f0f921\"]]}],\"contourcarpet\":[{\"type\":\"contourcarpet\",\"colorbar\":{\"outlinewidth\":0,\"ticks\":\"\"}}],\"contour\":[{\"type\":\"contour\",\"colorbar\":{\"outlinewidth\":0,\"ticks\":\"\"},\"colorscale\":[[0.0,\"#0d0887\"],[0.1111111111111111,\"#46039f\"],[0.2222222222222222,\"#7201a8\"],[0.3333333333333333,\"#9c179e\"],[0.4444444444444444,\"#bd3786\"],[0.5555555555555556,\"#d8576b\"],[0.6666666666666666,\"#ed7953\"],[0.7777777777777778,\"#fb9f3a\"],[0.8888888888888888,\"#fdca26\"],[1.0,\"#f0f921\"]]}],\"surface\":[{\"type\":\"surface\",\"colorbar\":{\"outlinewidth\":0,\"ticks\":\"\"},\"colorscale\":[[0.0,\"#0d0887\"],[0.1111111111111111,\"#46039f\"],[0.2222222222222222,\"#7201a8\"],[0.3333333333333333,\"#9c179e\"],[0.4444444444444444,\"#bd3786\"],[0.5555555555555556,\"#d8576b\"],[0.6666666666666666,\"#ed7953\"],[0.7777777777777778,\"#fb9f3a\"],[0.8888888888888888,\"#fdca26\"],[1.0,\"#f0f921\"]]}],\"mesh3d\":[{\"type\":\"mesh3d\",\"colorbar\":{\"outlinewidth\":0,\"ticks\":\"\"}}],\"scatter\":[{\"marker\":{\"line\":{\"color\":\"#283442\"}},\"type\":\"scatter\"}],\"parcoords\":[{\"type\":\"parcoords\",\"line\":{\"colorbar\":{\"outlinewidth\":0,\"ticks\":\"\"}}}],\"scatterpolargl\":[{\"type\":\"scatterpolargl\",\"marker\":{\"colorbar\":{\"outlinewidth\":0,\"ticks\":\"\"}}}],\"bar\":[{\"error_x\":{\"color\":\"#f2f5fa\"},\"error_y\":{\"color\":\"#f2f5fa\"},\"marker\":{\"line\":{\"color\":\"rgb(17,17,17)\",\"width\":0.5},\"pattern\":{\"fillmode\":\"overlay\",\"size\":10,\"solidity\":0.2}},\"type\":\"bar\"}],\"scattergeo\":[{\"type\":\"scattergeo\",\"marker\":{\"colorbar\":{\"outlinewidth\":0,\"ticks\":\"\"}}}],\"scatterpolar\":[{\"type\":\"scatterpolar\",\"marker\":{\"colorbar\":{\"outlinewidth\":0,\"ticks\":\"\"}}}],\"histogram\":[{\"marker\":{\"pattern\":{\"fillmode\":\"overlay\",\"size\":10,\"solidity\":0.2}},\"type\":\"histogram\"}],\"scattergl\":[{\"marker\":{\"line\":{\"color\":\"#283442\"}},\"type\":\"scattergl\"}],\"scatter3d\":[{\"type\":\"scatter3d\",\"line\":{\"colorbar\":{\"outlinewidth\":0,\"ticks\":\"\"}},\"marker\":{\"colorbar\":{\"outlinewidth\":0,\"ticks\":\"\"}}}],\"scattermapbox\":[{\"type\":\"scattermapbox\",\"marker\":{\"colorbar\":{\"outlinewidth\":0,\"ticks\":\"\"}}}],\"scatterternary\":[{\"type\":\"scatterternary\",\"marker\":{\"colorbar\":{\"outlinewidth\":0,\"ticks\":\"\"}}}],\"scattercarpet\":[{\"type\":\"scattercarpet\",\"marker\":{\"colorbar\":{\"outlinewidth\":0,\"ticks\":\"\"}}}],\"carpet\":[{\"aaxis\":{\"endlinecolor\":\"#A2B1C6\",\"gridcolor\":\"#506784\",\"linecolor\":\"#506784\",\"minorgridcolor\":\"#506784\",\"startlinecolor\":\"#A2B1C6\"},\"baxis\":{\"endlinecolor\":\"#A2B1C6\",\"gridcolor\":\"#506784\",\"linecolor\":\"#506784\",\"minorgridcolor\":\"#506784\",\"startlinecolor\":\"#A2B1C6\"},\"type\":\"carpet\"}],\"table\":[{\"cells\":{\"fill\":{\"color\":\"#506784\"},\"line\":{\"color\":\"rgb(17,17,17)\"}},\"header\":{\"fill\":{\"color\":\"#2a3f5f\"},\"line\":{\"color\":\"rgb(17,17,17)\"}},\"type\":\"table\"}],\"barpolar\":[{\"marker\":{\"line\":{\"color\":\"rgb(17,17,17)\",\"width\":0.5},\"pattern\":{\"fillmode\":\"overlay\",\"size\":10,\"solidity\":0.2}},\"type\":\"barpolar\"}],\"pie\":[{\"automargin\":true,\"type\":\"pie\"}]},\"layout\":{\"autotypenumbers\":\"strict\",\"colorway\":[\"#636efa\",\"#EF553B\",\"#00cc96\",\"#ab63fa\",\"#FFA15A\",\"#19d3f3\",\"#FF6692\",\"#B6E880\",\"#FF97FF\",\"#FECB52\"],\"font\":{\"color\":\"#f2f5fa\"},\"hovermode\":\"closest\",\"hoverlabel\":{\"align\":\"left\"},\"paper_bgcolor\":\"rgb(17,17,17)\",\"plot_bgcolor\":\"rgb(17,17,17)\",\"polar\":{\"bgcolor\":\"rgb(17,17,17)\",\"angularaxis\":{\"gridcolor\":\"#506784\",\"linecolor\":\"#506784\",\"ticks\":\"\"},\"radialaxis\":{\"gridcolor\":\"#506784\",\"linecolor\":\"#506784\",\"ticks\":\"\"}},\"ternary\":{\"bgcolor\":\"rgb(17,17,17)\",\"aaxis\":{\"gridcolor\":\"#506784\",\"linecolor\":\"#506784\",\"ticks\":\"\"},\"baxis\":{\"gridcolor\":\"#506784\",\"linecolor\":\"#506784\",\"ticks\":\"\"},\"caxis\":{\"gridcolor\":\"#506784\",\"linecolor\":\"#506784\",\"ticks\":\"\"}},\"coloraxis\":{\"colorbar\":{\"outlinewidth\":0,\"ticks\":\"\"}},\"colorscale\":{\"sequential\":[[0.0,\"#0d0887\"],[0.1111111111111111,\"#46039f\"],[0.2222222222222222,\"#7201a8\"],[0.3333333333333333,\"#9c179e\"],[0.4444444444444444,\"#bd3786\"],[0.5555555555555556,\"#d8576b\"],[0.6666666666666666,\"#ed7953\"],[0.7777777777777778,\"#fb9f3a\"],[0.8888888888888888,\"#fdca26\"],[1.0,\"#f0f921\"]],\"sequentialminus\":[[0.0,\"#0d0887\"],[0.1111111111111111,\"#46039f\"],[0.2222222222222222,\"#7201a8\"],[0.3333333333333333,\"#9c179e\"],[0.4444444444444444,\"#bd3786\"],[0.5555555555555556,\"#d8576b\"],[0.6666666666666666,\"#ed7953\"],[0.7777777777777778,\"#fb9f3a\"],[0.8888888888888888,\"#fdca26\"],[1.0,\"#f0f921\"]],\"diverging\":[[0,\"#8e0152\"],[0.1,\"#c51b7d\"],[0.2,\"#de77ae\"],[0.3,\"#f1b6da\"],[0.4,\"#fde0ef\"],[0.5,\"#f7f7f7\"],[0.6,\"#e6f5d0\"],[0.7,\"#b8e186\"],[0.8,\"#7fbc41\"],[0.9,\"#4d9221\"],[1,\"#276419\"]]},\"xaxis\":{\"gridcolor\":\"#283442\",\"linecolor\":\"#506784\",\"ticks\":\"\",\"title\":{\"standoff\":15},\"zerolinecolor\":\"#283442\",\"automargin\":true,\"zerolinewidth\":2},\"yaxis\":{\"gridcolor\":\"#283442\",\"linecolor\":\"#506784\",\"ticks\":\"\",\"title\":{\"standoff\":15},\"zerolinecolor\":\"#283442\",\"automargin\":true,\"zerolinewidth\":2},\"scene\":{\"xaxis\":{\"backgroundcolor\":\"rgb(17,17,17)\",\"gridcolor\":\"#506784\",\"linecolor\":\"#506784\",\"showbackground\":true,\"ticks\":\"\",\"zerolinecolor\":\"#C8D4E3\",\"gridwidth\":2},\"yaxis\":{\"backgroundcolor\":\"rgb(17,17,17)\",\"gridcolor\":\"#506784\",\"linecolor\":\"#506784\",\"showbackground\":true,\"ticks\":\"\",\"zerolinecolor\":\"#C8D4E3\",\"gridwidth\":2},\"zaxis\":{\"backgroundcolor\":\"rgb(17,17,17)\",\"gridcolor\":\"#506784\",\"linecolor\":\"#506784\",\"showbackground\":true,\"ticks\":\"\",\"zerolinecolor\":\"#C8D4E3\",\"gridwidth\":2}},\"shapedefaults\":{\"line\":{\"color\":\"#f2f5fa\"}},\"annotationdefaults\":{\"arrowcolor\":\"#f2f5fa\",\"arrowhead\":0,\"arrowwidth\":1},\"geo\":{\"bgcolor\":\"rgb(17,17,17)\",\"landcolor\":\"rgb(17,17,17)\",\"subunitcolor\":\"#506784\",\"showland\":true,\"showlakes\":true,\"lakecolor\":\"rgb(17,17,17)\"},\"title\":{\"x\":0.05},\"updatemenudefaults\":{\"bgcolor\":\"#506784\",\"borderwidth\":0},\"sliderdefaults\":{\"bgcolor\":\"#C8D4E3\",\"borderwidth\":1,\"bordercolor\":\"rgb(17,17,17)\",\"tickwidth\":0},\"mapbox\":{\"style\":\"dark\"}}}},                        {\"responsive\": true}                    ).then(function(){\n",
       "                            \n",
       "var gd = document.getElementById('2a1f7479-c3bb-420b-b919-7c5a9e2e68c0');\n",
       "var x = new MutationObserver(function (mutations, observer) {{\n",
       "        var display = window.getComputedStyle(gd).display;\n",
       "        if (!display || display === 'none') {{\n",
       "            console.log([gd, 'removed!']);\n",
       "            Plotly.purge(gd);\n",
       "            observer.disconnect();\n",
       "        }}\n",
       "}});\n",
       "\n",
       "// Listen for the removal of the full notebook cells\n",
       "var notebookContainer = gd.closest('#notebook-container');\n",
       "if (notebookContainer) {{\n",
       "    x.observe(notebookContainer, {childList: true});\n",
       "}}\n",
       "\n",
       "// Listen for the clearing of the current output cell\n",
       "var outputEl = gd.closest('.output');\n",
       "if (outputEl) {{\n",
       "    x.observe(outputEl, {childList: true});\n",
       "}}\n",
       "\n",
       "                        })                };                });            </script>        </div>"
      ]
     },
     "metadata": {},
     "output_type": "display_data"
    }
   ],
   "execution_count": 20
  },
  {
   "metadata": {
    "ExecuteTime": {
     "end_time": "2024-11-04T20:02:40.448248Z",
     "start_time": "2024-11-04T20:02:40.421131Z"
    }
   },
   "cell_type": "code",
   "source": [
    "best_n_estimators = best_params['n_estimators']\n",
    "best_max_depth = best_params['max_depth']\n",
    "best_min_samples_split = best_params['min_samples_split']\n",
    "best_min_samples_leaf = best_params['min_samples_leaf']"
   ],
   "id": "892fa3cd2e680268",
   "outputs": [],
   "execution_count": 21
  },
  {
   "metadata": {
    "ExecuteTime": {
     "end_time": "2024-11-04T20:03:35.861373Z",
     "start_time": "2024-11-04T20:03:35.853622Z"
    }
   },
   "cell_type": "code",
   "source": [
    "best_model = RandomForestRegressor(n_estimators=best_n_estimators,\n",
    "                                   max_depth=best_max_depth,\n",
    "                                   min_samples_leaf= best_min_samples_leaf,\n",
    "                                   min_samples_split= best_min_samples_split)"
   ],
   "id": "fd6a4e5da93f2044",
   "outputs": [],
   "execution_count": 22
  },
  {
   "metadata": {
    "ExecuteTime": {
     "end_time": "2024-11-04T20:03:51.366356Z",
     "start_time": "2024-11-04T20:03:49.022909Z"
    }
   },
   "cell_type": "code",
   "source": "best_model.fit(X_train, y_train)",
   "id": "d34419dae69bb1f8",
   "outputs": [
    {
     "data": {
      "text/plain": [
       "RandomForestRegressor(max_depth=11, min_samples_leaf=2, min_samples_split=4,\n",
       "                      n_estimators=761)"
      ],
      "text/html": [
       "<style>#sk-container-id-2 {\n",
       "  /* Definition of color scheme common for light and dark mode */\n",
       "  --sklearn-color-text: black;\n",
       "  --sklearn-color-line: gray;\n",
       "  /* Definition of color scheme for unfitted estimators */\n",
       "  --sklearn-color-unfitted-level-0: #fff5e6;\n",
       "  --sklearn-color-unfitted-level-1: #f6e4d2;\n",
       "  --sklearn-color-unfitted-level-2: #ffe0b3;\n",
       "  --sklearn-color-unfitted-level-3: chocolate;\n",
       "  /* Definition of color scheme for fitted estimators */\n",
       "  --sklearn-color-fitted-level-0: #f0f8ff;\n",
       "  --sklearn-color-fitted-level-1: #d4ebff;\n",
       "  --sklearn-color-fitted-level-2: #b3dbfd;\n",
       "  --sklearn-color-fitted-level-3: cornflowerblue;\n",
       "\n",
       "  /* Specific color for light theme */\n",
       "  --sklearn-color-text-on-default-background: var(--sg-text-color, var(--theme-code-foreground, var(--jp-content-font-color1, black)));\n",
       "  --sklearn-color-background: var(--sg-background-color, var(--theme-background, var(--jp-layout-color0, white)));\n",
       "  --sklearn-color-border-box: var(--sg-text-color, var(--theme-code-foreground, var(--jp-content-font-color1, black)));\n",
       "  --sklearn-color-icon: #696969;\n",
       "\n",
       "  @media (prefers-color-scheme: dark) {\n",
       "    /* Redefinition of color scheme for dark theme */\n",
       "    --sklearn-color-text-on-default-background: var(--sg-text-color, var(--theme-code-foreground, var(--jp-content-font-color1, white)));\n",
       "    --sklearn-color-background: var(--sg-background-color, var(--theme-background, var(--jp-layout-color0, #111)));\n",
       "    --sklearn-color-border-box: var(--sg-text-color, var(--theme-code-foreground, var(--jp-content-font-color1, white)));\n",
       "    --sklearn-color-icon: #878787;\n",
       "  }\n",
       "}\n",
       "\n",
       "#sk-container-id-2 {\n",
       "  color: var(--sklearn-color-text);\n",
       "}\n",
       "\n",
       "#sk-container-id-2 pre {\n",
       "  padding: 0;\n",
       "}\n",
       "\n",
       "#sk-container-id-2 input.sk-hidden--visually {\n",
       "  border: 0;\n",
       "  clip: rect(1px 1px 1px 1px);\n",
       "  clip: rect(1px, 1px, 1px, 1px);\n",
       "  height: 1px;\n",
       "  margin: -1px;\n",
       "  overflow: hidden;\n",
       "  padding: 0;\n",
       "  position: absolute;\n",
       "  width: 1px;\n",
       "}\n",
       "\n",
       "#sk-container-id-2 div.sk-dashed-wrapped {\n",
       "  border: 1px dashed var(--sklearn-color-line);\n",
       "  margin: 0 0.4em 0.5em 0.4em;\n",
       "  box-sizing: border-box;\n",
       "  padding-bottom: 0.4em;\n",
       "  background-color: var(--sklearn-color-background);\n",
       "}\n",
       "\n",
       "#sk-container-id-2 div.sk-container {\n",
       "  /* jupyter's `normalize.less` sets `[hidden] { display: none; }`\n",
       "     but bootstrap.min.css set `[hidden] { display: none !important; }`\n",
       "     so we also need the `!important` here to be able to override the\n",
       "     default hidden behavior on the sphinx rendered scikit-learn.org.\n",
       "     See: https://github.com/scikit-learn/scikit-learn/issues/21755 */\n",
       "  display: inline-block !important;\n",
       "  position: relative;\n",
       "}\n",
       "\n",
       "#sk-container-id-2 div.sk-text-repr-fallback {\n",
       "  display: none;\n",
       "}\n",
       "\n",
       "div.sk-parallel-item,\n",
       "div.sk-serial,\n",
       "div.sk-item {\n",
       "  /* draw centered vertical line to link estimators */\n",
       "  background-image: linear-gradient(var(--sklearn-color-text-on-default-background), var(--sklearn-color-text-on-default-background));\n",
       "  background-size: 2px 100%;\n",
       "  background-repeat: no-repeat;\n",
       "  background-position: center center;\n",
       "}\n",
       "\n",
       "/* Parallel-specific style estimator block */\n",
       "\n",
       "#sk-container-id-2 div.sk-parallel-item::after {\n",
       "  content: \"\";\n",
       "  width: 100%;\n",
       "  border-bottom: 2px solid var(--sklearn-color-text-on-default-background);\n",
       "  flex-grow: 1;\n",
       "}\n",
       "\n",
       "#sk-container-id-2 div.sk-parallel {\n",
       "  display: flex;\n",
       "  align-items: stretch;\n",
       "  justify-content: center;\n",
       "  background-color: var(--sklearn-color-background);\n",
       "  position: relative;\n",
       "}\n",
       "\n",
       "#sk-container-id-2 div.sk-parallel-item {\n",
       "  display: flex;\n",
       "  flex-direction: column;\n",
       "}\n",
       "\n",
       "#sk-container-id-2 div.sk-parallel-item:first-child::after {\n",
       "  align-self: flex-end;\n",
       "  width: 50%;\n",
       "}\n",
       "\n",
       "#sk-container-id-2 div.sk-parallel-item:last-child::after {\n",
       "  align-self: flex-start;\n",
       "  width: 50%;\n",
       "}\n",
       "\n",
       "#sk-container-id-2 div.sk-parallel-item:only-child::after {\n",
       "  width: 0;\n",
       "}\n",
       "\n",
       "/* Serial-specific style estimator block */\n",
       "\n",
       "#sk-container-id-2 div.sk-serial {\n",
       "  display: flex;\n",
       "  flex-direction: column;\n",
       "  align-items: center;\n",
       "  background-color: var(--sklearn-color-background);\n",
       "  padding-right: 1em;\n",
       "  padding-left: 1em;\n",
       "}\n",
       "\n",
       "\n",
       "/* Toggleable style: style used for estimator/Pipeline/ColumnTransformer box that is\n",
       "clickable and can be expanded/collapsed.\n",
       "- Pipeline and ColumnTransformer use this feature and define the default style\n",
       "- Estimators will overwrite some part of the style using the `sk-estimator` class\n",
       "*/\n",
       "\n",
       "/* Pipeline and ColumnTransformer style (default) */\n",
       "\n",
       "#sk-container-id-2 div.sk-toggleable {\n",
       "  /* Default theme specific background. It is overwritten whether we have a\n",
       "  specific estimator or a Pipeline/ColumnTransformer */\n",
       "  background-color: var(--sklearn-color-background);\n",
       "}\n",
       "\n",
       "/* Toggleable label */\n",
       "#sk-container-id-2 label.sk-toggleable__label {\n",
       "  cursor: pointer;\n",
       "  display: block;\n",
       "  width: 100%;\n",
       "  margin-bottom: 0;\n",
       "  padding: 0.5em;\n",
       "  box-sizing: border-box;\n",
       "  text-align: center;\n",
       "}\n",
       "\n",
       "#sk-container-id-2 label.sk-toggleable__label-arrow:before {\n",
       "  /* Arrow on the left of the label */\n",
       "  content: \"▸\";\n",
       "  float: left;\n",
       "  margin-right: 0.25em;\n",
       "  color: var(--sklearn-color-icon);\n",
       "}\n",
       "\n",
       "#sk-container-id-2 label.sk-toggleable__label-arrow:hover:before {\n",
       "  color: var(--sklearn-color-text);\n",
       "}\n",
       "\n",
       "/* Toggleable content - dropdown */\n",
       "\n",
       "#sk-container-id-2 div.sk-toggleable__content {\n",
       "  max-height: 0;\n",
       "  max-width: 0;\n",
       "  overflow: hidden;\n",
       "  text-align: left;\n",
       "  /* unfitted */\n",
       "  background-color: var(--sklearn-color-unfitted-level-0);\n",
       "}\n",
       "\n",
       "#sk-container-id-2 div.sk-toggleable__content.fitted {\n",
       "  /* fitted */\n",
       "  background-color: var(--sklearn-color-fitted-level-0);\n",
       "}\n",
       "\n",
       "#sk-container-id-2 div.sk-toggleable__content pre {\n",
       "  margin: 0.2em;\n",
       "  border-radius: 0.25em;\n",
       "  color: var(--sklearn-color-text);\n",
       "  /* unfitted */\n",
       "  background-color: var(--sklearn-color-unfitted-level-0);\n",
       "}\n",
       "\n",
       "#sk-container-id-2 div.sk-toggleable__content.fitted pre {\n",
       "  /* unfitted */\n",
       "  background-color: var(--sklearn-color-fitted-level-0);\n",
       "}\n",
       "\n",
       "#sk-container-id-2 input.sk-toggleable__control:checked~div.sk-toggleable__content {\n",
       "  /* Expand drop-down */\n",
       "  max-height: 200px;\n",
       "  max-width: 100%;\n",
       "  overflow: auto;\n",
       "}\n",
       "\n",
       "#sk-container-id-2 input.sk-toggleable__control:checked~label.sk-toggleable__label-arrow:before {\n",
       "  content: \"▾\";\n",
       "}\n",
       "\n",
       "/* Pipeline/ColumnTransformer-specific style */\n",
       "\n",
       "#sk-container-id-2 div.sk-label input.sk-toggleable__control:checked~label.sk-toggleable__label {\n",
       "  color: var(--sklearn-color-text);\n",
       "  background-color: var(--sklearn-color-unfitted-level-2);\n",
       "}\n",
       "\n",
       "#sk-container-id-2 div.sk-label.fitted input.sk-toggleable__control:checked~label.sk-toggleable__label {\n",
       "  background-color: var(--sklearn-color-fitted-level-2);\n",
       "}\n",
       "\n",
       "/* Estimator-specific style */\n",
       "\n",
       "/* Colorize estimator box */\n",
       "#sk-container-id-2 div.sk-estimator input.sk-toggleable__control:checked~label.sk-toggleable__label {\n",
       "  /* unfitted */\n",
       "  background-color: var(--sklearn-color-unfitted-level-2);\n",
       "}\n",
       "\n",
       "#sk-container-id-2 div.sk-estimator.fitted input.sk-toggleable__control:checked~label.sk-toggleable__label {\n",
       "  /* fitted */\n",
       "  background-color: var(--sklearn-color-fitted-level-2);\n",
       "}\n",
       "\n",
       "#sk-container-id-2 div.sk-label label.sk-toggleable__label,\n",
       "#sk-container-id-2 div.sk-label label {\n",
       "  /* The background is the default theme color */\n",
       "  color: var(--sklearn-color-text-on-default-background);\n",
       "}\n",
       "\n",
       "/* On hover, darken the color of the background */\n",
       "#sk-container-id-2 div.sk-label:hover label.sk-toggleable__label {\n",
       "  color: var(--sklearn-color-text);\n",
       "  background-color: var(--sklearn-color-unfitted-level-2);\n",
       "}\n",
       "\n",
       "/* Label box, darken color on hover, fitted */\n",
       "#sk-container-id-2 div.sk-label.fitted:hover label.sk-toggleable__label.fitted {\n",
       "  color: var(--sklearn-color-text);\n",
       "  background-color: var(--sklearn-color-fitted-level-2);\n",
       "}\n",
       "\n",
       "/* Estimator label */\n",
       "\n",
       "#sk-container-id-2 div.sk-label label {\n",
       "  font-family: monospace;\n",
       "  font-weight: bold;\n",
       "  display: inline-block;\n",
       "  line-height: 1.2em;\n",
       "}\n",
       "\n",
       "#sk-container-id-2 div.sk-label-container {\n",
       "  text-align: center;\n",
       "}\n",
       "\n",
       "/* Estimator-specific */\n",
       "#sk-container-id-2 div.sk-estimator {\n",
       "  font-family: monospace;\n",
       "  border: 1px dotted var(--sklearn-color-border-box);\n",
       "  border-radius: 0.25em;\n",
       "  box-sizing: border-box;\n",
       "  margin-bottom: 0.5em;\n",
       "  /* unfitted */\n",
       "  background-color: var(--sklearn-color-unfitted-level-0);\n",
       "}\n",
       "\n",
       "#sk-container-id-2 div.sk-estimator.fitted {\n",
       "  /* fitted */\n",
       "  background-color: var(--sklearn-color-fitted-level-0);\n",
       "}\n",
       "\n",
       "/* on hover */\n",
       "#sk-container-id-2 div.sk-estimator:hover {\n",
       "  /* unfitted */\n",
       "  background-color: var(--sklearn-color-unfitted-level-2);\n",
       "}\n",
       "\n",
       "#sk-container-id-2 div.sk-estimator.fitted:hover {\n",
       "  /* fitted */\n",
       "  background-color: var(--sklearn-color-fitted-level-2);\n",
       "}\n",
       "\n",
       "/* Specification for estimator info (e.g. \"i\" and \"?\") */\n",
       "\n",
       "/* Common style for \"i\" and \"?\" */\n",
       "\n",
       ".sk-estimator-doc-link,\n",
       "a:link.sk-estimator-doc-link,\n",
       "a:visited.sk-estimator-doc-link {\n",
       "  float: right;\n",
       "  font-size: smaller;\n",
       "  line-height: 1em;\n",
       "  font-family: monospace;\n",
       "  background-color: var(--sklearn-color-background);\n",
       "  border-radius: 1em;\n",
       "  height: 1em;\n",
       "  width: 1em;\n",
       "  text-decoration: none !important;\n",
       "  margin-left: 1ex;\n",
       "  /* unfitted */\n",
       "  border: var(--sklearn-color-unfitted-level-1) 1pt solid;\n",
       "  color: var(--sklearn-color-unfitted-level-1);\n",
       "}\n",
       "\n",
       ".sk-estimator-doc-link.fitted,\n",
       "a:link.sk-estimator-doc-link.fitted,\n",
       "a:visited.sk-estimator-doc-link.fitted {\n",
       "  /* fitted */\n",
       "  border: var(--sklearn-color-fitted-level-1) 1pt solid;\n",
       "  color: var(--sklearn-color-fitted-level-1);\n",
       "}\n",
       "\n",
       "/* On hover */\n",
       "div.sk-estimator:hover .sk-estimator-doc-link:hover,\n",
       ".sk-estimator-doc-link:hover,\n",
       "div.sk-label-container:hover .sk-estimator-doc-link:hover,\n",
       ".sk-estimator-doc-link:hover {\n",
       "  /* unfitted */\n",
       "  background-color: var(--sklearn-color-unfitted-level-3);\n",
       "  color: var(--sklearn-color-background);\n",
       "  text-decoration: none;\n",
       "}\n",
       "\n",
       "div.sk-estimator.fitted:hover .sk-estimator-doc-link.fitted:hover,\n",
       ".sk-estimator-doc-link.fitted:hover,\n",
       "div.sk-label-container:hover .sk-estimator-doc-link.fitted:hover,\n",
       ".sk-estimator-doc-link.fitted:hover {\n",
       "  /* fitted */\n",
       "  background-color: var(--sklearn-color-fitted-level-3);\n",
       "  color: var(--sklearn-color-background);\n",
       "  text-decoration: none;\n",
       "}\n",
       "\n",
       "/* Span, style for the box shown on hovering the info icon */\n",
       ".sk-estimator-doc-link span {\n",
       "  display: none;\n",
       "  z-index: 9999;\n",
       "  position: relative;\n",
       "  font-weight: normal;\n",
       "  right: .2ex;\n",
       "  padding: .5ex;\n",
       "  margin: .5ex;\n",
       "  width: min-content;\n",
       "  min-width: 20ex;\n",
       "  max-width: 50ex;\n",
       "  color: var(--sklearn-color-text);\n",
       "  box-shadow: 2pt 2pt 4pt #999;\n",
       "  /* unfitted */\n",
       "  background: var(--sklearn-color-unfitted-level-0);\n",
       "  border: .5pt solid var(--sklearn-color-unfitted-level-3);\n",
       "}\n",
       "\n",
       ".sk-estimator-doc-link.fitted span {\n",
       "  /* fitted */\n",
       "  background: var(--sklearn-color-fitted-level-0);\n",
       "  border: var(--sklearn-color-fitted-level-3);\n",
       "}\n",
       "\n",
       ".sk-estimator-doc-link:hover span {\n",
       "  display: block;\n",
       "}\n",
       "\n",
       "/* \"?\"-specific style due to the `<a>` HTML tag */\n",
       "\n",
       "#sk-container-id-2 a.estimator_doc_link {\n",
       "  float: right;\n",
       "  font-size: 1rem;\n",
       "  line-height: 1em;\n",
       "  font-family: monospace;\n",
       "  background-color: var(--sklearn-color-background);\n",
       "  border-radius: 1rem;\n",
       "  height: 1rem;\n",
       "  width: 1rem;\n",
       "  text-decoration: none;\n",
       "  /* unfitted */\n",
       "  color: var(--sklearn-color-unfitted-level-1);\n",
       "  border: var(--sklearn-color-unfitted-level-1) 1pt solid;\n",
       "}\n",
       "\n",
       "#sk-container-id-2 a.estimator_doc_link.fitted {\n",
       "  /* fitted */\n",
       "  border: var(--sklearn-color-fitted-level-1) 1pt solid;\n",
       "  color: var(--sklearn-color-fitted-level-1);\n",
       "}\n",
       "\n",
       "/* On hover */\n",
       "#sk-container-id-2 a.estimator_doc_link:hover {\n",
       "  /* unfitted */\n",
       "  background-color: var(--sklearn-color-unfitted-level-3);\n",
       "  color: var(--sklearn-color-background);\n",
       "  text-decoration: none;\n",
       "}\n",
       "\n",
       "#sk-container-id-2 a.estimator_doc_link.fitted:hover {\n",
       "  /* fitted */\n",
       "  background-color: var(--sklearn-color-fitted-level-3);\n",
       "}\n",
       "</style><div id=\"sk-container-id-2\" class=\"sk-top-container\"><div class=\"sk-text-repr-fallback\"><pre>RandomForestRegressor(max_depth=11, min_samples_leaf=2, min_samples_split=4,\n",
       "                      n_estimators=761)</pre><b>In a Jupyter environment, please rerun this cell to show the HTML representation or trust the notebook. <br />On GitHub, the HTML representation is unable to render, please try loading this page with nbviewer.org.</b></div><div class=\"sk-container\" hidden><div class=\"sk-item\"><div class=\"sk-estimator fitted sk-toggleable\"><input class=\"sk-toggleable__control sk-hidden--visually\" id=\"sk-estimator-id-2\" type=\"checkbox\" checked><label for=\"sk-estimator-id-2\" class=\"sk-toggleable__label fitted sk-toggleable__label-arrow fitted\">&nbsp;&nbsp;RandomForestRegressor<a class=\"sk-estimator-doc-link fitted\" rel=\"noreferrer\" target=\"_blank\" href=\"https://scikit-learn.org/1.5/modules/generated/sklearn.ensemble.RandomForestRegressor.html\">?<span>Documentation for RandomForestRegressor</span></a><span class=\"sk-estimator-doc-link fitted\">i<span>Fitted</span></span></label><div class=\"sk-toggleable__content fitted\"><pre>RandomForestRegressor(max_depth=11, min_samples_leaf=2, min_samples_split=4,\n",
       "                      n_estimators=761)</pre></div> </div></div></div></div>"
      ]
     },
     "execution_count": 23,
     "metadata": {},
     "output_type": "execute_result"
    }
   ],
   "execution_count": 23
  },
  {
   "metadata": {
    "ExecuteTime": {
     "end_time": "2024-11-04T20:05:00.107042Z",
     "start_time": "2024-11-04T20:04:59.984021Z"
    }
   },
   "cell_type": "code",
   "source": "y_pred = best_model.predict(X_test)",
   "id": "5418069bba9d9cee",
   "outputs": [],
   "execution_count": 26
  },
  {
   "metadata": {
    "ExecuteTime": {
     "end_time": "2024-11-04T20:05:00.856102Z",
     "start_time": "2024-11-04T20:05:00.844295Z"
    }
   },
   "cell_type": "code",
   "source": "r2_score(y_test,y_pred)",
   "id": "3a58d8559f76874a",
   "outputs": [
    {
     "data": {
      "text/plain": [
       "0.9796014130432554"
      ]
     },
     "execution_count": 27,
     "metadata": {},
     "output_type": "execute_result"
    }
   ],
   "execution_count": 27
  },
  {
   "metadata": {
    "ExecuteTime": {
     "end_time": "2024-11-04T20:05:02.139905Z",
     "start_time": "2024-11-04T20:05:02.121330Z"
    }
   },
   "cell_type": "code",
   "source": "mean_absolute_error(y_test,y_pred)",
   "id": "f5f03608f4afe582",
   "outputs": [
    {
     "data": {
      "text/plain": [
       "np.float64(0.3600282103314219)"
      ]
     },
     "execution_count": 28,
     "metadata": {},
     "output_type": "execute_result"
    }
   ],
   "execution_count": 28
  },
  {
   "metadata": {
    "ExecuteTime": {
     "end_time": "2024-11-04T20:05:02.739587Z",
     "start_time": "2024-11-04T20:05:02.716442Z"
    }
   },
   "cell_type": "code",
   "source": "mean_squared_error(y_test,y_pred)",
   "id": "8bc3d073ce421d20",
   "outputs": [
    {
     "data": {
      "text/plain": [
       "np.float64(0.20465238075250547)"
      ]
     },
     "execution_count": 29,
     "metadata": {},
     "output_type": "execute_result"
    }
   ],
   "execution_count": 29
  },
  {
   "metadata": {},
   "cell_type": "code",
   "outputs": [],
   "execution_count": null,
   "source": "",
   "id": "92a373d5bfc77ea9"
  }
 ],
 "metadata": {
  "kernelspec": {
   "display_name": "Python 3",
   "language": "python",
   "name": "python3"
  },
  "language_info": {
   "codemirror_mode": {
    "name": "ipython",
    "version": 2
   },
   "file_extension": ".py",
   "mimetype": "text/x-python",
   "name": "python",
   "nbconvert_exporter": "python",
   "pygments_lexer": "ipython2",
   "version": "2.7.6"
  }
 },
 "nbformat": 4,
 "nbformat_minor": 5
}
